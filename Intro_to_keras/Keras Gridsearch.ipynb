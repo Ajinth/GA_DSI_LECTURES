{
 "cells": [
  {
   "cell_type": "code",
   "execution_count": 1,
   "metadata": {},
   "outputs": [
    {
     "name": "stderr",
     "output_type": "stream",
     "text": [
      "Using TensorFlow backend.\n",
      "/Users/ajinthchristudas/anaconda/lib/python3.6/importlib/_bootstrap.py:205: RuntimeWarning: compiletime version 3.5 of module 'tensorflow.python.framework.fast_tensor_util' does not match runtime version 3.6\n",
      "  return f(*args, **kwds)\n",
      "/Users/ajinthchristudas/anaconda/lib/python3.6/site-packages/sklearn/cross_validation.py:41: DeprecationWarning: This module was deprecated in version 0.18 in favor of the model_selection module into which all the refactored classes and functions are moved. Also note that the interface of the new CV iterators are different from that of this module. This module will be removed in 0.20.\n",
      "  \"This module will be removed in 0.20.\", DeprecationWarning)\n"
     ]
    }
   ],
   "source": [
    "from sklearn.datasets import load_boston, load_breast_cancer, load_iris, fetch_lfw_people\n",
    "\n",
    "from keras.models import Sequential\n",
    "from keras.layers import Dense, Dropout\n",
    "from keras import losses\n",
    "from sklearn.pipeline import Pipeline\n",
    "\n",
    "from sklearn.cross_validation import train_test_split\n",
    "from sklearn.preprocessing import StandardScaler, LabelEncoder\n",
    "from keras.utils import to_categorical\n",
    "\n",
    "from keras.models import Sequential\n",
    "from keras.layers import Dense, Dropout, Conv2D, MaxPool2D, Flatten\n",
    "from keras.wrappers.scikit_learn import KerasClassifier\n",
    "from sklearn.model_selection import GridSearchCV\n",
    "\n",
    "\n",
    "import matplotlib.pyplot as plt \n",
    "%matplotlib inline"
   ]
  },
  {
   "cell_type": "markdown",
   "metadata": {},
   "source": [
    "# Breast Cancer Classification"
   ]
  },
  {
   "cell_type": "code",
   "execution_count": 2,
   "metadata": {
    "collapsed": true
   },
   "outputs": [],
   "source": [
    "data = load_breast_cancer()"
   ]
  },
  {
   "cell_type": "markdown",
   "metadata": {},
   "source": [
    "# Invert the Data"
   ]
  },
  {
   "cell_type": "code",
   "execution_count": 3,
   "metadata": {
    "collapsed": true
   },
   "outputs": [],
   "source": [
    "target = data.target* -1 + 1  "
   ]
  },
  {
   "cell_type": "code",
   "execution_count": 4,
   "metadata": {
    "collapsed": true
   },
   "outputs": [],
   "source": [
    "X = data.data\n",
    "y = data.target"
   ]
  },
  {
   "cell_type": "code",
   "execution_count": 5,
   "metadata": {
    "collapsed": true
   },
   "outputs": [],
   "source": [
    "X_train, X_test, y_train, y_test = train_test_split(X,y, test_size=0.2)\n",
    "\n",
    "ss = StandardScaler()\n",
    "ss_fit = ss.fit(X_train)\n",
    "\n",
    "X_train = ss_fit.transform(X_train)\n",
    "X_test = ss_fit.transform(X_test)"
   ]
  },
  {
   "cell_type": "code",
   "execution_count": 6,
   "metadata": {
    "collapsed": true
   },
   "outputs": [],
   "source": [
    "def model_funk():\n",
    "    model = Sequential()\n",
    "    model.add(Dense(X_train.shape[1], input_dim=X_train.shape[1], activation='relu'))\n",
    "    model.add(Dense(1, activation='sigmoid'))\n",
    "    \n",
    "    model.compile(loss='binary_crossentropy', optimizer='adam', metrics=['accuracy'])\n",
    "    \n",
    "    return model"
   ]
  },
  {
   "cell_type": "code",
   "execution_count": 7,
   "metadata": {},
   "outputs": [
    {
     "name": "stdout",
     "output_type": "stream",
     "text": [
      "0.942857142464\n",
      "{'epochs': 10}\n"
     ]
    }
   ],
   "source": [
    "ff_model = KerasClassifier(build_fn=model_funk, epochs=10, verbose=0)\n",
    "\n",
    "params = {\n",
    "    'epochs': [10]\n",
    "} \n",
    "gs = GridSearchCV(ff_model, param_grid=params)\n",
    "gs.fit(X_train, y_train)\n",
    "print (gs.best_score_)\n",
    "print (gs.best_params_)"
   ]
  },
  {
   "cell_type": "markdown",
   "metadata": {},
   "source": [
    "# Pure Function and Grid Search "
   ]
  },
  {
   "cell_type": "code",
   "execution_count": 8,
   "metadata": {},
   "outputs": [
    {
     "name": "stdout",
     "output_type": "stream",
     "text": [
      "0.95164834536\n",
      "{'batch_size': 50, 'epochs': 10, 'layer_one_neurons': 30, 'layer_three_neurons': 12, 'layer_two_neurons': 18}\n"
     ]
    }
   ],
   "source": [
    "def model_funk(input_dim=30, layer_one_neurons=30,layer_two_neurons=18, layer_three_neurons=8):\n",
    "    model = Sequential()\n",
    "    \n",
    "    model.add(Dense(layer_one_neurons, input_dim=input_dim, activation='relu'))\n",
    "    model.add(Dense(layer_two_neurons, activation='relu'))\n",
    "    model.add(Dense(layer_three_neurons, activation='relu'))\n",
    "    \n",
    "    model.add(Dense(1, activation='sigmoid'))\n",
    "    \n",
    "    model.compile(loss='binary_crossentropy', optimizer='adam', metrics=['accuracy'])\n",
    "    \n",
    "    return model\n",
    "\n",
    "\n",
    "\n",
    "\n",
    "ff_model = KerasClassifier(build_fn=model_funk, verbose=0, input_dim=X_train.shape[1])\n",
    "\n",
    "params = {\n",
    "    'epochs': [10], \n",
    "    'batch_size': [50],\n",
    "    'layer_one_neurons': [30], \n",
    "    'layer_two_neurons': [18],\n",
    "    'layer_three_neurons': [6,8,12]\n",
    "}\n",
    "\n",
    "gs = GridSearchCV(ff_model, param_grid=params)\n",
    "gs.fit(X_train, y_train)\n",
    "print(gs.best_score_)\n",
    "print(gs.best_params_)"
   ]
  },
  {
   "cell_type": "markdown",
   "metadata": {},
   "source": [
    "# Pipeline "
   ]
  },
  {
   "cell_type": "code",
   "execution_count": 9,
   "metadata": {},
   "outputs": [
    {
     "name": "stdout",
     "output_type": "stream",
     "text": [
      "0.940659331751\n",
      "{'ff_model__batch_size': 50, 'ff_model__epochs': 5, 'ff_model__layer_one_neurons': 20, 'ff_model__layer_two_neurons': 50}\n"
     ]
    }
   ],
   "source": [
    "def model_funk(input_dim=30, layer_one_neurons=30, layer_two_neurons=20):\n",
    "    model = Sequential()\n",
    "    model.add(Dense(layer_one_neurons, input_dim=input_dim, activation='relu'))\n",
    "    model.add(Dense(layer_two_neurons, activation='relu'))\n",
    "    model.add(Dense(1, activation='sigmoid'))\n",
    "    \n",
    "    model.compile(loss='binary_crossentropy', optimizer='adam', metrics=['accuracy'])\n",
    "    \n",
    "    return model\n",
    "\n",
    "\n",
    "\n",
    "\n",
    "ff_model = KerasClassifier(build_fn=model_funk, verbose=0, input_dim=X_train.shape[1])\n",
    "\n",
    "\n",
    "pipe = Pipeline([\n",
    "    ('ss', StandardScaler()),\n",
    "    ('ff_model', ff_model)\n",
    "])\n",
    "\n",
    "\n",
    "params = {\n",
    "    'ff_model__epochs': [5],\n",
    "    'ff_model__batch_size': [50],\n",
    "    'ff_model__layer_one_neurons': [20, 30],\n",
    "    'ff_model__layer_two_neurons': [30, 50]\n",
    "}\n",
    "\n",
    "gs = GridSearchCV(pipe, param_grid=params)\n",
    "gs.fit(X_train, y_train)\n",
    "print(gs.best_score_)\n",
    "print(gs.best_params_)"
   ]
  },
  {
   "cell_type": "code",
   "execution_count": 10,
   "metadata": {},
   "outputs": [
    {
     "data": {
      "text/plain": [
       "0.92105262739616522"
      ]
     },
     "execution_count": 10,
     "metadata": {},
     "output_type": "execute_result"
    }
   ],
   "source": [
    "gs.score(X_test, y_test)"
   ]
  },
  {
   "cell_type": "markdown",
   "metadata": {},
   "source": [
    "# CNN "
   ]
  },
  {
   "cell_type": "code",
   "execution_count": 11,
   "metadata": {
    "collapsed": true
   },
   "outputs": [],
   "source": [
    "data= fetch_lfw_people(min_faces_per_person=70)\n",
    "\n",
    "y = to_categorical(data.target)\n",
    "X = data.data\n",
    "\n",
    "X_train, X_test, y_train, y_test = train_test_split(data.data, y )\n",
    "\n",
    "X_train = X_train.reshape(X_train.shape[0],62,47,1)\n",
    "X_test = X_test.reshape(X_test.shape[0],62,47,1)\n",
    "\n",
    "X_train = X_train/255.\n",
    "X_test = X_test/255."
   ]
  },
  {
   "cell_type": "code",
   "execution_count": 12,
   "metadata": {},
   "outputs": [
    {
     "data": {
      "text/plain": [
       "<matplotlib.image.AxesImage at 0x13211bf60>"
      ]
     },
     "execution_count": 12,
     "metadata": {},
     "output_type": "execute_result"
    },
    {
     "data": {
      "image/png": "[encoded data removed]",
      "text/plain": [
       "<matplotlib.figure.Figure at 0x124464978>"
      ]
     },
     "metadata": {},
     "output_type": "display_data"
    }
   ],
   "source": [
    "plt.imshow(data.images[0])"
   ]
  },
  {
   "cell_type": "code",
   "execution_count": 13,
   "metadata": {},
   "outputs": [
    {
     "name": "stdout",
     "output_type": "stream",
     "text": [
      "Train on 966 samples, validate on 322 samples\n",
      "Epoch 1/5\n",
      "966/966 [==============================] - 3s 3ms/step - loss: 1.7095 - acc: 0.3996 - val_loss: 1.6612 - val_acc: 0.4037\n",
      "Epoch 2/5\n",
      "966/966 [==============================] - 2s 2ms/step - loss: 1.6426 - acc: 0.4161 - val_loss: 1.6179 - val_acc: 0.4037\n",
      "Epoch 3/5\n",
      "966/966 [==============================] - 2s 2ms/step - loss: 1.5606 - acc: 0.4337 - val_loss: 1.4663 - val_acc: 0.4720\n",
      "Epoch 4/5\n",
      "966/966 [==============================] - 2s 2ms/step - loss: 1.3660 - acc: 0.5259 - val_loss: 1.3031 - val_acc: 0.5155\n",
      "Epoch 5/5\n",
      "966/966 [==============================] - 2s 2ms/step - loss: 1.1319 - acc: 0.5828 - val_loss: 1.0968 - val_acc: 0.6366\n"
     ]
    },
    {
     "data": {
      "text/plain": [
       "<keras.callbacks.History at 0x13218e588>"
      ]
     },
     "execution_count": 13,
     "metadata": {},
     "output_type": "execute_result"
    }
   ],
   "source": [
    "model = Sequential()\n",
    "model.add(Conv2D(15, (5, 5), input_shape=(62, 47, 1), activation='relu'))\n",
    "model.add(MaxPool2D((2,2)))\n",
    "model.add(Conv2D(30, (4,4), activation='relu'))\n",
    "model.add(MaxPool2D((2, 2)))\n",
    "model.add(Flatten())\n",
    "model.add(Dense(50, activation='relu'))\n",
    "model.add(Dense(y.shape[1], activation='softmax'))\n",
    "\n",
    "model.compile(optimizer='adam', loss='categorical_crossentropy', metrics=['accuracy'])\n",
    "\n",
    "\n",
    "model.fit(X_train, y_train, validation_data=(X_test, y_test), epochs=5)"
   ]
  },
  {
   "cell_type": "code",
   "execution_count": null,
   "metadata": {},
   "outputs": [],
   "source": []
  },
  {
   "cell_type": "code",
   "execution_count": null,
   "metadata": {
    "collapsed": true
   },
   "outputs": [],
   "source": []
  }
 ],
 "metadata": {
  "kernelspec": {
   "display_name": "Python 3",
   "language": "python",
   "name": "python3"
  },
  "language_info": {
   "codemirror_mode": {
    "name": "ipython",
    "version": 3
   },
   "file_extension": ".py",
   "mimetype": "text/x-python",
   "name": "python",
   "nbconvert_exporter": "python",
   "pygments_lexer": "ipython3",
   "version": "3.6.1"
  }
 },
 "nbformat": 4,
 "nbformat_minor": 2
}
