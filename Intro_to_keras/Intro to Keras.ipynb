{
 "cells": [
  {
   "cell_type": "code",
   "execution_count": 171,
   "metadata": {
    "collapsed": true
   },
   "outputs": [],
   "source": [
    "from sklearn.datasets import load_boston, load_breast_cancer, load_iris, fetch_lfw_people\n",
    "\n",
    "from keras.models import Sequential\n",
    "from keras.layers import Dense, Dropout\n",
    "from keras import losses\n",
    "\n",
    "from sklearn.cross_validation import train_test_split\n",
    "from sklearn.preprocessing import StandardScaler, LabelEncoder\n",
    "from keras.utils import to_categorical"
   ]
  },
  {
   "cell_type": "markdown",
   "metadata": {},
   "source": [
    "# Regression "
   ]
  },
  {
   "cell_type": "code",
   "execution_count": 1,
   "metadata": {},
   "outputs": [
    {
     "ename": "NameError",
     "evalue": "name 'load_boston' is not defined",
     "output_type": "error",
     "traceback": [
      "\u001b[0;31m---------------------------------------------------------------------------\u001b[0m",
      "\u001b[0;31mNameError\u001b[0m                                 Traceback (most recent call last)",
      "\u001b[0;32m<ipython-input-1-c9abfd337072>\u001b[0m in \u001b[0;36m<module>\u001b[0;34m()\u001b[0m\n\u001b[0;32m----> 1\u001b[0;31m \u001b[0mdata\u001b[0m\u001b[0;34m=\u001b[0m\u001b[0mload_boston\u001b[0m\u001b[0;34m(\u001b[0m\u001b[0;34m)\u001b[0m\u001b[0;34m\u001b[0m\u001b[0m\n\u001b[0m\u001b[1;32m      2\u001b[0m \u001b[0;34m\u001b[0m\u001b[0m\n\u001b[1;32m      3\u001b[0m \u001b[0mX\u001b[0m \u001b[0;34m=\u001b[0m \u001b[0mdata\u001b[0m\u001b[0;34m.\u001b[0m\u001b[0mdata\u001b[0m\u001b[0;34m\u001b[0m\u001b[0m\n\u001b[1;32m      4\u001b[0m \u001b[0my\u001b[0m \u001b[0;34m=\u001b[0m \u001b[0mdata\u001b[0m\u001b[0;34m.\u001b[0m\u001b[0mtarget\u001b[0m\u001b[0;34m\u001b[0m\u001b[0m\n\u001b[1;32m      5\u001b[0m \u001b[0;34m\u001b[0m\u001b[0m\n",
      "\u001b[0;31mNameError\u001b[0m: name 'load_boston' is not defined"
     ]
    }
   ],
   "source": [
    "data=load_boston()\n",
    "\n",
    "X = data.data\n",
    "y = data.target\n",
    "\n",
    "X_train, X_test, y_train, y_test = train_test_split(X,y, test_size=0.2)\n",
    "\n",
    "ss = StandardScaler()\n",
    "ss_fit = ss.fit(X_train)\n",
    "\n",
    "X_train_transform = ss_fit.transform(X_train)\n",
    "X_test_transform = ss_fit.transform(X_test)"
   ]
  },
  {
   "cell_type": "code",
   "execution_count": 2,
   "metadata": {},
   "outputs": [
    {
     "ename": "NameError",
     "evalue": "name 'Sequential' is not defined",
     "output_type": "error",
     "traceback": [
      "\u001b[0;31m---------------------------------------------------------------------------\u001b[0m",
      "\u001b[0;31mNameError\u001b[0m                                 Traceback (most recent call last)",
      "\u001b[0;32m<ipython-input-2-24a4d47a09aa>\u001b[0m in \u001b[0;36m<module>\u001b[0;34m()\u001b[0m\n\u001b[0;32m----> 1\u001b[0;31m \u001b[0mmodel\u001b[0m \u001b[0;34m=\u001b[0m \u001b[0mSequential\u001b[0m\u001b[0;34m(\u001b[0m\u001b[0;34m)\u001b[0m\u001b[0;34m\u001b[0m\u001b[0m\n\u001b[0m",
      "\u001b[0;31mNameError\u001b[0m: name 'Sequential' is not defined"
     ]
    }
   ],
   "source": [
    "model = Sequential()"
   ]
  },
  {
   "cell_type": "code",
   "execution_count": 123,
   "metadata": {
    "collapsed": true
   },
   "outputs": [],
   "source": [
    "model.add(Dense(13, input_dim=X_train_transform.shape[1], activation='relu'))\n",
    "model.add(Dense(6, activation='relu'))\n",
    "model.add(Dense(4, activation='relu'))\n",
    "model.add(Dense(2, activation='relu'))\n",
    "model.add(Dense(1))"
   ]
  },
  {
   "cell_type": "code",
   "execution_count": 124,
   "metadata": {
    "collapsed": true
   },
   "outputs": [],
   "source": [
    "model.compile(loss='mean_squared_error', optimizer='adam')"
   ]
  },
  {
   "cell_type": "code",
   "execution_count": 125,
   "metadata": {},
   "outputs": [
    {
     "name": "stdout",
     "output_type": "stream",
     "text": [
      "Train on 404 samples, validate on 102 samples\n",
      "Epoch 1/50\n",
      "404/404 [==============================] - 1s 2ms/step - loss: 565.5280 - val_loss: 633.7134\n",
      "Epoch 2/50\n",
      "404/404 [==============================] - 0s 51us/step - loss: 554.8486 - val_loss: 619.1913\n",
      "Epoch 3/50\n",
      "404/404 [==============================] - 0s 58us/step - loss: 540.7131 - val_loss: 599.1958\n",
      "Epoch 4/50\n",
      "404/404 [==============================] - 0s 66us/step - loss: 521.8912 - val_loss: 572.9293\n",
      "Epoch 5/50\n",
      "404/404 [==============================] - 0s 67us/step - loss: 499.3677 - val_loss: 539.7020\n",
      "Epoch 6/50\n",
      "404/404 [==============================] - 0s 70us/step - loss: 471.1849 - val_loss: 499.6496\n",
      "Epoch 7/50\n",
      "404/404 [==============================] - 0s 60us/step - loss: 437.2971 - val_loss: 450.2598\n",
      "Epoch 8/50\n",
      "404/404 [==============================] - 0s 63us/step - loss: 395.3422 - val_loss: 394.4480\n",
      "Epoch 9/50\n",
      "404/404 [==============================] - 0s 56us/step - loss: 349.5460 - val_loss: 329.4913\n",
      "Epoch 10/50\n",
      "404/404 [==============================] - 0s 64us/step - loss: 295.8079 - val_loss: 264.5278\n",
      "Epoch 11/50\n",
      "404/404 [==============================] - 0s 59us/step - loss: 242.7561 - val_loss: 206.5813\n",
      "Epoch 12/50\n",
      "404/404 [==============================] - 0s 58us/step - loss: 195.5068 - val_loss: 159.3966\n",
      "Epoch 13/50\n",
      "404/404 [==============================] - 0s 54us/step - loss: 157.2519 - val_loss: 127.7135\n",
      "Epoch 14/50\n",
      "404/404 [==============================] - 0s 57us/step - loss: 130.5102 - val_loss: 107.1011\n",
      "Epoch 15/50\n",
      "404/404 [==============================] - 0s 58us/step - loss: 111.6358 - val_loss: 91.8070\n",
      "Epoch 16/50\n",
      "404/404 [==============================] - 0s 54us/step - loss: 96.8212 - val_loss: 79.0696\n",
      "Epoch 17/50\n",
      "404/404 [==============================] - 0s 59us/step - loss: 84.4204 - val_loss: 67.9829\n",
      "Epoch 18/50\n",
      "404/404 [==============================] - 0s 60us/step - loss: 73.3609 - val_loss: 58.6751\n",
      "Epoch 19/50\n",
      "404/404 [==============================] - 0s 47us/step - loss: 64.0043 - val_loss: 51.3300\n",
      "Epoch 20/50\n",
      "404/404 [==============================] - 0s 58us/step - loss: 56.3919 - val_loss: 44.8429\n",
      "Epoch 21/50\n",
      "404/404 [==============================] - 0s 61us/step - loss: 49.7982 - val_loss: 39.8514\n",
      "Epoch 22/50\n",
      "404/404 [==============================] - 0s 61us/step - loss: 44.3565 - val_loss: 36.0575\n",
      "Epoch 23/50\n",
      "404/404 [==============================] - 0s 59us/step - loss: 40.2730 - val_loss: 32.7195\n",
      "Epoch 24/50\n",
      "404/404 [==============================] - 0s 65us/step - loss: 36.9038 - val_loss: 30.6334\n",
      "Epoch 25/50\n",
      "404/404 [==============================] - 0s 96us/step - loss: 34.2593 - val_loss: 28.8925\n",
      "Epoch 26/50\n",
      "404/404 [==============================] - 0s 91us/step - loss: 32.3273 - val_loss: 27.5543\n",
      "Epoch 27/50\n",
      "404/404 [==============================] - 0s 120us/step - loss: 30.7117 - val_loss: 26.8151\n",
      "Epoch 28/50\n",
      "404/404 [==============================] - 0s 66us/step - loss: 29.5432 - val_loss: 26.0557\n",
      "Epoch 29/50\n",
      "404/404 [==============================] - 0s 60us/step - loss: 28.5782 - val_loss: 25.6747\n",
      "Epoch 30/50\n",
      "404/404 [==============================] - 0s 52us/step - loss: 27.7738 - val_loss: 25.1340\n",
      "Epoch 31/50\n",
      "404/404 [==============================] - 0s 61us/step - loss: 27.0455 - val_loss: 24.9134\n",
      "Epoch 32/50\n",
      "404/404 [==============================] - 0s 60us/step - loss: 26.4571 - val_loss: 24.6429\n",
      "Epoch 33/50\n",
      "404/404 [==============================] - 0s 56us/step - loss: 25.9172 - val_loss: 24.1417\n",
      "Epoch 34/50\n",
      "404/404 [==============================] - 0s 53us/step - loss: 25.4217 - val_loss: 23.7613\n",
      "Epoch 35/50\n",
      "404/404 [==============================] - 0s 49us/step - loss: 25.0073 - val_loss: 23.3454\n",
      "Epoch 36/50\n",
      "404/404 [==============================] - 0s 61us/step - loss: 24.5982 - val_loss: 23.2585\n",
      "Epoch 37/50\n",
      "404/404 [==============================] - 0s 59us/step - loss: 24.1496 - val_loss: 22.9090\n",
      "Epoch 38/50\n",
      "404/404 [==============================] - 0s 44us/step - loss: 23.7860 - val_loss: 22.5576\n",
      "Epoch 39/50\n",
      "404/404 [==============================] - 0s 55us/step - loss: 23.4434 - val_loss: 22.2387\n",
      "Epoch 40/50\n",
      "404/404 [==============================] - 0s 60us/step - loss: 23.0508 - val_loss: 22.1146\n",
      "Epoch 41/50\n",
      "404/404 [==============================] - 0s 49us/step - loss: 22.7819 - val_loss: 21.8498\n",
      "Epoch 42/50\n",
      "404/404 [==============================] - 0s 51us/step - loss: 22.4224 - val_loss: 21.5385\n",
      "Epoch 43/50\n",
      "404/404 [==============================] - 0s 56us/step - loss: 22.1407 - val_loss: 21.5276\n",
      "Epoch 44/50\n",
      "404/404 [==============================] - 0s 45us/step - loss: 21.6872 - val_loss: 20.8991\n",
      "Epoch 45/50\n",
      "404/404 [==============================] - 0s 49us/step - loss: 21.4311 - val_loss: 20.6226\n",
      "Epoch 46/50\n",
      "404/404 [==============================] - 0s 54us/step - loss: 21.0469 - val_loss: 20.2960\n",
      "Epoch 47/50\n",
      "404/404 [==============================] - 0s 47us/step - loss: 20.7096 - val_loss: 20.2533\n",
      "Epoch 48/50\n",
      "404/404 [==============================] - 0s 66us/step - loss: 20.3740 - val_loss: 19.8058\n",
      "Epoch 49/50\n",
      "404/404 [==============================] - 0s 57us/step - loss: 20.0407 - val_loss: 19.5172\n",
      "Epoch 50/50\n",
      "404/404 [==============================] - 0s 58us/step - loss: 19.7972 - val_loss: 19.2829\n"
     ]
    },
    {
     "data": {
      "text/plain": [
       "<keras.callbacks.History at 0x11fe8b1d0>"
      ]
     },
     "execution_count": 125,
     "metadata": {},
     "output_type": "execute_result"
    }
   ],
   "source": [
    "model.fit(X_train_transform, y_train, validation_data=(X_test_transform, y_test), epochs=50)"
   ]
  },
  {
   "cell_type": "markdown",
   "metadata": {},
   "source": [
    "# Binary Classification"
   ]
  },
  {
   "cell_type": "code",
   "execution_count": 126,
   "metadata": {
    "collapsed": true
   },
   "outputs": [],
   "source": [
    "data = load_breast_cancer()\n",
    "\n",
    "target = data.target* -1 + 1  \n",
    "\n",
    "X = data.data\n",
    "y = data.target\n",
    "\n",
    "X_train, X_test, y_train, y_test = train_test_split(X,y, test_size=0.2)\n",
    "\n",
    "ss = StandardScaler()\n",
    "ss_fit = ss.fit(X_train)\n",
    "\n",
    "X_train_transform = ss_fit.transform(X_train)\n",
    "X_test_transform = ss_fit.transform(X_test)"
   ]
  },
  {
   "cell_type": "code",
   "execution_count": 134,
   "metadata": {},
   "outputs": [
    {
     "name": "stdout",
     "output_type": "stream",
     "text": [
      "Train on 455 samples, validate on 114 samples\n",
      "Epoch 1/50\n",
      "455/455 [==============================] - 1s 1ms/step - loss: 0.5823 - acc: 0.8308 - val_loss: 0.5242 - val_acc: 0.8947\n",
      "Epoch 2/50\n",
      "455/455 [==============================] - 0s 60us/step - loss: 0.4599 - acc: 0.9297 - val_loss: 0.3997 - val_acc: 0.9298\n",
      "Epoch 3/50\n",
      "455/455 [==============================] - 0s 63us/step - loss: 0.3391 - acc: 0.9495 - val_loss: 0.2861 - val_acc: 0.9386\n",
      "Epoch 4/50\n",
      "455/455 [==============================] - 0s 66us/step - loss: 0.2415 - acc: 0.9538 - val_loss: 0.2069 - val_acc: 0.9474\n",
      "Epoch 5/50\n",
      "455/455 [==============================] - 0s 74us/step - loss: 0.1789 - acc: 0.9560 - val_loss: 0.1579 - val_acc: 0.9386\n",
      "Epoch 6/50\n",
      "455/455 [==============================] - 0s 69us/step - loss: 0.1410 - acc: 0.9604 - val_loss: 0.1272 - val_acc: 0.9474\n",
      "Epoch 7/50\n",
      "455/455 [==============================] - 0s 62us/step - loss: 0.1190 - acc: 0.9714 - val_loss: 0.1075 - val_acc: 0.9474\n",
      "Epoch 8/50\n",
      "455/455 [==============================] - 0s 65us/step - loss: 0.1040 - acc: 0.9714 - val_loss: 0.0950 - val_acc: 0.9561\n",
      "Epoch 9/50\n",
      "455/455 [==============================] - 0s 67us/step - loss: 0.0935 - acc: 0.9802 - val_loss: 0.0841 - val_acc: 0.9649\n",
      "Epoch 10/50\n",
      "455/455 [==============================] - 0s 86us/step - loss: 0.0847 - acc: 0.9780 - val_loss: 0.0776 - val_acc: 0.9649\n",
      "Epoch 11/50\n",
      "455/455 [==============================] - 0s 76us/step - loss: 0.0786 - acc: 0.9780 - val_loss: 0.0716 - val_acc: 0.9737\n",
      "Epoch 12/50\n",
      "455/455 [==============================] - 0s 71us/step - loss: 0.0737 - acc: 0.9802 - val_loss: 0.0670 - val_acc: 0.9737\n",
      "Epoch 13/50\n",
      "455/455 [==============================] - 0s 67us/step - loss: 0.0696 - acc: 0.9802 - val_loss: 0.0633 - val_acc: 0.9737\n",
      "Epoch 14/50\n",
      "455/455 [==============================] - 0s 79us/step - loss: 0.0662 - acc: 0.9824 - val_loss: 0.0596 - val_acc: 0.9737\n",
      "Epoch 15/50\n",
      "455/455 [==============================] - 0s 64us/step - loss: 0.0631 - acc: 0.9846 - val_loss: 0.0561 - val_acc: 0.9825\n",
      "Epoch 16/50\n",
      "455/455 [==============================] - 0s 61us/step - loss: 0.0601 - acc: 0.9846 - val_loss: 0.0559 - val_acc: 0.9825\n",
      "Epoch 17/50\n",
      "455/455 [==============================] - 0s 76us/step - loss: 0.0574 - acc: 0.9868 - val_loss: 0.0541 - val_acc: 0.9825\n",
      "Epoch 18/50\n",
      "455/455 [==============================] - 0s 63us/step - loss: 0.0549 - acc: 0.9868 - val_loss: 0.0530 - val_acc: 0.9825\n",
      "Epoch 19/50\n",
      "455/455 [==============================] - 0s 71us/step - loss: 0.0524 - acc: 0.9890 - val_loss: 0.0501 - val_acc: 0.9825\n",
      "Epoch 20/50\n",
      "455/455 [==============================] - 0s 70us/step - loss: 0.0503 - acc: 0.9890 - val_loss: 0.0495 - val_acc: 0.9825\n",
      "Epoch 21/50\n",
      "455/455 [==============================] - 0s 66us/step - loss: 0.0484 - acc: 0.9868 - val_loss: 0.0527 - val_acc: 0.9825\n",
      "Epoch 22/50\n",
      "455/455 [==============================] - 0s 63us/step - loss: 0.0462 - acc: 0.9890 - val_loss: 0.0503 - val_acc: 0.9825\n",
      "Epoch 23/50\n",
      "455/455 [==============================] - 0s 55us/step - loss: 0.0436 - acc: 0.9890 - val_loss: 0.0459 - val_acc: 0.9825\n",
      "Epoch 24/50\n",
      "455/455 [==============================] - 0s 68us/step - loss: 0.0418 - acc: 0.9890 - val_loss: 0.0438 - val_acc: 0.9825\n",
      "Epoch 25/50\n",
      "455/455 [==============================] - 0s 69us/step - loss: 0.0403 - acc: 0.9890 - val_loss: 0.0448 - val_acc: 0.9825\n",
      "Epoch 26/50\n",
      "455/455 [==============================] - 0s 69us/step - loss: 0.0383 - acc: 0.9912 - val_loss: 0.0447 - val_acc: 0.9737\n",
      "Epoch 27/50\n",
      "455/455 [==============================] - 0s 72us/step - loss: 0.0370 - acc: 0.9912 - val_loss: 0.0447 - val_acc: 0.9825\n",
      "Epoch 28/50\n",
      "455/455 [==============================] - 0s 74us/step - loss: 0.0357 - acc: 0.9912 - val_loss: 0.0431 - val_acc: 0.9825\n",
      "Epoch 29/50\n",
      "455/455 [==============================] - 0s 63us/step - loss: 0.0341 - acc: 0.9912 - val_loss: 0.0428 - val_acc: 0.9825\n",
      "Epoch 30/50\n",
      "455/455 [==============================] - 0s 70us/step - loss: 0.0329 - acc: 0.9912 - val_loss: 0.0426 - val_acc: 0.9825\n",
      "Epoch 31/50\n",
      "455/455 [==============================] - 0s 63us/step - loss: 0.0315 - acc: 0.9912 - val_loss: 0.0412 - val_acc: 0.9825\n",
      "Epoch 32/50\n",
      "455/455 [==============================] - 0s 69us/step - loss: 0.0303 - acc: 0.9912 - val_loss: 0.0416 - val_acc: 0.9825\n",
      "Epoch 33/50\n",
      "455/455 [==============================] - 0s 66us/step - loss: 0.0291 - acc: 0.9912 - val_loss: 0.0427 - val_acc: 0.9825\n",
      "Epoch 34/50\n",
      "455/455 [==============================] - 0s 61us/step - loss: 0.0274 - acc: 0.9912 - val_loss: 0.0393 - val_acc: 0.9825\n",
      "Epoch 35/50\n",
      "455/455 [==============================] - 0s 61us/step - loss: 0.0265 - acc: 0.9912 - val_loss: 0.0410 - val_acc: 0.9825\n",
      "Epoch 36/50\n",
      "455/455 [==============================] - 0s 58us/step - loss: 0.0252 - acc: 0.9912 - val_loss: 0.0417 - val_acc: 0.9825\n",
      "Epoch 37/50\n",
      "455/455 [==============================] - 0s 59us/step - loss: 0.0239 - acc: 0.9912 - val_loss: 0.0422 - val_acc: 0.9825\n",
      "Epoch 38/50\n",
      "455/455 [==============================] - 0s 60us/step - loss: 0.0234 - acc: 0.9912 - val_loss: 0.0413 - val_acc: 0.9825\n",
      "Epoch 39/50\n",
      "455/455 [==============================] - 0s 55us/step - loss: 0.0223 - acc: 0.9912 - val_loss: 0.0356 - val_acc: 0.9825\n",
      "Epoch 40/50\n",
      "455/455 [==============================] - 0s 59us/step - loss: 0.0213 - acc: 0.9912 - val_loss: 0.0373 - val_acc: 0.9825\n",
      "Epoch 41/50\n",
      "455/455 [==============================] - 0s 53us/step - loss: 0.0202 - acc: 0.9934 - val_loss: 0.0394 - val_acc: 0.9825\n",
      "Epoch 42/50\n",
      "455/455 [==============================] - 0s 59us/step - loss: 0.0194 - acc: 0.9934 - val_loss: 0.0386 - val_acc: 0.9825\n",
      "Epoch 43/50\n",
      "455/455 [==============================] - 0s 49us/step - loss: 0.0183 - acc: 0.9912 - val_loss: 0.0393 - val_acc: 0.9825\n",
      "Epoch 44/50\n",
      "455/455 [==============================] - 0s 53us/step - loss: 0.0175 - acc: 0.9934 - val_loss: 0.0408 - val_acc: 0.9737\n",
      "Epoch 45/50\n",
      "455/455 [==============================] - 0s 52us/step - loss: 0.0170 - acc: 0.9934 - val_loss: 0.0389 - val_acc: 0.9825\n",
      "Epoch 46/50\n",
      "455/455 [==============================] - 0s 52us/step - loss: 0.0156 - acc: 0.9934 - val_loss: 0.0371 - val_acc: 0.9825\n",
      "Epoch 47/50\n",
      "455/455 [==============================] - 0s 52us/step - loss: 0.0149 - acc: 0.9934 - val_loss: 0.0382 - val_acc: 0.9825\n",
      "Epoch 48/50\n",
      "455/455 [==============================] - 0s 54us/step - loss: 0.0145 - acc: 0.9934 - val_loss: 0.0394 - val_acc: 0.9825\n",
      "Epoch 49/50\n",
      "455/455 [==============================] - 0s 55us/step - loss: 0.0136 - acc: 0.9956 - val_loss: 0.0398 - val_acc: 0.9825\n",
      "Epoch 50/50\n",
      "455/455 [==============================] - 0s 61us/step - loss: 0.0126 - acc: 0.9978 - val_loss: 0.0364 - val_acc: 0.9912\n"
     ]
    },
    {
     "data": {
      "text/plain": [
       "<keras.callbacks.History at 0x1217b4b38>"
      ]
     },
     "execution_count": 134,
     "metadata": {},
     "output_type": "execute_result"
    }
   ],
   "source": [
    "model = Sequential()\n",
    "\n",
    "model.add(Dense(X_train_transform.shape[1], input_dim=X_train_transform.shape[1], activation='relu'))\n",
    "model.add(Dense(15, activation='relu'))\n",
    "model.add(Dense(8, activation='relu'))\n",
    "model.add(Dense(1, activation='sigmoid'))\n",
    "\n",
    "model.compile(optimizer='adam', loss='binary_crossentropy', metrics=['accuracy'])\n",
    "\n",
    "model.fit(X_train_transform, y_train, validation_data=(X_test_transform, y_test), epochs=50)"
   ]
  },
  {
   "cell_type": "code",
   "execution_count": 148,
   "metadata": {
    "collapsed": true
   },
   "outputs": [],
   "source": [
    "# history = model.fit(X_train, y_train, validation_data=(X_test, y_test), epochs=100)\n",
    "\n",
    "# import matplotlib.pyplot as plt\n",
    "# %matplotlib inline\n",
    "\n",
    "# plt.plot(history.history['val_acc'], label='val acc')\n",
    "# plt.plot(history.history['acc'], label='train acc')\n",
    "# plt.xlabel('epochs')\n",
    "# plt.legend();"
   ]
  },
  {
   "cell_type": "code",
   "execution_count": 132,
   "metadata": {},
   "outputs": [
    {
     "data": {
      "text/plain": [
       "(455, 30)"
      ]
     },
     "execution_count": 132,
     "metadata": {},
     "output_type": "execute_result"
    }
   ],
   "source": [
    "X_train_transform.shape"
   ]
  },
  {
   "cell_type": "code",
   "execution_count": 136,
   "metadata": {
    "collapsed": true
   },
   "outputs": [],
   "source": [
    "pred = model.predict_classes(X_test_transform)"
   ]
  },
  {
   "cell_type": "code",
   "execution_count": 138,
   "metadata": {},
   "outputs": [
    {
     "data": {
      "text/plain": [
       "array([1, 0, 1, 1, 1, 0, 1, 1, 1, 1, 0, 1, 1, 1, 1, 1, 0, 0, 1, 1, 1, 0, 0,\n",
       "       0, 0, 0, 1, 1, 1, 0, 1, 1, 1, 1, 0, 0, 1, 1, 1, 1, 0, 1, 1, 1, 1, 1,\n",
       "       1, 1, 1, 0, 0, 1, 0, 1, 0, 1, 0, 0, 0, 1, 1, 1, 1, 0, 0, 0, 1, 1, 1,\n",
       "       1, 0, 1, 1, 1, 1, 1, 0, 1, 1, 1, 0, 1, 1, 1, 1, 1, 0, 0, 1, 1, 1, 1,\n",
       "       0, 1, 1, 0, 0, 1, 1, 1, 1, 0, 0, 1, 1, 1, 0, 1, 0, 1, 1, 1, 0, 0], dtype=int32)"
      ]
     },
     "execution_count": 138,
     "metadata": {},
     "output_type": "execute_result"
    }
   ],
   "source": [
    "pred [ :, 0 ]"
   ]
  },
  {
   "cell_type": "markdown",
   "metadata": {},
   "source": [
    "# Multiclass Classification"
   ]
  },
  {
   "cell_type": "code",
   "execution_count": 156,
   "metadata": {
    "collapsed": true
   },
   "outputs": [],
   "source": [
    "data = load_iris()\n",
    "\n",
    "X = data.data\n",
    "y = data.target\n",
    "\n",
    "X_train, X_test, y_train, y_test = train_test_split(X,y, test_size=0.2)\n",
    "\n",
    "y_train = to_categorical(y_train)\n",
    "y_test = to_categorical(y_test)\n",
    "\n",
    "ss = StandardScaler()\n",
    "ss.fit(X_train)\n",
    "\n",
    "X_train = ss.transform(X_train)\n",
    "X_test = ss.transform(X_test)"
   ]
  },
  {
   "cell_type": "code",
   "execution_count": 163,
   "metadata": {},
   "outputs": [
    {
     "name": "stdout",
     "output_type": "stream",
     "text": [
      "Train on 120 samples, validate on 30 samples\n",
      "Epoch 1/50\n",
      "120/120 [==============================] - 1s 6ms/step - loss: 1.8146 - acc: 0.1083 - val_loss: 1.1535 - val_acc: 0.3000\n",
      "Epoch 2/50\n",
      "120/120 [==============================] - 0s 55us/step - loss: 1.7864 - acc: 0.1083 - val_loss: 1.1481 - val_acc: 0.3667\n",
      "Epoch 3/50\n",
      "120/120 [==============================] - 0s 60us/step - loss: 1.7575 - acc: 0.3583 - val_loss: 1.1430 - val_acc: 0.3667\n",
      "Epoch 4/50\n",
      "120/120 [==============================] - 0s 76us/step - loss: 1.7295 - acc: 0.3583 - val_loss: 1.1378 - val_acc: 0.3667\n",
      "Epoch 5/50\n",
      "120/120 [==============================] - 0s 66us/step - loss: 1.7037 - acc: 0.1917 - val_loss: 1.1329 - val_acc: 0.3000\n",
      "Epoch 6/50\n",
      "120/120 [==============================] - 0s 54us/step - loss: 1.6750 - acc: 0.1000 - val_loss: 1.1282 - val_acc: 0.3000\n",
      "Epoch 7/50\n",
      "120/120 [==============================] - 0s 92us/step - loss: 1.6474 - acc: 0.1000 - val_loss: 1.1237 - val_acc: 0.3000\n",
      "Epoch 8/50\n",
      "120/120 [==============================] - 0s 77us/step - loss: 1.6237 - acc: 0.1000 - val_loss: 1.1194 - val_acc: 0.3000\n",
      "Epoch 9/50\n",
      "120/120 [==============================] - 0s 70us/step - loss: 1.5971 - acc: 0.1000 - val_loss: 1.1152 - val_acc: 0.3000\n",
      "Epoch 10/50\n",
      "120/120 [==============================] - 0s 82us/step - loss: 1.5717 - acc: 0.1000 - val_loss: 1.1114 - val_acc: 0.3000\n",
      "Epoch 11/50\n",
      "120/120 [==============================] - 0s 112us/step - loss: 1.5487 - acc: 0.1000 - val_loss: 1.1078 - val_acc: 0.3000\n",
      "Epoch 12/50\n",
      "120/120 [==============================] - 0s 80us/step - loss: 1.5232 - acc: 0.1000 - val_loss: 1.1044 - val_acc: 0.3333\n",
      "Epoch 13/50\n",
      "120/120 [==============================] - 0s 117us/step - loss: 1.5015 - acc: 0.0750 - val_loss: 1.1011 - val_acc: 0.3333\n",
      "Epoch 14/50\n",
      "120/120 [==============================] - 0s 128us/step - loss: 1.4796 - acc: 0.0750 - val_loss: 1.0981 - val_acc: 0.3333\n",
      "Epoch 15/50\n",
      "120/120 [==============================] - 0s 116us/step - loss: 1.4566 - acc: 0.0750 - val_loss: 1.0952 - val_acc: 0.3333\n",
      "Epoch 16/50\n",
      "120/120 [==============================] - 0s 71us/step - loss: 1.4345 - acc: 0.0750 - val_loss: 1.0927 - val_acc: 0.3333\n",
      "Epoch 17/50\n",
      "120/120 [==============================] - 0s 76us/step - loss: 1.4146 - acc: 0.0667 - val_loss: 1.0902 - val_acc: 0.3333\n",
      "Epoch 18/50\n",
      "120/120 [==============================] - 0s 90us/step - loss: 1.3937 - acc: 0.0667 - val_loss: 1.0880 - val_acc: 0.3333\n",
      "Epoch 19/50\n",
      "120/120 [==============================] - 0s 58us/step - loss: 1.3743 - acc: 0.0667 - val_loss: 1.0859 - val_acc: 0.3333\n",
      "Epoch 20/50\n",
      "120/120 [==============================] - 0s 73us/step - loss: 1.3556 - acc: 0.0583 - val_loss: 1.0840 - val_acc: 0.3333\n",
      "Epoch 21/50\n",
      "120/120 [==============================] - 0s 102us/step - loss: 1.3362 - acc: 0.0583 - val_loss: 1.0824 - val_acc: 0.3333\n",
      "Epoch 22/50\n",
      "120/120 [==============================] - 0s 72us/step - loss: 1.3180 - acc: 0.0583 - val_loss: 1.0810 - val_acc: 0.3333\n",
      "Epoch 23/50\n",
      "120/120 [==============================] - 0s 56us/step - loss: 1.2994 - acc: 0.0583 - val_loss: 1.0797 - val_acc: 0.3333\n",
      "Epoch 24/50\n",
      "120/120 [==============================] - 0s 87us/step - loss: 1.2830 - acc: 0.0500 - val_loss: 1.0786 - val_acc: 0.3333\n",
      "Epoch 25/50\n",
      "120/120 [==============================] - 0s 55us/step - loss: 1.2660 - acc: 0.0500 - val_loss: 1.0776 - val_acc: 0.3333\n",
      "Epoch 26/50\n",
      "120/120 [==============================] - 0s 69us/step - loss: 1.2497 - acc: 0.0500 - val_loss: 1.0767 - val_acc: 0.3333\n",
      "Epoch 27/50\n",
      "120/120 [==============================] - 0s 69us/step - loss: 1.2344 - acc: 0.0500 - val_loss: 1.0761 - val_acc: 0.3333\n",
      "Epoch 28/50\n",
      "120/120 [==============================] - 0s 68us/step - loss: 1.2185 - acc: 0.0500 - val_loss: 1.0755 - val_acc: 0.3333\n",
      "Epoch 29/50\n",
      "120/120 [==============================] - 0s 59us/step - loss: 1.2040 - acc: 0.0500 - val_loss: 1.0751 - val_acc: 0.3667\n",
      "Epoch 30/50\n",
      "120/120 [==============================] - 0s 57us/step - loss: 1.1898 - acc: 0.0417 - val_loss: 1.0747 - val_acc: 0.3667\n",
      "Epoch 31/50\n",
      "120/120 [==============================] - 0s 96us/step - loss: 1.1751 - acc: 0.0417 - val_loss: 1.0746 - val_acc: 0.3667\n",
      "Epoch 32/50\n",
      "120/120 [==============================] - 0s 61us/step - loss: 1.1621 - acc: 0.0500 - val_loss: 1.0746 - val_acc: 0.3667\n",
      "Epoch 33/50\n",
      "120/120 [==============================] - 0s 59us/step - loss: 1.1482 - acc: 0.0417 - val_loss: 1.0746 - val_acc: 0.3667\n",
      "Epoch 34/50\n",
      "120/120 [==============================] - 0s 64us/step - loss: 1.1356 - acc: 0.0500 - val_loss: 1.0748 - val_acc: 0.3667\n",
      "Epoch 35/50\n",
      "120/120 [==============================] - 0s 87us/step - loss: 1.1237 - acc: 0.0833 - val_loss: 1.0750 - val_acc: 0.3333\n",
      "Epoch 36/50\n",
      "120/120 [==============================] - 0s 76us/step - loss: 1.1120 - acc: 0.0833 - val_loss: 1.0754 - val_acc: 0.3333\n",
      "Epoch 37/50\n",
      "120/120 [==============================] - 0s 51us/step - loss: 1.1004 - acc: 0.1000 - val_loss: 1.0759 - val_acc: 0.3333\n",
      "Epoch 38/50\n",
      "120/120 [==============================] - 0s 87us/step - loss: 1.0888 - acc: 0.1500 - val_loss: 1.0764 - val_acc: 0.3333\n",
      "Epoch 39/50\n",
      "120/120 [==============================] - 0s 71us/step - loss: 1.0782 - acc: 0.1667 - val_loss: 1.0769 - val_acc: 0.3333\n",
      "Epoch 40/50\n",
      "120/120 [==============================] - 0s 55us/step - loss: 1.0677 - acc: 0.2167 - val_loss: 1.0776 - val_acc: 0.3000\n",
      "Epoch 41/50\n",
      "120/120 [==============================] - 0s 65us/step - loss: 1.0573 - acc: 0.2500 - val_loss: 1.0785 - val_acc: 0.3000\n",
      "Epoch 42/50\n",
      "120/120 [==============================] - 0s 118us/step - loss: 1.0472 - acc: 0.2667 - val_loss: 1.0793 - val_acc: 0.3000\n",
      "Epoch 43/50\n",
      "120/120 [==============================] - 0s 59us/step - loss: 1.0380 - acc: 0.2667 - val_loss: 1.0802 - val_acc: 0.3000\n",
      "Epoch 44/50\n",
      "120/120 [==============================] - 0s 67us/step - loss: 1.0287 - acc: 0.2667 - val_loss: 1.0812 - val_acc: 0.3000\n",
      "Epoch 45/50\n",
      "120/120 [==============================] - 0s 64us/step - loss: 1.0195 - acc: 0.2833 - val_loss: 1.0823 - val_acc: 0.3000\n",
      "Epoch 46/50\n",
      "120/120 [==============================] - 0s 134us/step - loss: 1.0107 - acc: 0.5167 - val_loss: 1.0833 - val_acc: 0.3333\n",
      "Epoch 47/50\n",
      "120/120 [==============================] - ETA: 0s - loss: 1.0185 - acc: 0.625 - 0s 66us/step - loss: 1.0019 - acc: 0.5583 - val_loss: 1.0844 - val_acc: 0.3667\n",
      "Epoch 48/50\n",
      "120/120 [==============================] - ETA: 0s - loss: 0.9877 - acc: 0.593 - 0s 98us/step - loss: 0.9936 - acc: 0.5750 - val_loss: 1.0854 - val_acc: 0.3667\n",
      "Epoch 49/50\n",
      "120/120 [==============================] - 0s 65us/step - loss: 0.9861 - acc: 0.5750 - val_loss: 1.0865 - val_acc: 0.3667\n",
      "Epoch 50/50\n",
      "120/120 [==============================] - 0s 71us/step - loss: 0.9783 - acc: 0.5750 - val_loss: 1.0876 - val_acc: 0.4000\n"
     ]
    },
    {
     "data": {
      "text/plain": [
       "<keras.callbacks.History at 0x1232e6b38>"
      ]
     },
     "execution_count": 163,
     "metadata": {},
     "output_type": "execute_result"
    }
   ],
   "source": [
    "model = Sequential()\n",
    "\n",
    "model.add(Dense(4, input_dim=4, activation='relu'))\n",
    "model.add(Dense(y_train.shape[1], activation='softmax'))\n",
    "\n",
    "model.compile(optimizer='adam', loss='categorical_crossentropy', metrics=['accuracy'])\n",
    "\n",
    "model.fit(X_train, y_train, validation_data=(X_test_transform, y_test), epochs=50)"
   ]
  },
  {
   "cell_type": "code",
   "execution_count": 169,
   "metadata": {
    "collapsed": true
   },
   "outputs": [],
   "source": [
    "# Dropouts"
   ]
  },
  {
   "cell_type": "code",
   "execution_count": 170,
   "metadata": {},
   "outputs": [
    {
     "name": "stdout",
     "output_type": "stream",
     "text": [
      "Train on 120 samples, validate on 30 samples\n",
      "Epoch 1/20\n",
      "120/120 [==============================] - 1s 7ms/step - loss: 1.4757 - acc: 0.4167 - val_loss: 1.3816 - val_acc: 0.3000\n",
      "Epoch 2/20\n",
      "120/120 [==============================] - 0s 38us/step - loss: 1.4724 - acc: 0.4000 - val_loss: 1.3651 - val_acc: 0.3000\n",
      "Epoch 3/20\n",
      "120/120 [==============================] - 0s 41us/step - loss: 1.6895 - acc: 0.4083 - val_loss: 1.3488 - val_acc: 0.3333\n",
      "Epoch 4/20\n",
      "120/120 [==============================] - 0s 48us/step - loss: 1.4333 - acc: 0.4000 - val_loss: 1.3333 - val_acc: 0.3333\n",
      "Epoch 5/20\n",
      "120/120 [==============================] - 0s 55us/step - loss: 1.3214 - acc: 0.4583 - val_loss: 1.3188 - val_acc: 0.3333\n",
      "Epoch 6/20\n",
      "120/120 [==============================] - 0s 56us/step - loss: 1.3128 - acc: 0.4667 - val_loss: 1.3054 - val_acc: 0.3667\n",
      "Epoch 7/20\n",
      "120/120 [==============================] - 0s 43us/step - loss: 1.4933 - acc: 0.3833 - val_loss: 1.2929 - val_acc: 0.3667\n",
      "Epoch 8/20\n",
      "120/120 [==============================] - 0s 37us/step - loss: 1.4522 - acc: 0.4083 - val_loss: 1.2802 - val_acc: 0.3667\n",
      "Epoch 9/20\n",
      "120/120 [==============================] - 0s 49us/step - loss: 1.3504 - acc: 0.3833 - val_loss: 1.2679 - val_acc: 0.3667\n",
      "Epoch 10/20\n",
      "120/120 [==============================] - 0s 44us/step - loss: 1.4353 - acc: 0.3667 - val_loss: 1.2558 - val_acc: 0.3667\n",
      "Epoch 11/20\n",
      "120/120 [==============================] - 0s 46us/step - loss: 1.3284 - acc: 0.3917 - val_loss: 1.2438 - val_acc: 0.4000\n",
      "Epoch 12/20\n",
      "120/120 [==============================] - 0s 56us/step - loss: 1.3358 - acc: 0.3500 - val_loss: 1.2325 - val_acc: 0.4667\n",
      "Epoch 13/20\n",
      "120/120 [==============================] - 0s 52us/step - loss: 1.3571 - acc: 0.4000 - val_loss: 1.2220 - val_acc: 0.4667\n",
      "Epoch 14/20\n",
      "120/120 [==============================] - 0s 48us/step - loss: 1.4359 - acc: 0.3333 - val_loss: 1.2114 - val_acc: 0.4667\n",
      "Epoch 15/20\n",
      "120/120 [==============================] - 0s 44us/step - loss: 1.4654 - acc: 0.3500 - val_loss: 1.2011 - val_acc: 0.4667\n",
      "Epoch 16/20\n",
      "120/120 [==============================] - 0s 38us/step - loss: 1.4157 - acc: 0.3500 - val_loss: 1.1914 - val_acc: 0.5000\n",
      "Epoch 17/20\n",
      "120/120 [==============================] - 0s 60us/step - loss: 1.4005 - acc: 0.3917 - val_loss: 1.1813 - val_acc: 0.5333\n",
      "Epoch 18/20\n",
      "120/120 [==============================] - 0s 46us/step - loss: 1.3498 - acc: 0.4417 - val_loss: 1.1715 - val_acc: 0.5333\n",
      "Epoch 19/20\n",
      "120/120 [==============================] - 0s 59us/step - loss: 1.3938 - acc: 0.4250 - val_loss: 1.1619 - val_acc: 0.5333\n",
      "Epoch 20/20\n",
      "120/120 [==============================] - 0s 41us/step - loss: 1.2446 - acc: 0.3583 - val_loss: 1.1529 - val_acc: 0.5667\n"
     ]
    },
    {
     "data": {
      "text/plain": [
       "<keras.callbacks.History at 0x1249b66a0>"
      ]
     },
     "execution_count": 170,
     "metadata": {},
     "output_type": "execute_result"
    }
   ],
   "source": [
    "'''Code with Dropouts'''\n",
    "\n",
    "model = Sequential()\n",
    "model.add(Dropout(.5, input_shape=(X_train.shape[1],)))\n",
    "model.add(Dense(10, activation='relu'))\n",
    "model.add(Dropout(.5))\n",
    "model.add(Dense(5, activation='relu'))\n",
    "model.add(Dense(y_train.shape[1], activation='softmax'))\n",
    "\n",
    "model.compile(optimizer='adam', loss='categorical_crossentropy', metrics=['accuracy'])\n",
    "\n",
    "model.fit(X_train, y_train, validation_data=(X_test, y_test), epochs=20, batch_size=70)"
   ]
  },
  {
   "cell_type": "markdown",
   "metadata": {},
   "source": [
    "# Image Recognition "
   ]
  },
  {
   "cell_type": "code",
   "execution_count": 172,
   "metadata": {
    "collapsed": true
   },
   "outputs": [],
   "source": [
    "data = fetch_lfw_people(min_faces_per_person=70)"
   ]
  },
  {
   "cell_type": "code",
   "execution_count": 174,
   "metadata": {
    "collapsed": true
   },
   "outputs": [],
   "source": [
    "import matplotlib.pyplot as plt \n",
    "%matplotlib inline"
   ]
  },
  {
   "cell_type": "code",
   "execution_count": 186,
   "metadata": {},
   "outputs": [
    {
     "data": {
      "text/plain": [
       "<matplotlib.image.AxesImage at 0x129897080>"
      ]
     },
     "execution_count": 186,
     "metadata": {},
     "output_type": "execute_result"
    },
    {
     "data": {
      "image/png": "[encoded data removed]",
      "text/plain": [
       "<matplotlib.figure.Figure at 0x1297f40b8>"
      ]
     },
     "metadata": {},
     "output_type": "display_data"
    }
   ],
   "source": [
    "plt.imshow(data.images[275])"
   ]
  },
  {
   "cell_type": "code",
   "execution_count": 179,
   "metadata": {
    "collapsed": true
   },
   "outputs": [],
   "source": [
    "X = data.data\n",
    "y = to_categorical(data.target)"
   ]
  },
  {
   "cell_type": "code",
   "execution_count": 180,
   "metadata": {
    "collapsed": true
   },
   "outputs": [],
   "source": [
    "X_train, X_test, y_train, y_test = train_test_split(X,y, test_size=0.2)"
   ]
  },
  {
   "cell_type": "code",
   "execution_count": 183,
   "metadata": {},
   "outputs": [
    {
     "data": {
      "text/plain": [
       "array([[ 137.        ,  145.        ,  154.66667175, ...,   83.66666412,\n",
       "          23.        ,   15.33333302],\n",
       "       [ 180.66667175,  182.        ,  186.66667175, ...,   57.66666794,\n",
       "          24.        ,   14.33333302],\n",
       "       [  53.33333206,   63.33333206,   70.66666412, ...,  166.66667175,\n",
       "         197.33332825,  204.        ],\n",
       "       ..., \n",
       "       [  48.66666794,   58.66666794,   97.        , ...,   65.66666412,\n",
       "          65.        ,   60.66666794],\n",
       "       [  66.        ,   73.        ,   76.66666412, ...,   89.33333588,\n",
       "          20.        ,   10.        ],\n",
       "       [  94.66666412,  110.66666412,  134.        , ...,  168.66667175,\n",
       "         101.66666412,   70.33333588]], dtype=float32)"
      ]
     },
     "execution_count": 183,
     "metadata": {},
     "output_type": "execute_result"
    }
   ],
   "source": [
    "X_train[0:,]"
   ]
  },
  {
   "cell_type": "code",
   "execution_count": 188,
   "metadata": {
    "collapsed": true
   },
   "outputs": [],
   "source": [
    "X_train = X_train/255.\n",
    "X_test = X_test/255."
   ]
  },
  {
   "cell_type": "code",
   "execution_count": 190,
   "metadata": {},
   "outputs": [
    {
     "name": "stdout",
     "output_type": "stream",
     "text": [
      "Train on 1030 samples, validate on 258 samples\n",
      "Epoch 1/5\n",
      "1030/1030 [==============================] - 2s 2ms/step - loss: 1.7676 - acc: 0.3903 - val_loss: 1.7583 - val_acc: 0.3798\n",
      "Epoch 2/5\n",
      "1030/1030 [==============================] - 2s 2ms/step - loss: 1.6804 - acc: 0.4194 - val_loss: 1.7062 - val_acc: 0.3798\n",
      "Epoch 3/5\n",
      "1030/1030 [==============================] - 2s 2ms/step - loss: 1.6648 - acc: 0.4194 - val_loss: 1.7062 - val_acc: 0.3798\n",
      "Epoch 4/5\n",
      "1030/1030 [==============================] - 2s 2ms/step - loss: 1.6532 - acc: 0.4194 - val_loss: 1.6968 - val_acc: 0.3798\n",
      "Epoch 5/5\n",
      "1030/1030 [==============================] - 2s 2ms/step - loss: 1.6469 - acc: 0.4194 - val_loss: 1.6925 - val_acc: 0.3798\n"
     ]
    },
    {
     "data": {
      "text/plain": [
       "<keras.callbacks.History at 0x12b8affd0>"
      ]
     },
     "execution_count": 190,
     "metadata": {},
     "output_type": "execute_result"
    }
   ],
   "source": [
    "model = Sequential()\n",
    "\n",
    "model.add(Dense(X_train.shape[1], input_dim = X_train.shape[1], activation='relu'))\n",
    "model.add(Dense(y.shape[1], activation='softmax'))\n",
    "\n",
    "model.compile(optimizer='adam', loss='categorical_crossentropy', metrics=['accuracy'])\n",
    "model.fit(X_train, y_train, validation_data=(X_test, y_test), epochs=5, batch_size=100)"
   ]
  },
  {
   "cell_type": "code",
   "execution_count": 191,
   "metadata": {},
   "outputs": [
    {
     "name": "stdout",
     "output_type": "stream",
     "text": [
      "Train on 1030 samples, validate on 258 samples\n",
      "Epoch 1/10\n",
      "1030/1030 [==============================] - 3s 3ms/step - loss: 1.8248 - acc: 0.3893 - val_loss: 1.8542 - val_acc: 0.3798\n",
      "Epoch 2/10\n",
      "1030/1030 [==============================] - 2s 2ms/step - loss: 1.7176 - acc: 0.4194 - val_loss: 1.7299 - val_acc: 0.3798\n",
      "Epoch 3/10\n",
      "1030/1030 [==============================] - 2s 2ms/step - loss: 1.6702 - acc: 0.4194 - val_loss: 1.7155 - val_acc: 0.3798\n",
      "Epoch 4/10\n",
      "1030/1030 [==============================] - 2s 2ms/step - loss: 1.6630 - acc: 0.4194 - val_loss: 1.7016 - val_acc: 0.3798\n",
      "Epoch 5/10\n",
      "1030/1030 [==============================] - 2s 2ms/step - loss: 1.6627 - acc: 0.4194 - val_loss: 1.7214 - val_acc: 0.3798\n",
      "Epoch 6/10\n",
      "1030/1030 [==============================] - 2s 2ms/step - loss: 1.6588 - acc: 0.4194 - val_loss: 1.6960 - val_acc: 0.3798\n",
      "Epoch 7/10\n",
      "1030/1030 [==============================] - 2s 2ms/step - loss: 1.6537 - acc: 0.4194 - val_loss: 1.7017 - val_acc: 0.3798\n",
      "Epoch 8/10\n",
      "1030/1030 [==============================] - 2s 2ms/step - loss: 1.6490 - acc: 0.4194 - val_loss: 1.6955 - val_acc: 0.3798\n",
      "Epoch 9/10\n",
      "1030/1030 [==============================] - 2s 2ms/step - loss: 1.6424 - acc: 0.4194 - val_loss: 1.6856 - val_acc: 0.3798\n",
      "Epoch 10/10\n",
      "1030/1030 [==============================] - 2s 2ms/step - loss: 1.6332 - acc: 0.4194 - val_loss: 1.6869 - val_acc: 0.3798\n"
     ]
    },
    {
     "data": {
      "text/plain": [
       "<keras.callbacks.History at 0x1468fd908>"
      ]
     },
     "execution_count": 191,
     "metadata": {},
     "output_type": "execute_result"
    }
   ],
   "source": [
    "'''Code from Riley'''\n",
    "\n",
    "model = Sequential()\n",
    "model.add(Dense(X_train.shape[1], input_dim=X_train.shape[1], activation='relu'))\n",
    "model.add(Dropout(.5))\n",
    "model.add(Dense(100, activation='relu'))\n",
    "model.add(Dense(50, activation='relu'))\n",
    "model.add(Dense(y.shape[1], activation='softmax'))\n",
    "\n",
    "model.compile(loss='categorical_crossentropy', optimizer='adam', metrics=['accuracy'])\n",
    "\n",
    "model.fit(X_train, y_train, validation_data=(X_test, y_test), epochs=10, batch_size=100)"
   ]
  },
  {
   "cell_type": "code",
   "execution_count": null,
   "metadata": {
    "collapsed": true
   },
   "outputs": [],
   "source": []
  }
 ],
 "metadata": {
  "kernelspec": {
   "display_name": "Python 3",
   "language": "python",
   "name": "python3"
  },
  "language_info": {
   "codemirror_mode": {
    "name": "ipython",
    "version": 3
   },
   "file_extension": ".py",
   "mimetype": "text/x-python",
   "name": "python",
   "nbconvert_exporter": "python",
   "pygments_lexer": "ipython3",
   "version": "3.6.1"
  }
 },
 "nbformat": 4,
 "nbformat_minor": 2
}
