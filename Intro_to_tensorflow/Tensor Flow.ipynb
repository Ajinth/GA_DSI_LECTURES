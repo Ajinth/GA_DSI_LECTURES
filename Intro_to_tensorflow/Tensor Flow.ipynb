{
 "cells": [
  {
   "cell_type": "markdown",
   "metadata": {},
   "source": [
    "# Importing the libraries"
   ]
  },
  {
   "cell_type": "code",
   "execution_count": 226,
   "metadata": {},
   "outputs": [],
   "source": [
    "from sklearn.datasets import load_boston, load_breast_cancer, load_iris, fetch_lfw_people\n",
    "\n",
    "from keras.models import Sequential\n",
    "from keras.layers import Dense, Dropout\n",
    "from keras import losses\n",
    "from sklearn.pipeline import Pipeline\n",
    "from sklearn.metrics import r2_score\n",
    "from sklearn.model_selection import KFold\n",
    "\n",
    "\n",
    "\n",
    "\n",
    "from sklearn.cross_validation import train_test_split\n",
    "from sklearn.preprocessing import StandardScaler, LabelEncoder\n",
    "from keras.utils import to_categorical\n",
    "\n",
    "from keras.models import Sequential\n",
    "from keras.layers import Dense, Dropout, Conv2D, MaxPool2D, Flatten\n",
    "from keras.wrappers.scikit_learn import KerasClassifier\n",
    "from sklearn.model_selection import GridSearchCV\n",
    "\n",
    "\n",
    "\n",
    "\n",
    "import seaborn as sns\n",
    "import matplotlib.pyplot as plt \n",
    "%matplotlib inline"
   ]
  },
  {
   "cell_type": "code",
   "execution_count": 227,
   "metadata": {
    "collapsed": true
   },
   "outputs": [],
   "source": [
    "import tensorflow as tf"
   ]
  },
  {
   "cell_type": "code",
   "execution_count": 228,
   "metadata": {},
   "outputs": [
    {
     "data": {
      "text/plain": [
       "<tf.Tensor 'Mul:0' shape=() dtype=int32>"
      ]
     },
     "execution_count": 228,
     "metadata": {},
     "output_type": "execute_result"
    }
   ],
   "source": [
    "a = tf.Variable(3, name = 'a')\n",
    "b = tf.Variable(4, name = 'b')\n",
    "f = tf.multiply(a,b)\n",
    "f"
   ]
  },
  {
   "cell_type": "code",
   "execution_count": 229,
   "metadata": {},
   "outputs": [
    {
     "name": "stdout",
     "output_type": "stream",
     "text": [
      "12\n"
     ]
    }
   ],
   "source": [
    "init = tf.global_variables_initializer()\n",
    "\n",
    "with tf.Session() as sess: \n",
    "    init.run()\n",
    "    result = f.eval()\n",
    "    print (result)"
   ]
  },
  {
   "cell_type": "markdown",
   "metadata": {},
   "source": [
    "# Regression "
   ]
  },
  {
   "cell_type": "code",
   "execution_count": 230,
   "metadata": {
    "collapsed": true
   },
   "outputs": [],
   "source": [
    "data=load_boston()\n",
    "\n",
    "X = data.data\n",
    "y = data.target\n",
    "\n",
    "X_train, X_test, y_train, y_test = train_test_split(X,y, test_size=0.2)\n",
    "\n",
    "ss = StandardScaler()\n",
    "ss_fit = ss.fit(X_train)\n",
    "\n",
    "X_train = ss_fit.transform(X_train)\n",
    "y_train = y_train.reshape(-1,1)\n",
    "\n",
    "X_test = ss_fit.transform(X_test)\n",
    "y_test = y_test.reshape(-1,1)"
   ]
  },
  {
   "cell_type": "code",
   "execution_count": 231,
   "metadata": {},
   "outputs": [],
   "source": [
    "tf.reset_default_graph()\n",
    "\n",
    "X = tf.placeholder(dtype=tf.float32, shape=(None, X_train.shape[1]), name='X')\n",
    "y = tf.placeholder(dtype=tf.float32, shape=(None), name='y')\n",
    "\n",
    "h1 = tf.layers.dense(X, 13, name='hidden1', activation=tf.nn.relu) # First hidden layer \n",
    "y_hat = tf.layers.dense(h1, 1, activation=None) # output layer \n",
    "\n",
    "loss = tf.losses.mean_squared_error(y, y_hat)\n",
    "\n",
    "optimizer = tf.train.AdamOptimizer(.01)\n",
    "training_op = optimizer.minimize(loss)"
   ]
  },
  {
   "cell_type": "code",
   "execution_count": 232,
   "metadata": {},
   "outputs": [
    {
     "name": "stdout",
     "output_type": "stream",
     "text": [
      "epoch 1 training loss:  537.975\n",
      "epoch 1 testing loss:  610.462\n",
      "epoch 2 training loss:  529.855\n",
      "epoch 2 testing loss:  601.133\n",
      "epoch 3 training loss:  521.521\n",
      "epoch 3 testing loss:  591.541\n",
      "epoch 4 training loss:  512.98\n",
      "epoch 4 testing loss:  581.701\n",
      "epoch 5 training loss:  504.256\n",
      "epoch 5 testing loss:  571.702\n",
      "epoch 6 training loss:  495.275\n",
      "epoch 6 testing loss:  561.418\n",
      "epoch 7 training loss:  486.006\n",
      "epoch 7 testing loss:  550.84\n",
      "epoch 8 training loss:  476.478\n",
      "epoch 8 testing loss:  539.962\n",
      "epoch 9 training loss:  466.718\n",
      "epoch 9 testing loss:  528.766\n",
      "epoch 10 training loss:  456.734\n",
      "epoch 10 testing loss:  517.276\n"
     ]
    }
   ],
   "source": [
    "init = tf.global_variables_initializer()\n",
    "\n",
    "with tf.Session() as sess:\n",
    "    init.run()\n",
    "    \n",
    "    for epoch in range(10):\n",
    "        sess.run(training_op, feed_dict={X: X_train, y: y_train})\n",
    "        train_loss = sess.run(loss, feed_dict={X: X_train, y: y_train})\n",
    "        print ('epoch', epoch+1, 'training loss: ', train_loss)\n",
    "        test_loss = sess.run(loss, feed_dict={X: X_test, y: y_test})\n",
    "        print ('epoch', epoch + 1, 'testing loss: ', test_loss )\n",
    "        \n",
    "    pred = sess.run(y_hat, feed_dict={X: X_test})"
   ]
  },
  {
   "cell_type": "code",
   "execution_count": 233,
   "metadata": {},
   "outputs": [
    {
     "name": "stdout",
     "output_type": "stream",
     "text": [
      "epoch 1 training loss 563.466 test loss 642.415\n",
      "epoch 2 training loss 556.414 test loss 634.664\n",
      "epoch 3 training loss 549.338 test loss 626.93\n",
      "epoch 4 training loss 542.226 test loss 619.152\n",
      "epoch 5 training loss 534.998 test loss 611.26\n",
      "epoch 6 training loss 527.653 test loss 603.269\n",
      "epoch 7 training loss 520.168 test loss 595.178\n",
      "epoch 8 training loss 512.571 test loss 586.97\n",
      "epoch 9 training loss 504.876 test loss 578.608\n",
      "epoch 10 training loss 497.051 test loss 570.103\n",
      "epoch 11 training loss 489.098 test loss 561.431\n",
      "epoch 12 training loss 481.005 test loss 552.618\n",
      "epoch 13 training loss 472.754 test loss 543.583\n",
      "epoch 14 training loss 464.353 test loss 534.299\n",
      "epoch 15 training loss 455.796 test loss 524.738\n",
      "epoch 16 training loss 447.078 test loss 514.696\n",
      "epoch 17 training loss 438.179 test loss 504.426\n",
      "epoch 18 training loss 429.129 test loss 493.899\n",
      "epoch 19 training loss 419.921 test loss 483.103\n",
      "epoch 20 training loss 410.592 test loss 472.086\n",
      "epoch 21 training loss 401.165 test loss 460.943\n",
      "epoch 22 training loss 391.671 test loss 449.573\n",
      "epoch 23 training loss 382.166 test loss 438.079\n",
      "epoch 24 training loss 372.683 test loss 426.556\n",
      "epoch 25 training loss 363.237 test loss 415.004\n",
      "epoch 26 training loss 353.862 test loss 403.455\n",
      "epoch 27 training loss 344.591 test loss 391.974\n",
      "epoch 28 training loss 335.454 test loss 380.541\n",
      "epoch 29 training loss 326.486 test loss 369.227\n",
      "epoch 30 training loss 317.721 test loss 358.089\n",
      "epoch 31 training loss 309.188 test loss 347.156\n",
      "epoch 32 training loss 300.918 test loss 336.471\n",
      "epoch 33 training loss 292.939 test loss 326.073\n",
      "epoch 34 training loss 285.279 test loss 315.982\n",
      "epoch 35 training loss 277.952 test loss 306.237\n",
      "epoch 36 training loss 270.986 test loss 296.857\n",
      "epoch 37 training loss 264.39 test loss 287.872\n",
      "epoch 38 training loss 258.171 test loss 279.293\n",
      "epoch 39 training loss 252.337 test loss 271.14\n",
      "epoch 40 training loss 246.891 test loss 263.424\n",
      "epoch 41 training loss 241.828 test loss 256.143\n",
      "epoch 42 training loss 237.137 test loss 249.297\n",
      "epoch 43 training loss 232.789 test loss 242.875\n",
      "epoch 44 training loss 228.764 test loss 236.841\n",
      "epoch 45 training loss 225.041 test loss 231.183\n",
      "epoch 46 training loss 221.592 test loss 225.872\n",
      "epoch 47 training loss 218.387 test loss 220.882\n",
      "epoch 48 training loss 215.383 test loss 216.194\n",
      "epoch 49 training loss 212.547 test loss 211.76\n",
      "epoch 50 training loss 209.857 test loss 207.569\n",
      "epoch 51 training loss 207.285 test loss 203.586\n",
      "epoch 52 training loss 204.802 test loss 199.787\n",
      "epoch 53 training loss 202.366 test loss 196.147\n",
      "epoch 54 training loss 199.96 test loss 192.628\n",
      "epoch 55 training loss 197.566 test loss 189.204\n",
      "epoch 56 training loss 195.166 test loss 185.869\n",
      "epoch 57 training loss 192.756 test loss 182.598\n",
      "epoch 58 training loss 190.313 test loss 179.37\n",
      "epoch 59 training loss 187.824 test loss 176.176\n",
      "epoch 60 training loss 185.298 test loss 173.018\n",
      "epoch 61 training loss 182.728 test loss 169.891\n",
      "epoch 62 training loss 180.122 test loss 166.784\n",
      "epoch 63 training loss 177.478 test loss 163.692\n",
      "epoch 64 training loss 174.804 test loss 160.6\n",
      "epoch 65 training loss 172.083 test loss 157.51\n",
      "epoch 66 training loss 169.31 test loss 154.378\n",
      "epoch 67 training loss 166.501 test loss 151.234\n",
      "epoch 68 training loss 163.64 test loss 148.071\n",
      "epoch 69 training loss 160.731 test loss 144.902\n",
      "epoch 70 training loss 157.784 test loss 141.724\n",
      "epoch 71 training loss 154.782 test loss 138.525\n",
      "epoch 72 training loss 151.709 test loss 135.287\n",
      "epoch 73 training loss 148.579 test loss 132.012\n",
      "epoch 74 training loss 145.381 test loss 128.697\n",
      "epoch 75 training loss 142.12 test loss 125.332\n",
      "epoch 76 training loss 138.813 test loss 121.909\n",
      "epoch 77 training loss 135.44 test loss 118.444\n",
      "epoch 78 training loss 131.994 test loss 114.942\n",
      "epoch 79 training loss 128.49 test loss 111.398\n",
      "epoch 80 training loss 124.928 test loss 107.823\n",
      "epoch 81 training loss 121.326 test loss 104.207\n",
      "epoch 82 training loss 117.683 test loss 100.566\n",
      "epoch 83 training loss 114.002 test loss 96.9184\n",
      "epoch 84 training loss 110.301 test loss 93.2812\n",
      "epoch 85 training loss 106.593 test loss 89.6513\n",
      "epoch 86 training loss 102.872 test loss 86.0284\n",
      "epoch 87 training loss 99.1612 test loss 82.4397\n",
      "epoch 88 training loss 95.4852 test loss 78.9006\n",
      "epoch 89 training loss 91.8546 test loss 75.4281\n",
      "epoch 90 training loss 88.2845 test loss 72.0318\n",
      "epoch 91 training loss 84.793 test loss 68.7063\n",
      "epoch 92 training loss 81.3927 test loss 65.4868\n",
      "epoch 93 training loss 78.0998 test loss 62.3668\n",
      "epoch 94 training loss 74.9202 test loss 59.385\n",
      "epoch 95 training loss 71.8822 test loss 56.5589\n",
      "epoch 96 training loss 69.0017 test loss 53.8719\n",
      "epoch 97 training loss 66.2886 test loss 51.3291\n",
      "epoch 98 training loss 63.7436 test loss 48.9568\n",
      "epoch 99 training loss 61.3759 test loss 46.763\n",
      "epoch 100 training loss 59.2015 test loss 44.7588\n",
      "epoch 101 training loss 57.195 test loss 42.9249\n",
      "epoch 102 training loss 55.3529 test loss 41.2631\n",
      "epoch 103 training loss 53.6946 test loss 39.7724\n",
      "epoch 104 training loss 52.2224 test loss 38.4426\n",
      "epoch 105 training loss 50.9281 test loss 37.2383\n",
      "epoch 106 training loss 49.7981 test loss 36.1736\n",
      "epoch 107 training loss 48.8073 test loss 35.2509\n",
      "epoch 108 training loss 47.9451 test loss 34.4474\n",
      "epoch 109 training loss 47.1931 test loss 33.7506\n",
      "epoch 110 training loss 46.5306 test loss 33.1368\n",
      "epoch 111 training loss 45.9445 test loss 32.5544\n",
      "epoch 112 training loss 45.4118 test loss 32.0297\n",
      "epoch 113 training loss 44.906 test loss 31.5481\n",
      "epoch 114 training loss 44.4196 test loss 31.0955\n",
      "epoch 115 training loss 43.9367 test loss 30.6612\n",
      "epoch 116 training loss 43.4534 test loss 30.2367\n",
      "epoch 117 training loss 42.9661 test loss 29.8118\n",
      "epoch 118 training loss 42.4694 test loss 29.3865\n",
      "epoch 119 training loss 41.9615 test loss 28.9599\n",
      "epoch 120 training loss 41.4432 test loss 28.5334\n",
      "epoch 121 training loss 40.917 test loss 28.0995\n",
      "epoch 122 training loss 40.3876 test loss 27.6542\n",
      "epoch 123 training loss 39.8584 test loss 27.2222\n",
      "epoch 124 training loss 39.3372 test loss 26.8001\n",
      "epoch 125 training loss 38.8273 test loss 26.3917\n",
      "epoch 126 training loss 38.3308 test loss 25.9997\n",
      "epoch 127 training loss 37.8508 test loss 25.6252\n",
      "epoch 128 training loss 37.3875 test loss 25.2688\n",
      "epoch 129 training loss 36.9458 test loss 24.9312\n",
      "epoch 130 training loss 36.5251 test loss 24.6139\n",
      "epoch 131 training loss 36.1265 test loss 24.3166\n",
      "epoch 132 training loss 35.75 test loss 24.0385\n",
      "epoch 133 training loss 35.3953 test loss 23.7782\n",
      "epoch 134 training loss 35.0608 test loss 23.5321\n",
      "epoch 135 training loss 34.7429 test loss 23.3001\n",
      "epoch 136 training loss 34.438 test loss 23.082\n",
      "epoch 137 training loss 34.1465 test loss 22.8758\n",
      "epoch 138 training loss 33.8663 test loss 22.679\n",
      "epoch 139 training loss 33.5964 test loss 22.4903\n",
      "epoch 140 training loss 33.3328 test loss 22.3088\n",
      "epoch 141 training loss 33.0768 test loss 22.1335\n",
      "epoch 142 training loss 32.824 test loss 21.9631\n",
      "epoch 143 training loss 32.576 test loss 21.7975\n",
      "epoch 144 training loss 32.3333 test loss 21.6351\n",
      "epoch 145 training loss 32.0949 test loss 21.4748\n",
      "epoch 146 training loss 31.8615 test loss 21.3184\n",
      "epoch 147 training loss 31.633 test loss 21.1658\n",
      "epoch 148 training loss 31.4092 test loss 21.0219\n",
      "epoch 149 training loss 31.1907 test loss 20.8815\n",
      "epoch 150 training loss 30.9758 test loss 20.7452\n",
      "epoch 151 training loss 30.7666 test loss 20.6126\n",
      "epoch 152 training loss 30.5625 test loss 20.4838\n",
      "epoch 153 training loss 30.3585 test loss 20.3592\n",
      "epoch 154 training loss 30.1572 test loss 20.2385\n",
      "epoch 155 training loss 29.9604 test loss 20.1215\n",
      "epoch 156 training loss 29.7695 test loss 20.0082\n",
      "epoch 157 training loss 29.5837 test loss 19.8978\n",
      "epoch 158 training loss 29.4023 test loss 19.7904\n",
      "epoch 159 training loss 29.2248 test loss 19.6854\n",
      "epoch 160 training loss 29.0511 test loss 19.5817\n",
      "epoch 161 training loss 28.881 test loss 19.4802\n",
      "epoch 162 training loss 28.7143 test loss 19.3807\n",
      "epoch 163 training loss 28.5502 test loss 19.2831\n",
      "epoch 164 training loss 28.3884 test loss 19.186\n",
      "epoch 165 training loss 28.2285 test loss 19.0899\n",
      "epoch 166 training loss 28.0715 test loss 18.9948\n",
      "epoch 167 training loss 27.917 test loss 18.9005\n",
      "epoch 168 training loss 27.7648 test loss 18.8073\n",
      "epoch 169 training loss 27.6146 test loss 18.7149\n",
      "epoch 170 training loss 27.4663 test loss 18.6238\n",
      "epoch 171 training loss 27.3205 test loss 18.5339\n",
      "epoch 172 training loss 27.1773 test loss 18.445\n",
      "epoch 173 training loss 27.037 test loss 18.3573\n",
      "epoch 174 training loss 26.8996 test loss 18.2708\n",
      "epoch 175 training loss 26.7645 test loss 18.1855\n",
      "epoch 176 training loss 26.6316 test loss 18.1012\n",
      "epoch 177 training loss 26.4975 test loss 18.0177\n",
      "epoch 178 training loss 26.3636 test loss 17.9353\n",
      "epoch 179 training loss 26.231 test loss 17.854\n",
      "epoch 180 training loss 26.1002 test loss 17.7739\n",
      "epoch 181 training loss 25.9711 test loss 17.6952\n",
      "epoch 182 training loss 25.8435 test loss 17.6179\n",
      "epoch 183 training loss 25.716 test loss 17.5403\n",
      "epoch 184 training loss 25.5895 test loss 17.4625\n",
      "epoch 185 training loss 25.4639 test loss 17.3858\n",
      "epoch 186 training loss 25.3396 test loss 17.3102\n",
      "epoch 187 training loss 25.2165 test loss 17.2354\n",
      "epoch 188 training loss 25.0947 test loss 17.1613\n",
      "epoch 189 training loss 24.9741 test loss 17.088\n",
      "epoch 190 training loss 24.8548 test loss 17.0157\n",
      "epoch 191 training loss 24.7366 test loss 16.9439\n",
      "epoch 192 training loss 24.6195 test loss 16.8724\n",
      "epoch 193 training loss 24.5037 test loss 16.8014\n",
      "epoch 194 training loss 24.3895 test loss 16.7286\n",
      "epoch 195 training loss 24.2765 test loss 16.6557\n",
      "epoch 196 training loss 24.1647 test loss 16.5832\n",
      "epoch 197 training loss 24.0541 test loss 16.511\n",
      "epoch 198 training loss 23.9447 test loss 16.4391\n",
      "epoch 199 training loss 23.8364 test loss 16.3676\n",
      "epoch 200 training loss 23.7291 test loss 16.2971\n"
     ]
    }
   ],
   "source": [
    "'''Code from Riley'''\n",
    "\n",
    "init = tf.global_variables_initializer()\n",
    "\n",
    "with tf.Session() as sess:\n",
    "    init.run()\n",
    "    \n",
    "    for epoch in range(200):\n",
    "        sess.run(training_op, feed_dict={X: X_train, y: y_train})\n",
    "        train_loss = sess.run(loss, feed_dict={X: X_train, y: y_train})\n",
    "        test_loss = sess.run(loss, feed_dict={X: X_test, y: y_test})\n",
    "        print('epoch', epoch+1, 'training loss', train_loss, 'test loss', test_loss)\n",
    "    pred = sess.run(y_hat, feed_dict={X: X_test})"
   ]
  },
  {
   "cell_type": "code",
   "execution_count": 234,
   "metadata": {},
   "outputs": [
    {
     "data": {
      "text/plain": [
       "0.82631501216540959"
      ]
     },
     "execution_count": 234,
     "metadata": {},
     "output_type": "execute_result"
    }
   ],
   "source": [
    "r2_score(y_test, pred)"
   ]
  },
  {
   "cell_type": "markdown",
   "metadata": {},
   "source": [
    "# Classification "
   ]
  },
  {
   "cell_type": "code",
   "execution_count": 235,
   "metadata": {
    "collapsed": true
   },
   "outputs": [],
   "source": [
    "data = load_breast_cancer()\n",
    "\n",
    "target = data.target * -1 + 1\n",
    "target = target.reshape(-1, 1)\n",
    "\n",
    "X_train, X_test, y_train, y_test = train_test_split(data.data, target)\n",
    "\n",
    "ss = StandardScaler()\n",
    "X_train = ss.fit_transform(X_train)\n",
    "X_test = ss.transform(X_test)"
   ]
  },
  {
   "cell_type": "code",
   "execution_count": 236,
   "metadata": {},
   "outputs": [],
   "source": [
    "tf.reset_default_graph()\n",
    "\n",
    "X = tf.placeholder(dtype=tf.float32, shape=(None, X_train.shape[1]), name='X')\n",
    "y = tf.placeholder(dtype=tf.float32, shape=(None), name='y')\n",
    "\n",
    "h1 = tf.layers.dense(X, 30, name='hidden1', activation=tf.nn.relu)\n",
    "y_hat = tf.layers.dense(h1, units = 1, name='y_hat', activation=tf.nn.sigmoid)\n",
    "\n",
    "\n",
    "loss = tf.losses.log_loss(y, y_hat)\n",
    "\n",
    "optimizer = tf.train.AdamOptimizer(.01)\n",
    "\n",
    "training_op = optimizer.minimize(loss)"
   ]
  },
  {
   "cell_type": "code",
   "execution_count": 237,
   "metadata": {},
   "outputs": [
    {
     "data": {
      "image/png": "[encoded data removed]",
      "text/plain": [
       "<matplotlib.figure.Figure at 0x120deaf60>"
      ]
     },
     "metadata": {},
     "output_type": "display_data"
    }
   ],
   "source": [
    "init = tf.global_variables_initializer()\n",
    "\n",
    "with tf.Session() as sess:\n",
    "    init.run()\n",
    "    \n",
    "    training_loss_list = []\n",
    "    epoch_list = []\n",
    "    for epoch in range(10):\n",
    "        sess.run(training_op, feed_dict={X: X_train, y: y_train})\n",
    "        train_loss = sess.run(loss, feed_dict={X: X_train, y: y_train})\n",
    "        training_loss_list.append(train_loss)\n",
    "        epoch_list.append(epoch+1)\n",
    "        \n",
    "    plt.plot(epoch_list, training_loss_list)\n",
    "    plt.title('Epoch V/s Loss')\n",
    "    plt.xlabel('Epoch')\n",
    "    plt.ylabel('Loss Function')\n",
    "    plt.show()"
   ]
  },
  {
   "cell_type": "code",
   "execution_count": 238,
   "metadata": {
    "collapsed": true
   },
   "outputs": [],
   "source": [
    "tf.reset_default_graph()\n",
    "\n",
    "X = tf.placeholder(dtype=tf.float32, shape=(None, X_train.shape[1]), name='X')\n",
    "y = tf.placeholder(dtype=tf.float32, shape=(None), name='y')\n",
    "\n",
    "h1 = tf.layers.dense(X, 30, name='hidden1', activation=tf.nn.relu)\n",
    "y_hat = tf.layers.dense(h1, units = 1, name='y_hat', activation=tf.nn.sigmoid)\n",
    "\n",
    "\n",
    "loss = tf.losses.log_loss(y, y_hat)\n",
    "\n",
    "optimizer = tf.train.AdamOptimizer(.01)\n",
    "\n",
    "training_op = optimizer.minimize(loss)"
   ]
  },
  {
   "cell_type": "code",
   "execution_count": 239,
   "metadata": {},
   "outputs": [
    {
     "data": {
      "text/plain": [
       "<matplotlib.legend.Legend at 0x127b74630>"
      ]
     },
     "execution_count": 239,
     "metadata": {},
     "output_type": "execute_result"
    },
    {
     "data": {
      "image/png": "[encoded data removed]",
      "text/plain": [
       "<matplotlib.figure.Figure at 0x127aafd68>"
      ]
     },
     "metadata": {},
     "output_type": "display_data"
    }
   ],
   "source": [
    "'''Code from Riley'''\n",
    "\n",
    "init = tf.global_variables_initializer()\n",
    "\n",
    "with tf.Session() as sess:\n",
    "    init.run()\n",
    "    epochs = list(range(1,101))\n",
    "    training_losses = []\n",
    "    test_losses = []\n",
    "    for epoch in epochs:\n",
    "        sess.run(training_op, feed_dict={X: X_train, y: y_train})\n",
    "        training_loss = sess.run(loss, feed_dict={X: X_train, y: y_train})\n",
    "        training_losses.append(training_loss)\n",
    "        \n",
    "        test_loss = sess.run(loss, feed_dict={X: X_test, y: y_test})\n",
    "        test_losses.append(test_loss)\n",
    "        \n",
    "plt.plot(training_losses, label='train loss')\n",
    "plt.plot(test_losses, label='test loss')\n",
    "plt.legend()\n"
   ]
  },
  {
   "cell_type": "markdown",
   "metadata": {},
   "source": [
    "# Using Batches and Kfold"
   ]
  },
  {
   "cell_type": "code",
   "execution_count": 240,
   "metadata": {
    "collapsed": true
   },
   "outputs": [],
   "source": [
    "tf.reset_default_graph()\n",
    "\n",
    "X = tf.placeholder(dtype=tf.float32, shape=(None, X_train.shape[1]), name='X')\n",
    "y = tf.placeholder(dtype=tf.float32, shape=(None), name='y')\n",
    "\n",
    "h1 = tf.layers.dense(X, 30, name='hidden1', activation=tf.nn.relu)\n",
    "h2 = tf.layers.dense(X, 30, name='hidden2', activation=tf.nn.relu)\n",
    "h3 = tf.layers.dense(X, 30, name='hidden3', activation=tf.nn.relu)\n",
    "h4 = tf.layers.dense(X, 30, name='hidden4', activation=tf.nn.relu)\n",
    "y_hat = tf.layers.dense(h1, units = 1, name='y_hat', activation=tf.nn.sigmoid)\n",
    "\n",
    "\n",
    "loss = tf.losses.log_loss(y, y_hat)\n",
    "\n",
    "optimizer = tf.train.AdamOptimizer(.01)\n",
    "\n",
    "training_op = optimizer.minimize(loss)"
   ]
  },
  {
   "cell_type": "code",
   "execution_count": 241,
   "metadata": {},
   "outputs": [],
   "source": [
    "kf = KFold(2, shuffle=True, random_state=2003)\n",
    "\n",
    "batches = []\n",
    "for train, test in kf.split(X_train, y_train):\n",
    "    batches.append(test)"
   ]
  },
  {
   "cell_type": "code",
   "execution_count": 242,
   "metadata": {},
   "outputs": [
    {
     "data": {
      "text/plain": [
       "<matplotlib.legend.Legend at 0x128298278>"
      ]
     },
     "execution_count": 242,
     "metadata": {},
     "output_type": "execute_result"
    },
    {
     "data": {
      "image/png": "[encoded data removed]",
      "text/plain": [
       "<matplotlib.figure.Figure at 0x12826b780>"
      ]
     },
     "metadata": {},
     "output_type": "display_data"
    }
   ],
   "source": [
    "init = tf.global_variables_initializer()\n",
    "\n",
    "with tf.Session() as sess:\n",
    "    init.run()\n",
    "    epochs = list(range(1,101))\n",
    "    training_losses = []\n",
    "    test_losses = []\n",
    "    for epoch in epochs:\n",
    "        for batch in batches: \n",
    "            X_batch = X_train[batch]\n",
    "            y_batch = y_train[batch]\n",
    "            sess.run(training_op, feed_dict={X: X_train, y: y_train})\n",
    "            \n",
    "        training_loss = sess.run(loss, feed_dict={X: X_train, y: y_train})\n",
    "        training_losses.append(training_loss)\n",
    "        \n",
    "        test_loss = sess.run(loss, feed_dict={X: X_test, y: y_test})\n",
    "        test_losses.append(test_loss)\n",
    "    pred = sess.run(y_hat, feed_dict={X: X_test})\n",
    "        \n",
    "plt.plot(training_losses, label='train loss')\n",
    "plt.plot(test_losses, label='test loss')\n",
    "plt.legend()\n"
   ]
  },
  {
   "cell_type": "code",
   "execution_count": 243,
   "metadata": {},
   "outputs": [
    {
     "data": {
      "text/plain": [
       "<matplotlib.legend.Legend at 0x123dec630>"
      ]
     },
     "execution_count": 243,
     "metadata": {},
     "output_type": "execute_result"
    },
    {
     "data": {
      "image/png": "[encoded data removed]",
      "text/plain": [
       "<matplotlib.figure.Figure at 0x127c14550>"
      ]
     },
     "metadata": {},
     "output_type": "display_data"
    }
   ],
   "source": [
    "tf.reset_default_graph()\n",
    "\n",
    "X = tf.placeholder(dtype=tf.float32, shape=(None, X_train.shape[1]), name='X')\n",
    "y = tf.placeholder(dtype=tf.float32, shape=(None), name='y')\n",
    "\n",
    "h1 = tf.layers.dense(X, 30, name='hidden1', activation=tf.nn.relu)\n",
    "h2 = tf.layers.dense(h1, 30, name='hidden2', activation=tf.nn.relu)\n",
    "h3 = tf.layers.dense(h2, 30, name='hidden3', activation=tf.nn.relu)\n",
    "y_hat = tf.layers.dense(h3, 1, name='y_hat', activation=tf.nn.sigmoid)\n",
    "\n",
    "loss = tf.losses.log_loss(y, y_hat)\n",
    "\n",
    "optimizer = tf.train.AdamOptimizer(.001)\n",
    "\n",
    "training_op = optimizer.minimize(loss)\n",
    "\n",
    "\n",
    "init = tf.global_variables_initializer()\n",
    "\n",
    "with tf.Session() as sess:\n",
    "    init.run()\n",
    "    epochs = list(range(1,100))\n",
    "    training_losses = []\n",
    "    test_losses = []\n",
    "    for epoch in epochs:\n",
    "        for batch in batches:\n",
    "            X_batch = X_train[batch]\n",
    "            y_batch = y_train[batch]\n",
    "            sess.run(training_op, feed_dict={X: X_batch, y: y_batch})\n",
    "        \n",
    "        training_loss = sess.run(loss, feed_dict={X: X_train, y: y_train})\n",
    "        training_losses.append(training_loss)\n",
    "        \n",
    "        test_loss = sess.run(loss, feed_dict={X: X_test, y: y_test})\n",
    "        test_losses.append(test_loss)\n",
    "    pred = sess.run(y_hat, feed_dict={X: X_test})\n",
    "        \n",
    "plt.plot(training_losses, label='train loss')\n",
    "plt.plot(test_losses, label='test loss')\n",
    "plt.legend()"
   ]
  },
  {
   "cell_type": "code",
   "execution_count": 244,
   "metadata": {
    "collapsed": true
   },
   "outputs": [],
   "source": [
    "pred = (pred > .5).astype(int)"
   ]
  },
  {
   "cell_type": "code",
   "execution_count": 245,
   "metadata": {},
   "outputs": [
    {
     "data": {
      "text/plain": [
       "0.96757369614512467"
      ]
     },
     "execution_count": 245,
     "metadata": {},
     "output_type": "execute_result"
    }
   ],
   "source": [
    "r2_score(y_test, pred)"
   ]
  },
  {
   "cell_type": "code",
   "execution_count": 246,
   "metadata": {},
   "outputs": [
    {
     "data": {
      "text/plain": [
       "array([[97,  1],\n",
       "       [ 0, 45]])"
      ]
     },
     "execution_count": 246,
     "metadata": {},
     "output_type": "execute_result"
    }
   ],
   "source": [
    "from sklearn.metrics import confusion_matrix\n",
    "confusion_matrix(y_test, pred)"
   ]
  },
  {
   "cell_type": "markdown",
   "metadata": {},
   "source": [
    "# MultiClassification"
   ]
  },
  {
   "cell_type": "code",
   "execution_count": 247,
   "metadata": {
    "collapsed": true
   },
   "outputs": [],
   "source": [
    "data = load_iris()\n",
    "\n",
    "X = data.data\n",
    "y = data.target\n",
    "\n",
    "X_train, X_test, y_train, y_test = train_test_split(X,y, test_size=0.2)\n",
    "\n",
    "y_train = to_categorical(y_train)\n",
    "y_test = to_categorical(y_test)\n",
    "\n",
    "ss = StandardScaler()\n",
    "ss.fit(X_train)\n",
    "\n",
    "X_train = ss.transform(X_train)\n",
    "X_test = ss.transform(X_test)"
   ]
  },
  {
   "cell_type": "code",
   "execution_count": 256,
   "metadata": {},
   "outputs": [],
   "source": [
    "tf.reset_default_graph()\n",
    "\n",
    "X = tf.placeholder(dtype=tf.float32, shape=(None, X_train.shape[1]), name='X')\n",
    "y = tf.placeholder(dtype=tf.float32, shape=(None), name='y')\n",
    "\n",
    "h1 = tf.layers.dense(X, 4, activation=tf.nn.relu, name='hidden1')\n",
    "y_hat = tf.layers.dense(h1, y_train.shape[1], name='y_hat', activation=None)\n",
    "\n",
    "loss = tf.losses.softmax_cross_entropy(y, y_hat)\n",
    "\n",
    "optimizer = tf.train.AdamOptimizer(0.01)\n",
    "training_op = optimizer.minimize(loss)\n",
    "\n",
    "saver = tf.train.Saver()"
   ]
  },
  {
   "cell_type": "code",
   "execution_count": 257,
   "metadata": {},
   "outputs": [
    {
     "name": "stdout",
     "output_type": "stream",
     "text": [
      "Epoch:  1 Training Loss:  1.06594\n",
      "Epoch:  2 Training Loss:  1.05594\n",
      "Epoch:  3 Training Loss:  1.04677\n",
      "Epoch:  4 Training Loss:  1.03784\n",
      "Epoch:  5 Training Loss:  1.02891\n",
      "Epoch:  6 Training Loss:  1.01983\n",
      "Epoch:  7 Training Loss:  1.01037\n",
      "Epoch:  8 Training Loss:  1.00037\n",
      "Epoch:  9 Training Loss:  0.989991\n",
      "Epoch:  10 Training Loss:  0.979089\n",
      "Epoch:  11 Training Loss:  0.967713\n",
      "Epoch:  12 Training Loss:  0.955813\n",
      "Epoch:  13 Training Loss:  0.943473\n",
      "Epoch:  14 Training Loss:  0.930735\n",
      "Epoch:  15 Training Loss:  0.917505\n",
      "Epoch:  16 Training Loss:  0.903792\n",
      "Epoch:  17 Training Loss:  0.889499\n",
      "Epoch:  18 Training Loss:  0.874763\n",
      "Epoch:  19 Training Loss:  0.859532\n",
      "Epoch:  20 Training Loss:  0.843835\n"
     ]
    }
   ],
   "source": [
    "init = tf.global_variables_initializer()\n",
    "\n",
    "with tf.Session() as sess: \n",
    "    init.run()\n",
    "    \n",
    "    for epoch in range(20): \n",
    "        sess.run(training_op, feed_dict = {X: X_train, y: y_train})\n",
    "        train_loss = sess.run(loss, feed_dict = {X: X_train, y: y_train})\n",
    "        print ('Epoch: ', epoch +1 , 'Training Loss: ', train_loss)\n",
    "        \n",
    "    saver.save(sess, './iris.ckpt', )"
   ]
  },
  {
   "cell_type": "markdown",
   "metadata": {},
   "source": [
    "# Shape"
   ]
  },
  {
   "cell_type": "code",
   "execution_count": 264,
   "metadata": {},
   "outputs": [
    {
     "name": "stdout",
     "output_type": "stream",
     "text": [
      "INFO:tensorflow:Restoring parameters from ./iris.ckpt\n"
     ]
    }
   ],
   "source": [
    "with tf.Session() as sess:\n",
    "    saver.restore(sess, './iris.ckpt')\n",
    "    pred = sess.run(y_hat, feed_dict={X: X_train, y: y_train})"
   ]
  },
  {
   "cell_type": "code",
   "execution_count": 265,
   "metadata": {},
   "outputs": [
    {
     "data": {
      "text/plain": [
       "array([[  2.44711846e-01,  -3.12213957e-01,  -5.67115724e-01],\n",
       "       [ -2.45592296e-01,  -3.25671673e-01,   5.86384118e-01],\n",
       "       [  2.06668496e-01,  -3.34188998e-01,  -3.08670044e-01],\n",
       "       [  7.07370490e-02,   4.33320105e-01,  -1.92042261e-01],\n",
       "       [ -1.27899587e-01,  -2.76186287e-01,   4.23200339e-01],\n",
       "       [ -2.94311583e-01,   7.89501429e-01,  -3.04229736e-01],\n",
       "       [  1.51356936e-01,  -1.58769250e-01,   3.60044092e-02],\n",
       "       [  4.36754823e-02,   1.27955869e-01,   4.09315601e-02],\n",
       "       [ -5.14078200e-01,  -4.38560069e-01,   9.58646357e-01],\n",
       "       [  1.06352001e-01,   4.44382727e-02,   2.45184079e-02],\n",
       "       [  9.78404805e-02,   6.89488828e-01,  -4.62502599e-01],\n",
       "       [  2.09736660e-01,  -3.80730152e-01,  -3.77441049e-01],\n",
       "       [ -1.34415030e-01,  -2.78925776e-01,   4.32234138e-01],\n",
       "       [  1.25002369e-01,   8.88618231e-01,  -6.61215067e-01],\n",
       "       [ -7.82489479e-02,   2.20901921e-01,   1.77768469e-01],\n",
       "       [ -4.94689882e-01,  -4.30408001e-01,   9.31764007e-01],\n",
       "       [  2.82852590e-01,   1.11126438e-01,  -5.96711993e-01],\n",
       "       [  9.50483829e-02,   3.44395220e-01,  -1.08871721e-01],\n",
       "       [ -4.21284735e-01,  -3.99543881e-01,   8.29986036e-01],\n",
       "       [ -2.29798526e-01,  -2.48616725e-01,   5.41064084e-01],\n",
       "       [  2.05252558e-01,  -3.12710673e-01,  -2.76932806e-01],\n",
       "       [ -6.87831342e-02,   1.74143210e-01,   1.36716723e-01],\n",
       "       [  2.71513104e-01,   8.57910663e-02,  -7.27279067e-01],\n",
       "       [ -3.40289056e-01,  -3.65488172e-01,   7.17683494e-01],\n",
       "       [  2.08159521e-01,  -3.56806576e-01,  -3.42090607e-01],\n",
       "       [  5.77920675e-03,   8.11810941e-02,   1.37677580e-01],\n",
       "       [  2.85742283e-01,   7.99591482e-01,  -7.16564596e-01],\n",
       "       [  1.89534754e-01,   9.67748761e-01,  -9.61419821e-01],\n",
       "       [  2.90743798e-01,   5.47026336e-01,  -5.30040205e-01],\n",
       "       [  2.78155267e-01,   1.14064738e-01,  -7.63481021e-01],\n",
       "       [ -1.49857968e-01,  -2.93364584e-01,   4.42928702e-01],\n",
       "       [  3.04321796e-01,   1.12401104e+00,  -1.52244377e+00],\n",
       "       [ -4.22720432e-01,  -3.92511904e-01,   8.29436839e-01],\n",
       "       [  2.07518712e-01,  -3.47086012e-01,  -3.27727139e-01],\n",
       "       [ -2.96240807e-01,   5.63960373e-01,   6.02997094e-03],\n",
       "       [  2.08053678e-01,   2.06220165e-01,  -1.65265679e-01],\n",
       "       [  1.29340887e-02,  -2.44502872e-02,   1.63893610e-01],\n",
       "       [  1.68398261e-01,  -8.97893012e-02,  -8.18499923e-03],\n",
       "       [  1.62375599e-01,  -1.54136315e-01,   2.07267702e-02],\n",
       "       [  2.06936434e-01,  -3.38253379e-01,  -3.14675689e-01],\n",
       "       [ -3.27283800e-01,  -9.64958966e-03,   5.50038338e-01],\n",
       "       [  2.82852590e-01,   1.11126438e-01,  -5.96711993e-01],\n",
       "       [  2.09598258e-01,  -3.78630757e-01,  -3.74338865e-01],\n",
       "       [ -1.46897286e-01,  -2.84174085e-01,   4.49541122e-01],\n",
       "       [  2.21500188e-01,  -3.25213313e-01,  -4.09023255e-01],\n",
       "       [  5.77241182e-04,  -2.22166523e-01,   2.45064110e-01],\n",
       "       [ -5.58254063e-01,  -4.57134366e-01,   1.01989734e+00],\n",
       "       [  2.27635324e-01,   7.96078801e-01,  -6.64995968e-01],\n",
       "       [  2.86024839e-01,   2.48172656e-01,  -7.44829893e-01],\n",
       "       [  2.41522998e-01,  -2.04903707e-01,  -4.37171906e-01],\n",
       "       [ -9.97281671e-02,   3.69760096e-01,  -1.04272291e-02],\n",
       "       [  1.60833597e-01,   7.26405561e-01,  -5.50574839e-01],\n",
       "       [ -1.46709263e-01,   1.39891163e-01,   1.92047328e-01],\n",
       "       [ -2.49157280e-01,  -4.18540090e-02,   4.96423304e-01],\n",
       "       [ -1.78029865e-01,  -8.14505666e-02,   4.20921922e-01],\n",
       "       [  9.61524546e-02,  -1.81980684e-01,   1.12546764e-01],\n",
       "       [ -9.49729681e-02,   1.18479446e-01,   2.00268239e-01],\n",
       "       [ -3.53588104e-01,  -3.71079922e-01,   7.36122906e-01],\n",
       "       [  3.21382433e-01,   7.71996319e-01,  -6.97679996e-01],\n",
       "       [  2.80687690e-01,   1.73908129e-01,  -8.97870779e-01],\n",
       "       [  2.76376694e-01,   2.39097968e-01,  -7.34073639e-01],\n",
       "       [  7.96143115e-02,   5.27744532e-01,  -2.34998643e-01],\n",
       "       [ -9.20420289e-02,  -2.61109501e-01,   3.73482972e-01],\n",
       "       [  2.18760908e-01,   8.49729300e-01,  -9.63368595e-01],\n",
       "       [ -2.52478570e-01,  -3.28567088e-01,   5.95932126e-01],\n",
       "       [  2.51006275e-01,  -1.81106210e-01,  -4.83422697e-01],\n",
       "       [  2.35636711e-01,  -2.44157001e-01,  -4.67355609e-01],\n",
       "       [  2.05294088e-01,   4.88011062e-01,  -3.79187584e-01],\n",
       "       [  2.90563941e-01,   3.98330748e-01,  -1.09113514e+00],\n",
       "       [  1.02287635e-01,  -1.69225037e-02,   4.99955341e-02],\n",
       "       [  2.04526216e-01,  -3.01692724e-01,  -2.60652274e-01],\n",
       "       [  2.58754581e-01,  -1.22740865e-03,  -5.77349246e-01],\n",
       "       [  2.26663291e-01,   6.52613103e-01,  -5.29835045e-01],\n",
       "       [  1.29346550e-02,   6.01470619e-02,   1.35753572e-01],\n",
       "       [  2.05060050e-01,  -3.09790611e-01,  -2.72617996e-01],\n",
       "       [  2.82264978e-01,   8.24949741e-02,  -6.65293515e-01],\n",
       "       [  2.06427783e-01,  -3.30537796e-01,  -3.03274810e-01],\n",
       "       [  2.09864393e-01,  -3.82667810e-01,  -3.80304188e-01],\n",
       "       [ -4.30874676e-02,  -2.40525916e-01,   3.05606306e-01],\n",
       "       [  1.21142030e-01,   2.78673351e-01,  -2.59743065e-01],\n",
       "       [ -2.23317742e-03,  -1.25199348e-01,   2.16313928e-01],\n",
       "       [ -6.53573692e-01,  -4.97212708e-01,   1.15206027e+00],\n",
       "       [  2.03845456e-01,  -2.91366428e-01,  -2.45393693e-01],\n",
       "       [ -2.48427659e-01,  -3.26863855e-01,   5.90315461e-01],\n",
       "       [ -9.80910063e-02,   1.04160249e-01,   2.29884267e-01],\n",
       "       [ -5.73369265e-02,   1.57963350e-01,   1.90822572e-01],\n",
       "       [ -2.77307659e-01,  -3.39006841e-01,   6.30358279e-01],\n",
       "       [  2.50148416e-01,  -8.17752481e-02,  -4.84906584e-01],\n",
       "       [ -3.49592566e-01,   3.09167147e-01,   2.68294036e-01],\n",
       "       [ -3.15764666e-01,  -3.55176568e-01,   6.83679819e-01],\n",
       "       [ -2.14726716e-01,  -3.12693864e-01,   5.43588281e-01],\n",
       "       [ -4.13898468e-01,  -3.96438181e-01,   8.19744706e-01],\n",
       "       [  9.48658586e-02,   3.16131353e-01,  -1.28767848e-01],\n",
       "       [  2.46085763e-01,  -1.84690610e-01,  -4.50731635e-01],\n",
       "       [  2.95365691e-01,   4.92535353e-01,  -1.08898544e+00],\n",
       "       [  4.77627963e-02,   7.22238123e-01,  -3.70581359e-01],\n",
       "       [ -2.18779892e-01,  -3.14398050e-01,   5.49208105e-01],\n",
       "       [  2.72845030e-01,   2.88768232e-01,  -8.37045074e-01],\n",
       "       [  2.08490193e-01,  -3.61822546e-01,  -3.49502385e-01],\n",
       "       [  6.88309371e-02,   6.19390309e-02,   6.54734746e-02],\n",
       "       [ -1.75002635e-01,  -2.17078179e-02,   3.97275925e-01],\n",
       "       [  2.10867524e-01,  -3.97884190e-01,  -4.02788550e-01],\n",
       "       [  2.30268762e-01,  -2.49934673e-01,  -3.98939252e-01],\n",
       "       [  2.09508091e-01,  -3.77262920e-01,  -3.72317731e-01],\n",
       "       [  2.04263538e-01,   4.01584685e-01,  -3.15774560e-01],\n",
       "       [  2.09951967e-01,  -3.83996069e-01,  -3.82266879e-01],\n",
       "       [  2.10301802e-01,  -3.89302850e-01,  -3.90108407e-01],\n",
       "       [  1.85896337e-01,  -1.44246712e-01,  -1.18853189e-02],\n",
       "       [ -4.04526591e-01,  -3.16617459e-01,   7.81510592e-01],\n",
       "       [  1.44174963e-01,  -1.61789000e-01,   4.59623784e-02],\n",
       "       [ -1.39381975e-01,   1.00452945e-01,   2.95976341e-01],\n",
       "       [  2.88083732e-01,   3.87058616e-01,  -1.03905499e+00],\n",
       "       [  2.09319651e-01,  -3.74404550e-01,  -3.68094057e-01],\n",
       "       [  1.35861784e-01,  -1.02482289e-02,   5.91968000e-03],\n",
       "       [  1.60352141e-02,  -2.15667009e-01,   2.23631263e-01],\n",
       "       [  2.80486465e-01,   2.07528427e-01,  -6.35886014e-01],\n",
       "       [ -2.60196358e-01,  -2.23379850e-01,   5.70565581e-01],\n",
       "       [ -2.36262649e-01,  -3.21748912e-01,   5.73448360e-01],\n",
       "       [ -2.83800751e-01,  -2.13761628e-02,   5.32800674e-01],\n",
       "       [ -2.46098965e-01,  -1.80076078e-01,   5.38586855e-01]], dtype=float32)"
      ]
     },
     "execution_count": 265,
     "metadata": {},
     "output_type": "execute_result"
    }
   ],
   "source": [
    "pred"
   ]
  },
  {
   "cell_type": "code",
   "execution_count": null,
   "metadata": {
    "collapsed": true
   },
   "outputs": [],
   "source": []
  }
 ],
 "metadata": {
  "kernelspec": {
   "display_name": "Python 3",
   "language": "python",
   "name": "python3"
  },
  "language_info": {
   "codemirror_mode": {
    "name": "ipython",
    "version": 3
   },
   "file_extension": ".py",
   "mimetype": "text/x-python",
   "name": "python",
   "nbconvert_exporter": "python",
   "pygments_lexer": "ipython3",
   "version": "3.6.1"
  }
 },
 "nbformat": 4,
 "nbformat_minor": 2
}
