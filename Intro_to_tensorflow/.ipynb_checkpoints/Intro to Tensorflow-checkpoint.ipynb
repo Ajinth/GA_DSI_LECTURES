{
 "cells": [
  {
   "cell_type": "code",
   "execution_count": 1,
   "metadata": {},
   "outputs": [
    {
     "name": "stderr",
     "output_type": "stream",
     "text": [
      "/Users/ajinthchristudas/anaconda/lib/python3.6/importlib/_bootstrap.py:205: RuntimeWarning: compiletime version 3.5 of module 'tensorflow.python.framework.fast_tensor_util' does not match runtime version 3.6\n",
      "  return f(*args, **kwds)\n",
      "Using TensorFlow backend.\n"
     ]
    }
   ],
   "source": [
    "import tensorflow as tf\n",
    "from sklearn.datasets import load_boston, load_breast_cancer, load_iris\n",
    "from sklearn.model_selection import train_test_split, KFold\n",
    "from sklearn.preprocessing import StandardScaler\n",
    "from sklearn import metrics\n",
    "\n",
    "from keras.utils import to_categorical\n",
    "\n",
    "import matplotlib.pyplot as plt\n",
    "%matplotlib inline"
   ]
  },
  {
   "cell_type": "code",
   "execution_count": 2,
   "metadata": {},
   "outputs": [],
   "source": [
    "tf.reset_default_graph()\n",
    "\n",
    "a = tf.Variable(3, name='a')\n",
    "b = tf.Variable(4, name='b')\n",
    "f = tf.multiply(a, b)"
   ]
  },
  {
   "cell_type": "code",
   "execution_count": 3,
   "metadata": {},
   "outputs": [
    {
     "name": "stdout",
     "output_type": "stream",
     "text": [
      "12\n"
     ]
    }
   ],
   "source": [
    "init = tf.global_variables_initializer()\n",
    "\n",
    "with tf.Session() as sess:\n",
    "    init.run()\n",
    "    result = f.eval()\n",
    "    print(result)"
   ]
  },
  {
   "cell_type": "code",
   "execution_count": 9,
   "metadata": {
    "collapsed": true
   },
   "outputs": [],
   "source": [
    "data = load_boston()\n",
    "\n",
    "X_train, X_test, y_train, y_test = train_test_split(data.data, data.target)\n",
    "\n",
    "y_train = y_train.reshape(-1, 1)\n",
    "y_test = y_test.reshape(-1, 1)\n",
    "\n",
    "ss = StandardScaler()\n",
    "X_train = ss.fit_transform(X_train)\n",
    "X_test = ss.transform(X_test)"
   ]
  },
  {
   "cell_type": "code",
   "execution_count": 30,
   "metadata": {
    "collapsed": true
   },
   "outputs": [],
   "source": [
    "tf.reset_default_graph()\n",
    "\n",
    "X = tf.placeholder(dtype=tf.float32, shape=(None, X_train.shape[1]), name='X')\n",
    "y = tf.placeholder(dtype=tf.float32, shape=(None), name='y')\n",
    "\n",
    "h1 = tf.layers.dense(X, 13, name='hidden1', activation=tf.nn.relu)\n",
    "y_hat = tf.layers.dense(h1, 1, activation=None)\n",
    "\n",
    "loss = tf.losses.mean_squared_error(y, y_hat)\n",
    "\n",
    "optimizer = tf.train.AdamOptimizer(.03)\n",
    "training_op = optimizer.minimize(loss)"
   ]
  },
  {
   "cell_type": "code",
   "execution_count": 31,
   "metadata": {},
   "outputs": [
    {
     "name": "stdout",
     "output_type": "stream",
     "text": [
      "epoch 1 training loss 584.786 test loss 699.509\n",
      "epoch 6 training loss 491.87 test loss 595.615\n",
      "epoch 11 training loss 393.098 test loss 483.082\n",
      "epoch 16 training loss 276.461 test loss 345.94\n",
      "epoch 21 training loss 164.668 test loss 208.107\n",
      "epoch 26 training loss 85.4239 test loss 105.022\n",
      "epoch 31 training loss 56.3201 test loss 62.9964\n",
      "epoch 36 training loss 52.7054 test loss 55.5414\n",
      "epoch 41 training loss 38.8654 test loss 40.0\n",
      "epoch 46 training loss 25.8525 test loss 28.3617\n",
      "epoch 51 training loss 23.1597 test loss 29.4264\n",
      "epoch 56 training loss 23.0736 test loss 31.3316\n",
      "epoch 61 training loss 21.1579 test loss 28.4866\n",
      "epoch 66 training loss 19.2199 test loss 24.3998\n",
      "epoch 71 training loss 18.2382 test loss 22.1017\n",
      "epoch 76 training loss 17.5318 test loss 21.0042\n",
      "epoch 81 training loss 16.8156 test loss 20.3984\n",
      "epoch 86 training loss 16.3196 test loss 20.1362\n",
      "epoch 91 training loss 15.9058 test loss 19.9303\n",
      "epoch 96 training loss 15.4472 test loss 19.4969\n",
      "epoch 101 training loss 15.0274 test loss 18.9093\n",
      "epoch 106 training loss 14.6202 test loss 18.3054\n",
      "epoch 111 training loss 14.226 test loss 17.7599\n",
      "epoch 116 training loss 13.8555 test loss 17.282\n",
      "epoch 121 training loss 13.5202 test loss 16.8415\n",
      "epoch 126 training loss 13.2499 test loss 16.394\n",
      "epoch 131 training loss 12.999 test loss 15.9542\n",
      "epoch 136 training loss 12.7653 test loss 15.5836\n",
      "epoch 141 training loss 12.5521 test loss 15.2835\n",
      "epoch 146 training loss 12.3606 test loss 15.0095\n"
     ]
    }
   ],
   "source": [
    "init = tf.global_variables_initializer()\n",
    "\n",
    "with tf.Session() as sess:\n",
    "    init.run()\n",
    "    \n",
    "    for epoch in range(150):\n",
    "        sess.run(training_op, feed_dict={X: X_train, y: y_train})\n",
    "        train_loss = sess.run(loss, feed_dict={X: X_train, y: y_train})\n",
    "        test_loss = sess.run(loss, feed_dict={X: X_test, y: y_test})\n",
    "        if epoch % 5 == 0:\n",
    "            print('epoch', epoch+1, 'training loss', train_loss, 'test loss', test_loss)\n",
    "    pred = sess.run(y_hat, feed_dict={X: X_test})"
   ]
  },
  {
   "cell_type": "code",
   "execution_count": 32,
   "metadata": {},
   "outputs": [
    {
     "data": {
      "text/plain": [
       "0.86332666413575365"
      ]
     },
     "execution_count": 32,
     "metadata": {},
     "output_type": "execute_result"
    }
   ],
   "source": [
    "metrics.r2_score(y_test[:, 0], pred[:, 0])"
   ]
  },
  {
   "cell_type": "markdown",
   "metadata": {},
   "source": [
    "# Binary Classification"
   ]
  },
  {
   "cell_type": "code",
   "execution_count": 34,
   "metadata": {
    "collapsed": true
   },
   "outputs": [],
   "source": [
    "data = load_breast_cancer()\n",
    "\n",
    "target = data.target * -1 + 1\n",
    "target = target.reshape(-1, 1)\n",
    "\n",
    "X_train, X_test, y_train, y_test = train_test_split(data.data, target)\n",
    "\n",
    "ss = StandardScaler()\n",
    "X_train = ss.fit_transform(X_train)\n",
    "X_test = ss.transform(X_test)"
   ]
  },
  {
   "cell_type": "code",
   "execution_count": 63,
   "metadata": {
    "collapsed": true
   },
   "outputs": [],
   "source": [
    "tf.reset_default_graph()\n",
    "\n",
    "X = tf.placeholder(dtype=tf.float32, shape=(None, X_train.shape[1]), name='X')\n",
    "y = tf.placeholder(dtype=tf.float32, shape=(None), name='y')\n",
    "\n",
    "h1 = tf.layers.dense(X, 30, name='hidden1', activation=tf.nn.relu)\n",
    "h2 = tf.layers.dense(h1, 30, name='hidden2', activation=tf.nn.relu)\n",
    "h3 = tf.layers.dense(h2, 30, name='hidden3', activation=tf.nn.relu)\n",
    "y_hat = tf.layers.dense(h3, 1, name='y_hat', activation=tf.nn.sigmoid)\n",
    "\n",
    "loss = tf.losses.log_loss(y, y_hat)\n",
    "\n",
    "optimizer = tf.train.AdamOptimizer(.001)\n",
    "\n",
    "training_op = optimizer.minimize(loss)"
   ]
  },
  {
   "cell_type": "code",
   "execution_count": 64,
   "metadata": {
    "collapsed": true
   },
   "outputs": [],
   "source": [
    "kf = KFold(4, shuffle=True, random_state=2003)\n",
    "\n",
    "batches = [test for _, test in kf.split(X_train, y_train)]"
   ]
  },
  {
   "cell_type": "code",
   "execution_count": 67,
   "metadata": {},
   "outputs": [
    {
     "data": {
      "text/plain": [
       "<matplotlib.legend.Legend at 0x128effb38>"
      ]
     },
     "execution_count": 67,
     "metadata": {},
     "output_type": "execute_result"
    },
    {
     "data": {
      "image/png": "[encoded data removed]",
      "text/plain": [
       "<matplotlib.figure.Figure at 0x123e991d0>"
      ]
     },
     "metadata": {},
     "output_type": "display_data"
    }
   ],
   "source": [
    "init = tf.global_variables_initializer()\n",
    "\n",
    "with tf.Session() as sess:\n",
    "    init.run()\n",
    "    epochs = list(range(1,15))\n",
    "    training_losses = []\n",
    "    test_losses = []\n",
    "    for epoch in epochs:\n",
    "        for batch in batches:\n",
    "            X_batch = X_train[batch]\n",
    "            y_batch = y_train[batch]\n",
    "            sess.run(training_op, feed_dict={X: X_batch, y: y_batch})\n",
    "        \n",
    "        training_loss = sess.run(loss, feed_dict={X: X_train, y: y_train})\n",
    "        training_losses.append(training_loss)\n",
    "        \n",
    "        test_loss = sess.run(loss, feed_dict={X: X_test, y: y_test})\n",
    "        test_losses.append(test_loss)\n",
    "        \n",
    "    pred = sess.run(y_hat, feed_dict={X: X_test})\n",
    "        \n",
    "plt.plot(training_losses, label='train loss')\n",
    "plt.plot(test_losses, label='test loss')\n",
    "plt.legend()"
   ]
  },
  {
   "cell_type": "code",
   "execution_count": 72,
   "metadata": {
    "collapsed": true
   },
   "outputs": [],
   "source": [
    "pred = (pred > .5).astype(int)"
   ]
  },
  {
   "cell_type": "code",
   "execution_count": 73,
   "metadata": {},
   "outputs": [
    {
     "data": {
      "text/plain": [
       "0.97202797202797198"
      ]
     },
     "execution_count": 73,
     "metadata": {},
     "output_type": "execute_result"
    }
   ],
   "source": [
    "metrics.accuracy_score(y_test, pred)"
   ]
  },
  {
   "cell_type": "code",
   "execution_count": 74,
   "metadata": {},
   "outputs": [
    {
     "data": {
      "text/plain": [
       "array([[93,  1],\n",
       "       [ 3, 46]])"
      ]
     },
     "execution_count": 74,
     "metadata": {},
     "output_type": "execute_result"
    }
   ],
   "source": [
    "metrics.confusion_matrix(y_test, pred)"
   ]
  },
  {
   "cell_type": "markdown",
   "metadata": {},
   "source": [
    "# Multiclass classification"
   ]
  },
  {
   "cell_type": "code",
   "execution_count": 77,
   "metadata": {
    "collapsed": true
   },
   "outputs": [],
   "source": [
    "data = load_iris()\n",
    "y = to_categorical(data.target)\n",
    "\n",
    "X_train, X_test, y_train, y_test = train_test_split(data.data, y)\n",
    "\n",
    "ss = StandardScaler()\n",
    "X_train = ss.fit_transform(X_train)\n",
    "X_test = ss.transform(X_test)"
   ]
  },
  {
   "cell_type": "code",
   "execution_count": 87,
   "metadata": {
    "collapsed": true
   },
   "outputs": [],
   "source": [
    "tf.reset_default_graph()\n",
    "\n",
    "X = tf.placeholder(dtype=tf.float32, shape=(None, X_train.shape[1]), name='X')\n",
    "y = tf.placeholder(dtype=tf.float32, shape=(None), name='y')\n",
    "\n",
    "h1 = tf.layers.dense(X, 4, activation=tf.nn.relu, name='hidden1')\n",
    "y_hat = tf.layers.dense(h1, y_train.shape[1], name='y_hat', activation=None)\n",
    "\n",
    "loss = tf.losses.softmax_cross_entropy(y, y_hat)\n",
    "\n",
    "optimizer = tf.train.AdamOptimizer(.01)\n",
    "training_op = optimizer.minimize(loss)\n",
    "\n",
    "saver = tf.train.Saver()"
   ]
  },
  {
   "cell_type": "code",
   "execution_count": 88,
   "metadata": {},
   "outputs": [
    {
     "name": "stdout",
     "output_type": "stream",
     "text": [
      "epoch 0 train loss 1.48426\n",
      "epoch 1 train loss 1.44188\n",
      "epoch 2 train loss 1.40245\n",
      "epoch 3 train loss 1.36609\n",
      "epoch 4 train loss 1.33237\n",
      "epoch 5 train loss 1.30116\n",
      "epoch 6 train loss 1.27266\n",
      "epoch 7 train loss 1.24646\n",
      "epoch 8 train loss 1.22245\n",
      "epoch 9 train loss 1.20047\n",
      "epoch 10 train loss 1.18011\n",
      "epoch 11 train loss 1.16106\n",
      "epoch 12 train loss 1.14337\n",
      "epoch 13 train loss 1.12676\n",
      "epoch 14 train loss 1.11092\n",
      "epoch 15 train loss 1.09566\n",
      "epoch 16 train loss 1.08096\n",
      "epoch 17 train loss 1.06665\n",
      "epoch 18 train loss 1.0526\n",
      "epoch 19 train loss 1.03881\n"
     ]
    }
   ],
   "source": [
    "init = tf.global_variables_initializer()\n",
    "\n",
    "with tf.Session() as sess:\n",
    "    init.run()\n",
    "    \n",
    "    for epoch in range(20):\n",
    "        sess.run(training_op, feed_dict={X: X_train, y: y_train})\n",
    "        \n",
    "        train_loss = sess.run(loss, feed_dict={X: X_train, y: y_train})\n",
    "        print('epoch', epoch, 'train loss', train_loss)\n",
    "        \n",
    "    saver.save(sess, './iris.ckpt')"
   ]
  },
  {
   "cell_type": "code",
   "execution_count": 89,
   "metadata": {},
   "outputs": [
    {
     "name": "stdout",
     "output_type": "stream",
     "text": [
      "INFO:tensorflow:Restoring parameters from ./iris.ckpt\n"
     ]
    }
   ],
   "source": [
    "with tf.Session() as sess:\n",
    "    saver.restore(sess, './iris.ckpt')\n",
    "    pred = sess.run(y_hat, feed_dict={X: X_test})"
   ]
  },
  {
   "cell_type": "code",
   "execution_count": 90,
   "metadata": {},
   "outputs": [
    {
     "data": {
      "text/plain": [
       "array([[ 0.17595989,  0.12473439, -0.08326823],\n",
       "       [ 0.79992062,  0.40064776,  0.83578086],\n",
       "       [ 0.13554341,  0.0929582 , -0.13806273],\n",
       "       [ 0.27304184,  0.30943814,  0.05433576],\n",
       "       [ 0.30146727,  0.4632661 ,  0.10013489],\n",
       "       [ 0.77458441,  0.97295296,  0.81979424],\n",
       "       [ 0.13554341,  0.0929582 , -0.13806273],\n",
       "       [ 0.63946867,  0.37460726,  0.4522683 ],\n",
       "       [ 0.81579369,  0.55352652,  0.81927693],\n",
       "       [ 1.02835441,  0.6876322 ,  1.09370661],\n",
       "       [ 0.3003062 ,  0.22249779,  0.08531389],\n",
       "       [ 0.57165891,  0.41279751,  0.35850018],\n",
       "       [ 0.45544258,  0.75812817,  0.33411473],\n",
       "       [ 1.01174879,  0.74393076,  1.09226441],\n",
       "       [ 0.1365265 ,  0.09373113, -0.13672991],\n",
       "       [ 0.76178592,  0.35665059,  0.70294052],\n",
       "       [ 0.18254679,  0.19786006, -0.07058543],\n",
       "       [ 0.16340382,  0.15513691, -0.09806676],\n",
       "       [ 0.13554341,  0.0929582 , -0.13806273],\n",
       "       [ 0.13554341,  0.0929582 , -0.13806273],\n",
       "       [ 0.45055261,  0.3406243 ,  0.28900993],\n",
       "       [ 0.54041308,  0.18175006,  0.35310048],\n",
       "       [ 0.45463258,  0.34383202,  0.2945413 ],\n",
       "       [ 0.64741701,  0.49540272,  0.55590814],\n",
       "       [ 0.79303557,  1.23483241,  0.89214253],\n",
       "       [ 0.95040697,  0.64172965,  0.98180878],\n",
       "       [ 0.3011654 ,  0.46259239,  0.09970155],\n",
       "       [ 0.51254356,  0.38936269,  0.37305391],\n",
       "       [ 0.55412424,  0.42205426,  0.42942685],\n",
       "       [ 0.39585555,  0.18252757,  0.16557156],\n",
       "       [ 0.82215768,  1.07059503,  0.91777194],\n",
       "       [ 0.66831911,  0.51183635,  0.5842461 ],\n",
       "       [ 0.27195665,  0.20020884,  0.04687907],\n",
       "       [ 0.51170415,  0.38683864,  0.26131123],\n",
       "       [ 0.40540785,  0.52186763,  0.29532558],\n",
       "       [ 0.58055937,  0.09090304,  0.4391126 ],\n",
       "       [ 0.42774367,  0.32269147,  0.2580868 ],\n",
       "       [ 0.79992062,  0.40064776,  0.83578086]], dtype=float32)"
      ]
     },
     "execution_count": 90,
     "metadata": {},
     "output_type": "execute_result"
    }
   ],
   "source": [
    "pred"
   ]
  },
  {
   "cell_type": "code",
   "execution_count": null,
   "metadata": {
    "collapsed": true
   },
   "outputs": [],
   "source": []
  }
 ],
 "metadata": {
  "kernelspec": {
   "display_name": "Python 3",
   "language": "python",
   "name": "python3"
  },
  "language_info": {
   "codemirror_mode": {
    "name": "ipython",
    "version": 3
   },
   "file_extension": ".py",
   "mimetype": "text/x-python",
   "name": "python",
   "nbconvert_exporter": "python",
   "pygments_lexer": "ipython3",
   "version": "3.6.1"
  }
 },
 "nbformat": 4,
 "nbformat_minor": 2
}
