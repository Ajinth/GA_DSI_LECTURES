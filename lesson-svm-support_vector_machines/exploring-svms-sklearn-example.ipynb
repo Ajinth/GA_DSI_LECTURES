{
 "cells": [
  {
   "cell_type": "markdown",
   "metadata": {},
   "source": [
    "<img src=\"http://imgur.com/1ZcRyrc.png\" style=\"float: left; margin: 20px; height: 55px\">\n",
    "\n",
    "# Codealong Exploring SVMs Using Sklearn\n",
    "\n",
    "_Authors: Joseph Nelson (DC)_\n",
    "\n",
    "---"
   ]
  },
  {
   "cell_type": "code",
   "execution_count": 4,
   "metadata": {
    "collapsed": true
   },
   "outputs": [],
   "source": [
    "from sklearn.linear_model import LogisticRegression\n",
    "import numpy as np\n",
    "import matplotlib.pyplot as plt\n",
    "from sklearn import svm, linear_model, datasets\n",
    "from sklearn.model_selection import cross_val_score\n",
    "\n",
    "%matplotlib inline\n",
    "%config InlineBackend.figure_format = 'retina'"
   ]
  },
  {
   "cell_type": "markdown",
   "metadata": {},
   "source": [
    "### 1. Load the handwritten digits dataset."
   ]
  },
  {
   "cell_type": "code",
   "execution_count": 5,
   "metadata": {},
   "outputs": [
    {
     "data": {
      "text/plain": [
       "array([[  0.,   0.,   5., ...,   0.,   0.,   0.],\n",
       "       [  0.,   0.,   0., ...,  10.,   0.,   0.],\n",
       "       [  0.,   0.,   0., ...,  16.,   9.,   0.],\n",
       "       ..., \n",
       "       [  0.,   0.,   1., ...,   6.,   0.,   0.],\n",
       "       [  0.,   0.,   2., ...,  12.,   0.,   0.],\n",
       "       [  0.,   0.,  10., ...,  12.,   1.,   0.]])"
      ]
     },
     "execution_count": 5,
     "metadata": {},
     "output_type": "execute_result"
    }
   ],
   "source": [
    "# A:\n",
    "digits = datasets.load_digits()\n",
    "digits.data"
   ]
  },
  {
   "cell_type": "code",
   "execution_count": 6,
   "metadata": {},
   "outputs": [
    {
     "data": {
      "text/plain": [
       "\"Optical Recognition of Handwritten Digits Data Set\\n===================================================\\n\\nNotes\\n-----\\nData Set Characteristics:\\n    :Number of Instances: 5620\\n    :Number of Attributes: 64\\n    :Attribute Information: 8x8 image of integer pixels in the range 0..16.\\n    :Missing Attribute Values: None\\n    :Creator: E. Alpaydin (alpaydin '@' boun.edu.tr)\\n    :Date: July; 1998\\n\\nThis is a copy of the test set of the UCI ML hand-written digits datasets\\nhttp://archive.ics.uci.edu/ml/datasets/Optical+Recognition+of+Handwritten+Digits\\n\\nThe data set contains images of hand-written digits: 10 classes where\\neach class refers to a digit.\\n\\nPreprocessing programs made available by NIST were used to extract\\nnormalized bitmaps of handwritten digits from a preprinted form. From a\\ntotal of 43 people, 30 contributed to the training set and different 13\\nto the test set. 32x32 bitmaps are divided into nonoverlapping blocks of\\n4x4 and the number of on pixels are counted in each block. This generates\\nan input matrix of 8x8 where each element is an integer in the range\\n0..16. This reduces dimensionality and gives invariance to small\\ndistortions.\\n\\nFor info on NIST preprocessing routines, see M. D. Garris, J. L. Blue, G.\\nT. Candela, D. L. Dimmick, J. Geist, P. J. Grother, S. A. Janet, and C.\\nL. Wilson, NIST Form-Based Handprint Recognition System, NISTIR 5469,\\n1994.\\n\\nReferences\\n----------\\n  - C. Kaynak (1995) Methods of Combining Multiple Classifiers and Their\\n    Applications to Handwritten Digit Recognition, MSc Thesis, Institute of\\n    Graduate Studies in Science and Engineering, Bogazici University.\\n  - E. Alpaydin, C. Kaynak (1998) Cascading Classifiers, Kybernetika.\\n  - Ken Tang and Ponnuthurai N. Suganthan and Xi Yao and A. Kai Qin.\\n    Linear dimensionalityreduction using relevance weighted LDA. School of\\n    Electrical and Electronic Engineering Nanyang Technological University.\\n    2005.\\n  - Claudio Gentile. A New Approximate Maximal Margin Classification\\n    Algorithm. NIPS. 2000.\\n\""
      ]
     },
     "execution_count": 6,
     "metadata": {},
     "output_type": "execute_result"
    }
   ],
   "source": [
    "digits.DESCR"
   ]
  },
  {
   "cell_type": "code",
   "execution_count": 7,
   "metadata": {},
   "outputs": [
    {
     "data": {
      "text/plain": [
       "(1797, 64)"
      ]
     },
     "execution_count": 7,
     "metadata": {},
     "output_type": "execute_result"
    }
   ],
   "source": [
    "digits.data.shape"
   ]
  },
  {
   "cell_type": "code",
   "execution_count": 8,
   "metadata": {},
   "outputs": [
    {
     "data": {
      "text/plain": [
       "<matplotlib.image.AxesImage at 0x1120319e8>"
      ]
     },
     "execution_count": 8,
     "metadata": {},
     "output_type": "execute_result"
    },
    {
     "data": {
      "image/png": "[encoded data removed]",
      "text/plain": [
       "<matplotlib.figure.Figure at 0x111d8f0b8>"
      ]
     },
     "metadata": {
      "image/png": {
       "height": 250,
       "width": 246
      }
     },
     "output_type": "display_data"
    }
   ],
   "source": [
    "plt.imshow(digits.images[10], cmap=plt.cm.gray_r, interpolation='nearest')"
   ]
  },
  {
   "cell_type": "code",
   "execution_count": 9,
   "metadata": {},
   "outputs": [
    {
     "data": {
      "text/plain": [
       "2"
      ]
     },
     "execution_count": 9,
     "metadata": {},
     "output_type": "execute_result"
    }
   ],
   "source": [
    "digits.target[50]"
   ]
  },
  {
   "cell_type": "code",
   "execution_count": 10,
   "metadata": {
    "collapsed": true
   },
   "outputs": [],
   "source": [
    "digits_X, digits_y = digits.data, digits.target"
   ]
  },
  {
   "cell_type": "code",
   "execution_count": 11,
   "metadata": {},
   "outputs": [],
   "source": [
    "# digits.images"
   ]
  },
  {
   "cell_type": "code",
   "execution_count": 12,
   "metadata": {
    "collapsed": true
   },
   "outputs": [],
   "source": [
    "#"
   ]
  },
  {
   "cell_type": "markdown",
   "metadata": {},
   "source": [
    "### 2. Cross-validate a logistic regression on the data."
   ]
  },
  {
   "cell_type": "code",
   "execution_count": 13,
   "metadata": {},
   "outputs": [
    {
     "data": {
      "text/plain": [
       "0.92101881133607011"
      ]
     },
     "execution_count": 13,
     "metadata": {},
     "output_type": "execute_result"
    }
   ],
   "source": [
    "# A:\n",
    "# C Value? \n",
    "logistic = linear_model.LogisticRegression()\n",
    "\n",
    "#B. Defaults to Accuracy as score\n",
    "cross_val_score(logistic, digits_X, digits_y, cv = 5).mean()"
   ]
  },
  {
   "cell_type": "markdown",
   "metadata": {},
   "source": [
    "### 3. Cross-validate a SVM on the data."
   ]
  },
  {
   "cell_type": "code",
   "execution_count": 14,
   "metadata": {},
   "outputs": [
    {
     "name": "stdout",
     "output_type": "stream",
     "text": [
      "0.448786800616\n",
      "0.949334872621\n"
     ]
    }
   ],
   "source": [
    "# A:\n",
    "clf = svm.SVC()\n",
    "print (cross_val_score(clf, digits_X, digits_y, cv =5).mean())\n",
    "\n",
    "clf = svm.SVC(kernel='linear')\n",
    "print (cross_val_score(clf, digits_X, digits_y, cv =5).mean())"
   ]
  },
  {
   "cell_type": "markdown",
   "metadata": {},
   "source": [
    "## Gaussian SVM has two parameters, gamma and C\n",
    "\n",
    "---\n",
    "\n",
    "### gamma\n",
    "\n",
    "Intuitively, the gamma parameter defines how far the influence of a single training example reaches, with low values meaning ‘far’ and high values meaning ‘close’. \n",
    "\n",
    "The higher the value of gamma, the more it will try to exactly fit the training data set. Will cause over-fitting problem.\n",
    "- small gamma: the model is constrained, can under-fit!  high bias and low variance.\n",
    "- big gamma: Tries to capture the shape too well: can over-fit!  low bias and high variance.\n",
    "\n",
    "<img src=\"http://www.analyticsvidhya.com/wp-content/uploads/2015/10/SVM_15.png\">\n",
    "\n",
    "\n",
    "\n",
    "### C\n",
    "\n",
    "Penalty parameter of the error term. It controls the trade off between smooth decision boundary and classifying the training points correctly. C can be thought of as the parameter for the soft margin cost function, which controls the influence of each individual support vector\n",
    "\n",
    "- small C: makes the decision surface smooth and simple, softer margin can under-fit! high bias and low variance.\n",
    "- big C: selects more support vectors: can over-fit! harder margin. low bias and high variance.\n",
    "\n",
    "<img src=\"http://www.analyticsvidhya.com/wp-content/uploads/2015/10/SVM_18.png\">\n"
   ]
  },
  {
   "cell_type": "markdown",
   "metadata": {},
   "source": [
    "### 4. Fit an SVM modifying the default gamma and C."
   ]
  },
  {
   "cell_type": "code",
   "execution_count": 15,
   "metadata": {},
   "outputs": [
    {
     "name": "stdout",
     "output_type": "stream",
     "text": [
      "0.970487976538\n"
     ]
    }
   ],
   "source": [
    "# A:\n",
    "clf = svm.SVC(gamma=0.0001, C= 200, kernel='poly')\n",
    "print (cross_val_score(clf, digits_X, digits_y, cv =5).mean())"
   ]
  },
  {
   "cell_type": "markdown",
   "metadata": {},
   "source": [
    "### 5. Gridsearch an optimal gamma with C=1."
   ]
  },
  {
   "cell_type": "code",
   "execution_count": 16,
   "metadata": {},
   "outputs": [
    {
     "name": "stdout",
     "output_type": "stream",
     "text": [
      "Fitting 5 folds for each of 20 candidates, totalling 100 fits\n"
     ]
    },
    {
     "name": "stderr",
     "output_type": "stream",
     "text": [
      "[Parallel(n_jobs=1)]: Done 100 out of 100 | elapsed:   46.5s finished\n"
     ]
    },
    {
     "data": {
      "text/plain": [
       "GridSearchCV(cv=5, error_score='raise',\n",
       "       estimator=SVC(C=1, cache_size=200, class_weight=None, coef0=0.0,\n",
       "  decision_function_shape=None, degree=3, gamma='auto', kernel='rbf',\n",
       "  max_iter=-1, probability=False, random_state=None, shrinking=True,\n",
       "  tol=0.001, verbose=False),\n",
       "       fit_params={}, iid=True, n_jobs=1,\n",
       "       param_grid={'gamma': array([  1.00000e-05,   2.33572e-05,   5.45559e-05,   1.27427e-04,\n",
       "         2.97635e-04,   6.95193e-04,   1.62378e-03,   3.79269e-03,\n",
       "         8.85867e-03,   2.06914e-02,   4.83293e-02,   1.12884e-01,\n",
       "         2.63665e-01,   6.15848e-01,   1.43845e+00,   3.35982e+00,\n",
       "         7.84760e+00,   1.83298e+01,   4.28133e+01,   1.00000e+02])},\n",
       "       pre_dispatch='2*n_jobs', refit=True, return_train_score=True,\n",
       "       scoring='accuracy', verbose=1)"
      ]
     },
     "execution_count": 16,
     "metadata": {},
     "output_type": "execute_result"
    }
   ],
   "source": [
    "# A\n",
    "from sklearn.model_selection import GridSearchCV\n",
    "\n",
    "clf = svm.SVC(C=1)\n",
    "gamma_range = np.logspace(-5, 2, 20)\n",
    "param_grid = dict(gamma = gamma_range)\n",
    "\n",
    "grid = GridSearchCV(clf, param_grid, cv=5, scoring='accuracy', verbose=1)\n",
    "\n",
    "grid.fit(digits_X, digits_y)"
   ]
  },
  {
   "cell_type": "code",
   "execution_count": 17,
   "metadata": {},
   "outputs": [
    {
     "data": {
      "text/plain": [
       "[1.0000000000000001e-05,\n",
       " 2.3357214690901213e-05,\n",
       " 5.4555947811685143e-05,\n",
       " 0.00012742749857031334,\n",
       " 0.00029763514416313193,\n",
       " 0.00069519279617756048,\n",
       " 0.001623776739188721,\n",
       " 0.0037926901907322499,\n",
       " 0.0088586679041008226,\n",
       " 0.02069138081114788,\n",
       " 0.048329302385717518,\n",
       " 0.11288378916846883,\n",
       " 0.26366508987303555,\n",
       " 0.6158482110660255,\n",
       " 1.4384498882876631,\n",
       " 3.3598182862837809,\n",
       " 7.8475997035146072,\n",
       " 18.329807108324339,\n",
       " 42.813323987193868,\n",
       " 100.0]"
      ]
     },
     "execution_count": 17,
     "metadata": {},
     "output_type": "execute_result"
    }
   ],
   "source": [
    "accuracy = grid.cv_results_['mean_test_score']\n",
    "gamma = [param['gamma'] for param in grid.cv_results_['params']]\n",
    "gamma"
   ]
  },
  {
   "cell_type": "code",
   "execution_count": 18,
   "metadata": {},
   "outputs": [
    {
     "data": {
      "text/plain": [
       "[<matplotlib.lines.Line2D at 0x111dbfe10>]"
      ]
     },
     "execution_count": 18,
     "metadata": {},
     "output_type": "execute_result"
    },
    {
     "data": {
      "image/png": "[encoded data removed]",
      "text/plain": [
       "<matplotlib.figure.Figure at 0x111f6f400>"
      ]
     },
     "metadata": {
      "image/png": {
       "height": 251,
       "width": 373
      }
     },
     "output_type": "display_data"
    }
   ],
   "source": [
    "plt.semilogx(gamma, accuracy)"
   ]
  },
  {
   "cell_type": "markdown",
   "metadata": {},
   "source": [
    "### 6. Gridsearch the optimal C, gamma, and kernel."
   ]
  },
  {
   "cell_type": "code",
   "execution_count": 19,
   "metadata": {},
   "outputs": [
    {
     "name": "stdout",
     "output_type": "stream",
     "text": [
      "Fitting 3 folds for each of 600 candidates, totalling 1800 fits\n"
     ]
    },
    {
     "name": "stderr",
     "output_type": "stream",
     "text": [
      "[Parallel(n_jobs=-1)]: Done  76 tasks      | elapsed:    8.5s\n",
      "[Parallel(n_jobs=-1)]: Done 297 tasks      | elapsed:   26.4s\n",
      "[Parallel(n_jobs=-1)]: Done 547 tasks      | elapsed:   44.8s\n",
      "[Parallel(n_jobs=-1)]: Done 897 tasks      | elapsed:  1.2min\n",
      "[Parallel(n_jobs=-1)]: Done 1347 tasks      | elapsed:  1.7min\n",
      "[Parallel(n_jobs=-1)]: Done 1800 out of 1800 | elapsed:  2.1min finished\n"
     ]
    },
    {
     "data": {
      "text/plain": [
       "GridSearchCV(cv=3, error_score='raise',\n",
       "       estimator=SVC(C=1.0, cache_size=200, class_weight=None, coef0=0.0,\n",
       "  decision_function_shape=None, degree=3, gamma='auto', kernel='rbf',\n",
       "  max_iter=-1, probability=False, random_state=None, shrinking=True,\n",
       "  tol=0.001, verbose=False),\n",
       "       fit_params={}, iid=True, n_jobs=-1,\n",
       "       param_grid={'gamma': array([  1.00000e-05,   2.33572e-05,   5.45559e-05,   1.27427e-04,\n",
       "         2.97635e-04,   6.95193e-04,   1.62378e-03,   3.79269e-03,\n",
       "         8.85867e-03,   2.06914e-02,   4.83293e-02,   1.12884e-01,\n",
       "         2.63665e-01,   6.15848e-01,   1.43845e+00,   3.35982e+00,\n",
       "         7....5443e+00,   7.74264e+00,\n",
       "         2.78256e+01,   1.00000e+02]), 'kernel': ['rbf', 'linear', 'poly']},\n",
       "       pre_dispatch='2*n_jobs', refit=True, return_train_score=True,\n",
       "       scoring='accuracy', verbose=1)"
      ]
     },
     "execution_count": 19,
     "metadata": {},
     "output_type": "execute_result"
    }
   ],
   "source": [
    "clf  = svm.SVC()\n",
    "\n",
    "gamma_range = np.logspace(-5, 2, 20)\n",
    "C_range = np.logspace(-3, 2, 10)\n",
    "kernel_range = ['rbf', 'linear', 'poly']\n",
    "\n",
    "param_grid = dict(gamma=gamma_range,\n",
    "                  C=C_range,\n",
    "                  kernel=kernel_range)\n",
    "\n",
    "grid = GridSearchCV(clf, param_grid, cv=3, scoring='accuracy',\n",
    "                    verbose=1, n_jobs=-1)\n",
    "grid.fit(digits_X, digits_y)"
   ]
  },
  {
   "cell_type": "code",
   "execution_count": 20,
   "metadata": {},
   "outputs": [
    {
     "name": "stdout",
     "output_type": "stream",
     "text": [
      "{'C': 7.7426368268112773, 'gamma': 0.00069519279617756048, 'kernel': 'rbf'}\n",
      "0.974958263773\n"
     ]
    }
   ],
   "source": [
    "print(grid.best_params_)\n",
    "print(grid.best_score_)"
   ]
  },
  {
   "cell_type": "code",
   "execution_count": 22,
   "metadata": {},
   "outputs": [
    {
     "data": {
      "text/plain": [
       "SVC(C=7.7426368268112773, cache_size=200, class_weight=None, coef0=0.0,\n",
       "  decision_function_shape=None, degree=3, gamma=0.00069519279617756048,\n",
       "  kernel='rbf', max_iter=-1, probability=False, random_state=None,\n",
       "  shrinking=True, tol=0.001, verbose=False)"
      ]
     },
     "execution_count": 22,
     "metadata": {},
     "output_type": "execute_result"
    }
   ],
   "source": [
    "best_svm = grid.best_estimator_\n",
    "best_svm"
   ]
  },
  {
   "cell_type": "markdown",
   "metadata": {
    "collapsed": true
   },
   "source": [
    "### 7. Import the iris dataset."
   ]
  },
  {
   "cell_type": "code",
   "execution_count": 23,
   "metadata": {
    "collapsed": true
   },
   "outputs": [],
   "source": [
    "# A:\n",
    "iris = datasets.load_iris()\n",
    "iris_X = iris.data[:, :2]\n",
    "iris_y = iris.target"
   ]
  },
  {
   "cell_type": "markdown",
   "metadata": {},
   "source": [
    "### 8. Cross-validate a default logistic regression and default SVM on the iris data."
   ]
  },
  {
   "cell_type": "code",
   "execution_count": 24,
   "metadata": {},
   "outputs": [
    {
     "name": "stdout",
     "output_type": "stream",
     "text": [
      "0.766666666667\n",
      "0.82\n"
     ]
    }
   ],
   "source": [
    "# Start with logistic Regression\n",
    "logistic = linear_model.LogisticRegression()\n",
    "print(cross_val_score(logistic, iris_X, iris_y, cv=5, scoring='accuracy').mean())\n",
    "\n",
    "\n",
    "# Let's try a SVM\n",
    "clf = svm.SVC()\n",
    "print(cross_val_score(clf, iris_X, iris_y, cv=5, scoring='accuracy').mean())"
   ]
  },
  {
   "cell_type": "markdown",
   "metadata": {},
   "source": [
    "### 9. [Bonus] Compare three SVMs with different kernels on the iris data visually.\n",
    "- Gaussian\n",
    "- Linear\n",
    "- Poly of degree 3"
   ]
  },
  {
   "cell_type": "code",
   "execution_count": 10,
   "metadata": {
    "collapsed": true
   },
   "outputs": [],
   "source": [
    "# A:"
   ]
  },
  {
   "cell_type": "markdown",
   "metadata": {},
   "source": [
    "### 10. [Bonus] Compare SVM kernels visually on fake data using sklearn's `make_circles`.\n",
    "\n",
    "Load `make_circles` from here:\n",
    "```python\n",
    "from sklearn.datasets import make_circles\n",
    "```\n",
    "\n",
    "Compare the linear, rbf, and poly kernels."
   ]
  },
  {
   "cell_type": "code",
   "execution_count": 11,
   "metadata": {
    "collapsed": true
   },
   "outputs": [],
   "source": [
    "from sklearn.datasets import make_circles\n",
    "circles_X, circles_y = make_circles(n_samples=1000, random_state=123, noise=0.1, factor=0.2)\n",
    "plt.scatter(circles_X[:,0], circles_X[:,1], c=circles_y)"
   ]
  }
 ],
 "metadata": {
  "anaconda-cloud": {},
  "kernelspec": {
   "display_name": "Python 3",
   "language": "python",
   "name": "python3"
  },
  "language_info": {
   "codemirror_mode": {
    "name": "ipython",
    "version": 3
   },
   "file_extension": ".py",
   "mimetype": "text/x-python",
   "name": "python",
   "nbconvert_exporter": "python",
   "pygments_lexer": "ipython3",
   "version": "3.6.1"
  }
 },
 "nbformat": 4,
 "nbformat_minor": 1
}
