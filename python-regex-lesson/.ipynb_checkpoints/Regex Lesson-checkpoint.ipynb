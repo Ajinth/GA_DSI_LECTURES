{
 "cells": [
  {
   "cell_type": "code",
   "execution_count": 1,
   "metadata": {
    "collapsed": true
   },
   "outputs": [],
   "source": [
    "import pandas as pd\n",
    "import re"
   ]
  },
  {
   "cell_type": "code",
   "execution_count": 2,
   "metadata": {
    "collapsed": true
   },
   "outputs": [],
   "source": [
    "nba_data = \"\"\"Celtics:\n",
    "Record: 12-2, 1st in NBA Eastern Conference\n",
    "Last Game: W 95-94 vs. TOR\n",
    "Next Game: Tuesday, Nov. 14 at BRK\n",
    "Coach: Brad Stevens (12-2)\n",
    "Executive: Danny Ainge\n",
    "PTS/G: 102.2 (24th of 30) Opp PTS/G: 94.0 (1st of 30)\n",
    "SRS: 7.38 (3rd of 30) Pace: 96.4 (26th of 30)\n",
    "Off Rtg: 106.0 (17th of 30) Def Rtg: 97.5 (1st of 30)\n",
    "\n",
    "Hawks:\n",
    "Record: 2-11, 15th in NBA Eastern Conference\n",
    "Last Game: L 94-113 at WAS\n",
    "Next Game: Monday, Nov. 13 at NOP\n",
    "Coach: Mike Budenholzer (2-11)\n",
    "Executive: Travis Schlenk\n",
    "PTS/G: 102.5 (23rd of 30) Opp PTS/G: 110.8 (26th of 30)\n",
    "SRS: -8.59 (27th of 30) Pace: 100.0 (9th of 30)\n",
    "Off Rtg: 102.4 (25th of 30) Def Rtg: 110.8 (27th of 30)\n",
    "\n",
    "Spurs:\n",
    "Record: 8-5, 3rd in NBA Western Conference\n",
    "Last Game: W 133-94 vs. CHI\n",
    "Next Game: Tuesday, Nov. 14 at DAL\n",
    "Coach: Gregg Popovich (8-5)\n",
    "Executive: R.C. Buford\n",
    "PTS/G: 103.0 (22nd of 30) Opp PTS/G: 99.6 (5th of 30)\n",
    "SRS: 3.04 (9th of 30) Pace: 96.4 (27th of 30)\n",
    "Off Rtg: 106.9 (16th of 30) Def Rtg: 103.4 (6th of 30)\n",
    "\n",
    "Knicks:\n",
    "Record: 7-5, 4th in NBA Eastern Conference\n",
    "Last Game: W 118-91 vs. SAC\n",
    "Next Game: Monday, Nov. 13 vs. CLE\n",
    "Coach: Jeff Hornacek (7-5)\n",
    "Executive: Steve Mills\n",
    "PTS/G: 106.4 (16th of 30) Opp PTS/G: 105.0 (13th of 30)\n",
    "SRS: 1.12 (14th of 30) Pace: 96.5 (25th of 30)\n",
    "Off Rtg: 110.2 (6th of 30) Def Rtg: 108.8 (21st of 30)\n",
    "\n",
    "Bulls:\n",
    "Record: 2-9, 14th in NBA Eastern Conference\n",
    "Last Game: L 94-133 at SAS\n",
    "Next Game: Wednesday, Nov. 15 at OKC\n",
    "Coach: Fred Hoiberg (2-9)\n",
    "Executive: Gar Forman\n",
    "PTS/G: 93.6 (30th of 30) Opp PTS/G: 103.9 (10th of 30)\n",
    "SRS: -9.69 (29th of 30) Pace: 96.1 (29th of 30)\n",
    "Off Rtg: 96.6 (30th of 30) Def Rtg: 107.2 (19th of 30)\"\"\""
   ]
  },
  {
   "cell_type": "code",
   "execution_count": 11,
   "metadata": {},
   "outputs": [
    {
     "name": "stdout",
     "output_type": "stream",
     "text": [
      "1st\n"
     ]
    }
   ],
   "source": [
    "m = re.search('\\d+[a-z]{2}', nba_data)\n",
    "if m: \n",
    "    print (m.group())\n",
    "else: \n",
    "    print ('No match')"
   ]
  },
  {
   "cell_type": "code",
   "execution_count": 12,
   "metadata": {},
   "outputs": [
    {
     "data": {
      "text/plain": [
       "'1st'"
      ]
     },
     "execution_count": 12,
     "metadata": {},
     "output_type": "execute_result"
    }
   ],
   "source": [
    "m.group()"
   ]
  },
  {
   "cell_type": "code",
   "execution_count": 14,
   "metadata": {},
   "outputs": [
    {
     "name": "stdout",
     "output_type": "stream",
     "text": [
      "Brad Stevens\n"
     ]
    }
   ],
   "source": [
    "m = re.search('Coach: (.+) \\(', nba_data)\n",
    "if m: \n",
    "    print (m.group(1))\n",
    "else: \n",
    "    print ('No match')"
   ]
  },
  {
   "cell_type": "code",
   "execution_count": 15,
   "metadata": {},
   "outputs": [
    {
     "name": "stdout",
     "output_type": "stream",
     "text": [
      "12\n"
     ]
    }
   ],
   "source": [
    "m = re.search('Record: (\\d+)-(\\d+)', nba_data)\n",
    "if m: \n",
    "    print (m.group(1))\n",
    "else: \n",
    "    print ('No match')"
   ]
  },
  {
   "cell_type": "code",
   "execution_count": 18,
   "metadata": {},
   "outputs": [
    {
     "data": {
      "text/plain": [
       "['Brad Stevens',\n",
       " 'Mike Budenholzer',\n",
       " 'Gregg Popovich',\n",
       " 'Jeff Hornacek',\n",
       " 'Fred Hoiberg']"
      ]
     },
     "execution_count": 18,
     "metadata": {},
     "output_type": "execute_result"
    }
   ],
   "source": [
    "re.findall('Coach: (.+) \\(', nba_data)"
   ]
  },
  {
   "cell_type": "code",
   "execution_count": null,
   "metadata": {
    "collapsed": true
   },
   "outputs": [],
   "source": []
  }
 ],
 "metadata": {
  "kernelspec": {
   "display_name": "Python 3",
   "language": "python",
   "name": "python3"
  },
  "language_info": {
   "codemirror_mode": {
    "name": "ipython",
    "version": 3
   },
   "file_extension": ".py",
   "mimetype": "text/x-python",
   "name": "python",
   "nbconvert_exporter": "python",
   "pygments_lexer": "ipython3",
   "version": "3.6.1"
  }
 },
 "nbformat": 4,
 "nbformat_minor": 2
}
