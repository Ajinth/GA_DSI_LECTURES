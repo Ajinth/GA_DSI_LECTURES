{
 "cells": [
  {
   "cell_type": "code",
   "execution_count": 1,
   "metadata": {
    "collapsed": true
   },
   "outputs": [],
   "source": [
    "# import bs4 as bs\n",
    "# import requests\n",
    "\n",
    "# result = requests.get('https://git.generalassemb.ly/raw/rldaggie/sample-html/master/index.html')\n",
    "# soup = bs.BeautifulSoup(result.content, 'lxml')"
   ]
  },
  {
   "cell_type": "code",
   "execution_count": 3,
   "metadata": {
    "collapsed": true
   },
   "outputs": [],
   "source": [
    "import pandas \n",
    "import requests\n",
    "from bs4 import BeautifulSoup"
   ]
  },
  {
   "cell_type": "code",
   "execution_count": 7,
   "metadata": {},
   "outputs": [],
   "source": [
    "res = requests.get('https://rldaggie.github.io/sample-html/')\n"
   ]
  },
  {
   "cell_type": "code",
   "execution_count": 8,
   "metadata": {},
   "outputs": [
    {
     "data": {
      "text/plain": [
       "200"
      ]
     },
     "execution_count": 8,
     "metadata": {},
     "output_type": "execute_result"
    }
   ],
   "source": [
    "res.status_code"
   ]
  },
  {
   "cell_type": "code",
   "execution_count": 10,
   "metadata": {},
   "outputs": [
    {
     "data": {
      "text/plain": [
       "<requests.adapters.HTTPAdapter at 0x10ebad518>"
      ]
     },
     "execution_count": 10,
     "metadata": {},
     "output_type": "execute_result"
    }
   ],
   "source": [
    "res.connection"
   ]
  },
  {
   "cell_type": "code",
   "execution_count": 12,
   "metadata": {},
   "outputs": [
    {
     "data": {
      "text/plain": [
       "bytes"
      ]
     },
     "execution_count": 12,
     "metadata": {},
     "output_type": "execute_result"
    }
   ],
   "source": [
    "type(res.content)"
   ]
  },
  {
   "cell_type": "code",
   "execution_count": 14,
   "metadata": {
    "collapsed": true
   },
   "outputs": [],
   "source": [
    "soup = bs.BeautifulSoup(res.content, 'lxml')"
   ]
  },
  {
   "cell_type": "code",
   "execution_count": 19,
   "metadata": {},
   "outputs": [
    {
     "data": {
      "text/plain": [
       "'This is an h1'"
      ]
     },
     "execution_count": 19,
     "metadata": {},
     "output_type": "execute_result"
    }
   ],
   "source": [
    "soup.find('h1').text"
   ]
  },
  {
   "cell_type": "code",
   "execution_count": 27,
   "metadata": {},
   "outputs": [
    {
     "name": "stdout",
     "output_type": "stream",
     "text": [
      "This is an h1\n",
      "This is yet another heading.\n"
     ]
    }
   ],
   "source": [
    "for h1 in soup.find_all('h1'): \n",
    "    print (h1.text)"
   ]
  },
  {
   "cell_type": "code",
   "execution_count": 28,
   "metadata": {},
   "outputs": [
    {
     "data": {
      "text/plain": [
       "['This is an h1', 'This is yet another heading.']"
      ]
     },
     "execution_count": 28,
     "metadata": {},
     "output_type": "execute_result"
    }
   ],
   "source": [
    "[h1.text for h1 in soup.find_all('h1')]"
   ]
  },
  {
   "cell_type": "code",
   "execution_count": null,
   "metadata": {},
   "outputs": [],
   "source": []
  },
  {
   "cell_type": "code",
   "execution_count": 49,
   "metadata": {},
   "outputs": [
    {
     "name": "stdout",
     "output_type": "stream",
     "text": [
      "['Take out trash', 'Pay billz', 'Feed dog']\n"
     ]
    }
   ],
   "source": [
    "'''Just the todos list'''\n",
    "todo_list = []\n",
    "ol = soup.find('ol')\n",
    "for li in ol.findAll('li'): \n",
    "    todo_list.append(li.text)\n",
    "    \n",
    "print (todo_list)"
   ]
  },
  {
   "cell_type": "code",
   "execution_count": 48,
   "metadata": {},
   "outputs": [
    {
     "data": {
      "text/html": [
       "<div>\n",
       "<style>\n",
       "    .dataframe thead tr:only-child th {\n",
       "        text-align: right;\n",
       "    }\n",
       "\n",
       "    .dataframe thead th {\n",
       "        text-align: left;\n",
       "    }\n",
       "\n",
       "    .dataframe tbody tr th {\n",
       "        vertical-align: top;\n",
       "    }\n",
       "</style>\n",
       "<table border=\"1\" class=\"dataframe\">\n",
       "  <thead>\n",
       "    <tr style=\"text-align: right;\">\n",
       "      <th></th>\n",
       "      <th>task</th>\n",
       "    </tr>\n",
       "  </thead>\n",
       "  <tbody>\n",
       "    <tr>\n",
       "      <th>0</th>\n",
       "      <td>Take out trash</td>\n",
       "    </tr>\n",
       "    <tr>\n",
       "      <th>1</th>\n",
       "      <td>Pay billz</td>\n",
       "    </tr>\n",
       "    <tr>\n",
       "      <th>2</th>\n",
       "      <td>Feed dog</td>\n",
       "    </tr>\n",
       "    <tr>\n",
       "      <th>3</th>\n",
       "      <td>Mow lawn</td>\n",
       "    </tr>\n",
       "    <tr>\n",
       "      <th>4</th>\n",
       "      <td>Take out compost</td>\n",
       "    </tr>\n",
       "    <tr>\n",
       "      <th>5</th>\n",
       "      <td>Create scraping lecture</td>\n",
       "    </tr>\n",
       "  </tbody>\n",
       "</table>\n",
       "</div>"
      ],
      "text/plain": [
       "                      task\n",
       "0           Take out trash\n",
       "1                Pay billz\n",
       "2                 Feed dog\n",
       "3                 Mow lawn\n",
       "4         Take out compost\n",
       "5  Create scraping lecture"
      ]
     },
     "execution_count": 48,
     "metadata": {},
     "output_type": "execute_result"
    }
   ],
   "source": [
    "'''Code from Riley'''\n",
    "import pandas as pd \n",
    "\n",
    "todos = []\n",
    "for ol in soup.find_all('ol'):\n",
    "    for li in ol.find_all('li'):\n",
    "        todo = {}\n",
    "        todo['task'] = li.text\n",
    "        todos.append(todo)\n",
    "pd.DataFrame(todos)"
   ]
  },
  {
   "cell_type": "code",
   "execution_count": 53,
   "metadata": {},
   "outputs": [
    {
     "name": "stdout",
     "output_type": "stream",
     "text": [
      "Mow lawn\n",
      "Take out compost\n",
      "Create scraping lecture\n"
     ]
    }
   ],
   "source": [
    "'''Code from Riley'''\n",
    "for li in soup.find('ol', {'class': 'done'}).find_all('li'):\n",
    "    print(li.text)"
   ]
  },
  {
   "cell_type": "code",
   "execution_count": 71,
   "metadata": {},
   "outputs": [],
   "source": [
    "table = soup.find('table', {'id': 'directory'})"
   ]
  },
  {
   "cell_type": "code",
   "execution_count": 72,
   "metadata": {},
   "outputs": [
    {
     "data": {
      "text/plain": [
       "<table id=\"directory\">\n",
       "<thead>\n",
       "<tr>\n",
       "<th>Name</th>\n",
       "<th>Role</th>\n",
       "</tr>\n",
       "</thead>\n",
       "<tbody>\n",
       "<tr class=\"student\">\n",
       "<th><a href=\"mailto:praveen@ga.co\">Praveen\n",
       "\n",
       "\n",
       "\n",
       "          </a></th>\n",
       "<td>Student</td>\n",
       "</tr>\n",
       "<tr class=\"student\">\n",
       "<th><a href=\"mailto:fred@ga.co\">Fred\n",
       "\n",
       "\n",
       "\n",
       "          </a></th>\n",
       "<td>Student</td>\n",
       "</tr>\n",
       "<tr class=\"student\">\n",
       "<th><a href=\"mailto:homer@ga.co\">Homer\n",
       "\n",
       "\n",
       "\n",
       "          </a></th>\n",
       "<td><span class=\"foobar\">Student</span></td>\n",
       "</tr>\n",
       "<tr class=\"student\">\n",
       "<th><a href=\"mailto:kyle@ga.co\">Kyle\n",
       "\n",
       "\n",
       "\n",
       "          </a></th>\n",
       "<td>Student</td>\n",
       "</tr>\n",
       "<tr class=\"student\">\n",
       "<th><a href=\"mailto:sam@ga.co\">Sam\n",
       "\n",
       "\n",
       "\n",
       "          </a></th>\n",
       "<td>Student</td>\n",
       "</tr>\n",
       "<tr class=\"student\">\n",
       "<th><a href=\"mailto:javier@ga.co\">Javier\n",
       "\n",
       "\n",
       "\n",
       "          </a></th>\n",
       "<td>Student</td>\n",
       "</tr>\n",
       "<tr class=\"student\">\n",
       "<th><a href=\"mailto:nengkuan@ga.co\">Nengkuan\n",
       "\n",
       "\n",
       "\n",
       "          </a></th>\n",
       "<td>Student</td>\n",
       "</tr>\n",
       "<tr class=\"student\">\n",
       "<th><a href=\"mailto:kieth@ga.co\">Kieth\n",
       "\n",
       "\n",
       "\n",
       "          </a></th>\n",
       "<td>Student</td>\n",
       "</tr>\n",
       "<tr class=\"student\">\n",
       "<th><a href=\"mailto:bola@ga.co\">Bola\n",
       "\n",
       "\n",
       "\n",
       "          </a></th>\n",
       "<td>Student</td>\n",
       "</tr>\n",
       "<tr class=\"student\">\n",
       "<th><a href=\"mailto:steve@ga.co\">Steve\n",
       "\n",
       "\n",
       "\n",
       "          </a></th>\n",
       "<td>Student</td>\n",
       "</tr>\n",
       "<tr class=\"student\">\n",
       "<th><a href=\"mailto:nichole@ga.co\">Nichole\n",
       "\n",
       "\n",
       "\n",
       "          </a></th>\n",
       "<td>Instructor</td>\n",
       "</tr>\n",
       "<tr class=\"student\">\n",
       "<th><a href=\"mailto:riley@ga.co\">Riley\n",
       "\n",
       "\n",
       "\n",
       "          </a></th>\n",
       "<td>Instructor</td>\n",
       "</tr>\n",
       "</tbody>\n",
       "</table>"
      ]
     },
     "execution_count": 72,
     "metadata": {},
     "output_type": "execute_result"
    }
   ],
   "source": [
    "table"
   ]
  },
  {
   "cell_type": "code",
   "execution_count": 80,
   "metadata": {},
   "outputs": [
    {
     "name": "stdout",
     "output_type": "stream",
     "text": [
      "Praveen\n",
      "Fred\n",
      "Homer\n",
      "Kyle\n",
      "Sam\n",
      "Javier\n",
      "Nengkuan\n",
      "Kieth\n",
      "Bola\n",
      "Steve\n",
      "Nichole\n",
      "Riley\n"
     ]
    }
   ],
   "source": [
    "'''Code from Riley'''\n",
    "table = soup.find('table', {'id': 'directory'})\n",
    "rows = table.find('tbody').find_all('tr')\n",
    "names = []\n",
    "for row in rows:\n",
    "    print(row.find('a').text.strip())"
   ]
  },
  {
   "cell_type": "code",
   "execution_count": 95,
   "metadata": {},
   "outputs": [
    {
     "name": "stdout",
     "output_type": "stream",
     "text": [
      "[{'Name': 'Student'}, {'Name': 'Student'}, {'Name': 'Student'}, {'Name': 'Student'}, {'Name': 'Student'}, {'Name': 'Student'}, {'Name': 'Student'}, {'Name': 'Student'}, {'Name': 'Student'}, {'Name': 'Student'}, {'Name': 'Instructor'}, {'Name': 'Instructor'}]\n"
     ]
    }
   ],
   "source": [
    "'''Code from Riley'''\n",
    "student_dict = {}\n",
    "table = soup.find('table', {'id': 'directory'})\n",
    "rows = table.find('tbody').find_all('tr')\n",
    "people = []\n",
    "for row in rows:\n",
    "    person = {}\n",
    "#     print (row.find('a').text.strip())\n",
    "#     print (row.find('td').text)\n",
    "    person['Name'] = (row.find('td').text)\n",
    "    people.append(person)\n",
    "    \n",
    "print (people)    "
   ]
  },
  {
   "cell_type": "code",
   "execution_count": 102,
   "metadata": {},
   "outputs": [
    {
     "data": {
      "text/html": [
       "<div>\n",
       "<style>\n",
       "    .dataframe thead tr:only-child th {\n",
       "        text-align: right;\n",
       "    }\n",
       "\n",
       "    .dataframe thead th {\n",
       "        text-align: left;\n",
       "    }\n",
       "\n",
       "    .dataframe tbody tr th {\n",
       "        vertical-align: top;\n",
       "    }\n",
       "</style>\n",
       "<table border=\"1\" class=\"dataframe\">\n",
       "  <thead>\n",
       "    <tr style=\"text-align: right;\">\n",
       "      <th></th>\n",
       "      <th>Name</th>\n",
       "      <th>Role</th>\n",
       "    </tr>\n",
       "  </thead>\n",
       "  <tbody>\n",
       "    <tr>\n",
       "      <th>0</th>\n",
       "      <td>Praveen</td>\n",
       "      <td>Student</td>\n",
       "    </tr>\n",
       "    <tr>\n",
       "      <th>1</th>\n",
       "      <td>Fred</td>\n",
       "      <td>Student</td>\n",
       "    </tr>\n",
       "    <tr>\n",
       "      <th>2</th>\n",
       "      <td>Homer</td>\n",
       "      <td>Student</td>\n",
       "    </tr>\n",
       "    <tr>\n",
       "      <th>3</th>\n",
       "      <td>Kyle</td>\n",
       "      <td>Student</td>\n",
       "    </tr>\n",
       "    <tr>\n",
       "      <th>4</th>\n",
       "      <td>Sam</td>\n",
       "      <td>Student</td>\n",
       "    </tr>\n",
       "    <tr>\n",
       "      <th>5</th>\n",
       "      <td>Javier</td>\n",
       "      <td>Student</td>\n",
       "    </tr>\n",
       "    <tr>\n",
       "      <th>6</th>\n",
       "      <td>Nengkuan</td>\n",
       "      <td>Student</td>\n",
       "    </tr>\n",
       "    <tr>\n",
       "      <th>7</th>\n",
       "      <td>Kieth</td>\n",
       "      <td>Student</td>\n",
       "    </tr>\n",
       "    <tr>\n",
       "      <th>8</th>\n",
       "      <td>Bola</td>\n",
       "      <td>Student</td>\n",
       "    </tr>\n",
       "    <tr>\n",
       "      <th>9</th>\n",
       "      <td>Steve</td>\n",
       "      <td>Student</td>\n",
       "    </tr>\n",
       "    <tr>\n",
       "      <th>10</th>\n",
       "      <td>Nichole</td>\n",
       "      <td>Instructor</td>\n",
       "    </tr>\n",
       "    <tr>\n",
       "      <th>11</th>\n",
       "      <td>Riley</td>\n",
       "      <td>Instructor</td>\n",
       "    </tr>\n",
       "  </tbody>\n",
       "</table>\n",
       "</div>"
      ],
      "text/plain": [
       "        Name        Role\n",
       "0    Praveen     Student\n",
       "1       Fred     Student\n",
       "2      Homer     Student\n",
       "3       Kyle     Student\n",
       "4        Sam     Student\n",
       "5     Javier     Student\n",
       "6   Nengkuan     Student\n",
       "7      Kieth     Student\n",
       "8       Bola     Student\n",
       "9      Steve     Student\n",
       "10   Nichole  Instructor\n",
       "11     Riley  Instructor"
      ]
     },
     "execution_count": 102,
     "metadata": {},
     "output_type": "execute_result"
    }
   ],
   "source": [
    "'''Code from Riley'''\n",
    "\n",
    "table = soup.find('table', {'id': 'directory'})\n",
    "rows = table.find('tbody').find_all('tr')\n",
    "\n",
    "people = []\n",
    "\n",
    "for row in rows:\n",
    "    person = {}\n",
    "    person['Name'] = row.find('th').text.strip()\n",
    "    person['Role'] = row.find('td').text\n",
    "    people.append(person)\n",
    "pd.DataFrame(people)"
   ]
  },
  {
   "cell_type": "code",
   "execution_count": 109,
   "metadata": {},
   "outputs": [
    {
     "data": {
      "text/plain": [
       "{'href': 'mailto:praveen@ga.co'}"
      ]
     },
     "execution_count": 109,
     "metadata": {},
     "output_type": "execute_result"
    }
   ],
   "source": []
  },
  {
   "cell_type": "code",
   "execution_count": 108,
   "metadata": {},
   "outputs": [
    {
     "data": {
      "text/html": [
       "<div>\n",
       "<style>\n",
       "    .dataframe thead tr:only-child th {\n",
       "        text-align: right;\n",
       "    }\n",
       "\n",
       "    .dataframe thead th {\n",
       "        text-align: left;\n",
       "    }\n",
       "\n",
       "    .dataframe tbody tr th {\n",
       "        vertical-align: top;\n",
       "    }\n",
       "</style>\n",
       "<table border=\"1\" class=\"dataframe\">\n",
       "  <thead>\n",
       "    <tr style=\"text-align: right;\">\n",
       "      <th></th>\n",
       "      <th>Name</th>\n",
       "      <th>Role</th>\n",
       "    </tr>\n",
       "  </thead>\n",
       "  <tbody>\n",
       "    <tr>\n",
       "      <th>0</th>\n",
       "      <td>Praveen</td>\n",
       "      <td>Student</td>\n",
       "    </tr>\n",
       "    <tr>\n",
       "      <th>1</th>\n",
       "      <td>Fred</td>\n",
       "      <td>Student</td>\n",
       "    </tr>\n",
       "    <tr>\n",
       "      <th>2</th>\n",
       "      <td>Homer</td>\n",
       "      <td>Student</td>\n",
       "    </tr>\n",
       "    <tr>\n",
       "      <th>3</th>\n",
       "      <td>Kyle</td>\n",
       "      <td>Student</td>\n",
       "    </tr>\n",
       "    <tr>\n",
       "      <th>4</th>\n",
       "      <td>Sam</td>\n",
       "      <td>Student</td>\n",
       "    </tr>\n",
       "    <tr>\n",
       "      <th>5</th>\n",
       "      <td>Javier</td>\n",
       "      <td>Student</td>\n",
       "    </tr>\n",
       "    <tr>\n",
       "      <th>6</th>\n",
       "      <td>Nengkuan</td>\n",
       "      <td>Student</td>\n",
       "    </tr>\n",
       "    <tr>\n",
       "      <th>7</th>\n",
       "      <td>Kieth</td>\n",
       "      <td>Student</td>\n",
       "    </tr>\n",
       "    <tr>\n",
       "      <th>8</th>\n",
       "      <td>Bola</td>\n",
       "      <td>Student</td>\n",
       "    </tr>\n",
       "    <tr>\n",
       "      <th>9</th>\n",
       "      <td>Steve</td>\n",
       "      <td>Student</td>\n",
       "    </tr>\n",
       "    <tr>\n",
       "      <th>10</th>\n",
       "      <td>Nichole</td>\n",
       "      <td>Instructor</td>\n",
       "    </tr>\n",
       "    <tr>\n",
       "      <th>11</th>\n",
       "      <td>Riley</td>\n",
       "      <td>Instructor</td>\n",
       "    </tr>\n",
       "  </tbody>\n",
       "</table>\n",
       "</div>"
      ],
      "text/plain": [
       "        Name        Role\n",
       "0    Praveen     Student\n",
       "1       Fred     Student\n",
       "2      Homer     Student\n",
       "3       Kyle     Student\n",
       "4        Sam     Student\n",
       "5     Javier     Student\n",
       "6   Nengkuan     Student\n",
       "7      Kieth     Student\n",
       "8       Bola     Student\n",
       "9      Steve     Student\n",
       "10   Nichole  Instructor\n",
       "11     Riley  Instructor"
      ]
     },
     "execution_count": 108,
     "metadata": {},
     "output_type": "execute_result"
    }
   ],
   "source": [
    "'''Modified code by me (from Riley)'''\n",
    "\n",
    "\n",
    "table = soup.find('table', {'id': 'directory'})\n",
    "rows = table.find('tbody').find_all('tr')\n",
    "\n",
    "people = []\n",
    "\n",
    "for row in rows:\n",
    "    person = {}\n",
    "    person['Name'] = row.find('th').text.strip()\n",
    "    person['Role'] = row.find('td').text\n",
    "    people.append(person)\n",
    "pd.DataFrame(people)"
   ]
  },
  {
   "cell_type": "code",
   "execution_count": 127,
   "metadata": {},
   "outputs": [
    {
     "data": {
      "text/html": [
       "<div>\n",
       "<style>\n",
       "    .dataframe thead tr:only-child th {\n",
       "        text-align: right;\n",
       "    }\n",
       "\n",
       "    .dataframe thead th {\n",
       "        text-align: left;\n",
       "    }\n",
       "\n",
       "    .dataframe tbody tr th {\n",
       "        vertical-align: top;\n",
       "    }\n",
       "</style>\n",
       "<table border=\"1\" class=\"dataframe\">\n",
       "  <thead>\n",
       "    <tr style=\"text-align: right;\">\n",
       "      <th></th>\n",
       "      <th>Email</th>\n",
       "      <th>Name</th>\n",
       "      <th>Role</th>\n",
       "    </tr>\n",
       "  </thead>\n",
       "  <tbody>\n",
       "    <tr>\n",
       "      <th>0</th>\n",
       "      <td>praveen@ga.co</td>\n",
       "      <td>Praveen</td>\n",
       "      <td>Student</td>\n",
       "    </tr>\n",
       "    <tr>\n",
       "      <th>1</th>\n",
       "      <td>fred@ga.co</td>\n",
       "      <td>Fred</td>\n",
       "      <td>Student</td>\n",
       "    </tr>\n",
       "    <tr>\n",
       "      <th>2</th>\n",
       "      <td>homer@ga.co</td>\n",
       "      <td>Homer</td>\n",
       "      <td>Student</td>\n",
       "    </tr>\n",
       "    <tr>\n",
       "      <th>3</th>\n",
       "      <td>kyle@ga.co</td>\n",
       "      <td>Kyle</td>\n",
       "      <td>Student</td>\n",
       "    </tr>\n",
       "    <tr>\n",
       "      <th>4</th>\n",
       "      <td>sam@ga.co</td>\n",
       "      <td>Sam</td>\n",
       "      <td>Student</td>\n",
       "    </tr>\n",
       "    <tr>\n",
       "      <th>5</th>\n",
       "      <td>javier@ga.co</td>\n",
       "      <td>Javier</td>\n",
       "      <td>Student</td>\n",
       "    </tr>\n",
       "    <tr>\n",
       "      <th>6</th>\n",
       "      <td>nengkuan@ga.co</td>\n",
       "      <td>Nengkuan</td>\n",
       "      <td>Student</td>\n",
       "    </tr>\n",
       "    <tr>\n",
       "      <th>7</th>\n",
       "      <td>kieth@ga.co</td>\n",
       "      <td>Kieth</td>\n",
       "      <td>Student</td>\n",
       "    </tr>\n",
       "    <tr>\n",
       "      <th>8</th>\n",
       "      <td>bola@ga.co</td>\n",
       "      <td>Bola</td>\n",
       "      <td>Student</td>\n",
       "    </tr>\n",
       "    <tr>\n",
       "      <th>9</th>\n",
       "      <td>steve@ga.co</td>\n",
       "      <td>Steve</td>\n",
       "      <td>Student</td>\n",
       "    </tr>\n",
       "    <tr>\n",
       "      <th>10</th>\n",
       "      <td>nichole@ga.co</td>\n",
       "      <td>Nichole</td>\n",
       "      <td>Instructor</td>\n",
       "    </tr>\n",
       "    <tr>\n",
       "      <th>11</th>\n",
       "      <td>riley@ga.co</td>\n",
       "      <td>Riley</td>\n",
       "      <td>Instructor</td>\n",
       "    </tr>\n",
       "  </tbody>\n",
       "</table>\n",
       "</div>"
      ],
      "text/plain": [
       "             Email      Name        Role\n",
       "0    praveen@ga.co   Praveen     Student\n",
       "1       fred@ga.co      Fred     Student\n",
       "2      homer@ga.co     Homer     Student\n",
       "3       kyle@ga.co      Kyle     Student\n",
       "4        sam@ga.co       Sam     Student\n",
       "5     javier@ga.co    Javier     Student\n",
       "6   nengkuan@ga.co  Nengkuan     Student\n",
       "7      kieth@ga.co     Kieth     Student\n",
       "8       bola@ga.co      Bola     Student\n",
       "9      steve@ga.co     Steve     Student\n",
       "10   nichole@ga.co   Nichole  Instructor\n",
       "11     riley@ga.co     Riley  Instructor"
      ]
     },
     "execution_count": 127,
     "metadata": {},
     "output_type": "execute_result"
    }
   ],
   "source": [
    "'''Modified code by me (from Riley)'''\n",
    "\n",
    "\n",
    "table = soup.find('table', {'id': 'directory'})\n",
    "rows = table.find('tbody').find_all('tr')\n",
    "\n",
    "people = []\n",
    "\n",
    "for row in rows:\n",
    "    person = {}\n",
    "    person['Name'] = row.find('th').text.strip()\n",
    "    person['Role'] = row.find('td').text\n",
    "    person['Email'] = row.find('a').attrs['href'].split(':')[1]\n",
    "\n",
    "    people.append(person)\n",
    "pd.DataFrame(people)"
   ]
  },
  {
   "cell_type": "code",
   "execution_count": 128,
   "metadata": {},
   "outputs": [
    {
     "data": {
      "text/plain": [
       "{'href': 'mailto:praveen@ga.co'}"
      ]
     },
     "execution_count": 128,
     "metadata": {},
     "output_type": "execute_result"
    }
   ],
   "source": [
    "test = soup.find('a').attrs\n",
    "test"
   ]
  },
  {
   "cell_type": "code",
   "execution_count": 129,
   "metadata": {},
   "outputs": [
    {
     "data": {
      "text/plain": [
       "'praveen@ga.co'"
      ]
     },
     "execution_count": 129,
     "metadata": {},
     "output_type": "execute_result"
    }
   ],
   "source": [
    "test['href'].split(':')[1]"
   ]
  },
  {
   "cell_type": "code",
   "execution_count": 130,
   "metadata": {},
   "outputs": [],
   "source": [
    "res = requests.get('https://www.basketball-reference.com/')"
   ]
  },
  {
   "cell_type": "code",
   "execution_count": 132,
   "metadata": {},
   "outputs": [],
   "source": [
    "soup = bs.BeautifulSoup(res.content, 'lxml')"
   ]
  },
  {
   "cell_type": "code",
   "execution_count": 136,
   "metadata": {},
   "outputs": [
    {
     "data": {
      "text/plain": [
       "200"
      ]
     },
     "execution_count": 136,
     "metadata": {},
     "output_type": "execute_result"
    }
   ],
   "source": [
    "res.status_code"
   ]
  },
  {
   "cell_type": "code",
   "execution_count": 137,
   "metadata": {
    "collapsed": true
   },
   "outputs": [],
   "source": [
    "conferences = ['East', 'West']"
   ]
  },
  {
   "cell_type": "code",
   "execution_count": 140,
   "metadata": {
    "collapsed": true
   },
   "outputs": [],
   "source": [
    "table_e = soup.find('table', {'id': 'confs_standings_E'})\n",
    "table_w = soup.find('table', {'id': 'confs_standings_W'})"
   ]
  },
  {
   "cell_type": "code",
   "execution_count": 150,
   "metadata": {},
   "outputs": [],
   "source": [
    "# table_e_body = table_e.find('tbody').find_all('tr')\n",
    "# table_e_body"
   ]
  },
  {
   "cell_type": "code",
   "execution_count": 149,
   "metadata": {},
   "outputs": [],
   "source": [
    "# conferences = ['East', 'West']\n",
    "# conference = conferences[0]\n",
    "# conference\n",
    "# table = soup.find('table', {'id': 'confs_standings_{}'.format(conference[0])})\n",
    "# print(table)"
   ]
  },
  {
   "cell_type": "code",
   "execution_count": 174,
   "metadata": {},
   "outputs": [
    {
     "data": {
      "text/html": [
       "<div>\n",
       "<style>\n",
       "    .dataframe thead tr:only-child th {\n",
       "        text-align: right;\n",
       "    }\n",
       "\n",
       "    .dataframe thead th {\n",
       "        text-align: left;\n",
       "    }\n",
       "\n",
       "    .dataframe tbody tr th {\n",
       "        vertical-align: top;\n",
       "    }\n",
       "</style>\n",
       "<table border=\"1\" class=\"dataframe\">\n",
       "  <thead>\n",
       "    <tr style=\"text-align: right;\">\n",
       "      <th></th>\n",
       "      <th>Losses</th>\n",
       "      <th>Name</th>\n",
       "      <th>Rank</th>\n",
       "      <th>Slug</th>\n",
       "      <th>Win</th>\n",
       "    </tr>\n",
       "  </thead>\n",
       "  <tbody>\n",
       "    <tr>\n",
       "      <th>0</th>\n",
       "      <td>2</td>\n",
       "      <td>Boston Celtics</td>\n",
       "      <td>1</td>\n",
       "      <td>BOS</td>\n",
       "      <td>5</td>\n",
       "    </tr>\n",
       "    <tr>\n",
       "      <th>1</th>\n",
       "      <td>2</td>\n",
       "      <td>Orlando Magic</td>\n",
       "      <td>1</td>\n",
       "      <td>ORL</td>\n",
       "      <td>5</td>\n",
       "    </tr>\n",
       "    <tr>\n",
       "      <th>2</th>\n",
       "      <td>2</td>\n",
       "      <td>Washington Wizards</td>\n",
       "      <td>3</td>\n",
       "      <td>WAS</td>\n",
       "      <td>4</td>\n",
       "    </tr>\n",
       "    <tr>\n",
       "      <th>3</th>\n",
       "      <td>2</td>\n",
       "      <td>Toronto Raptors</td>\n",
       "      <td>3</td>\n",
       "      <td>TOR</td>\n",
       "      <td>4</td>\n",
       "    </tr>\n",
       "    <tr>\n",
       "      <th>4</th>\n",
       "      <td>3</td>\n",
       "      <td>Detroit Pistons</td>\n",
       "      <td>5</td>\n",
       "      <td>DET</td>\n",
       "      <td>5</td>\n",
       "    </tr>\n",
       "    <tr>\n",
       "      <th>5</th>\n",
       "      <td>3</td>\n",
       "      <td>Indiana Pacers</td>\n",
       "      <td>6</td>\n",
       "      <td>IND</td>\n",
       "      <td>4</td>\n",
       "    </tr>\n",
       "    <tr>\n",
       "      <th>6</th>\n",
       "      <td>3</td>\n",
       "      <td>Charlotte Hornets</td>\n",
       "      <td>6</td>\n",
       "      <td>CHO</td>\n",
       "      <td>4</td>\n",
       "    </tr>\n",
       "    <tr>\n",
       "      <th>7</th>\n",
       "      <td>3</td>\n",
       "      <td>Milwaukee Bucks</td>\n",
       "      <td>6</td>\n",
       "      <td>MIL</td>\n",
       "      <td>4</td>\n",
       "    </tr>\n",
       "    <tr>\n",
       "      <th>8</th>\n",
       "      <td>3</td>\n",
       "      <td>New York Knicks</td>\n",
       "      <td>9</td>\n",
       "      <td>NYK</td>\n",
       "      <td>3</td>\n",
       "    </tr>\n",
       "    <tr>\n",
       "      <th>9</th>\n",
       "      <td>4</td>\n",
       "      <td>Philadelphia 76ers</td>\n",
       "      <td>10</td>\n",
       "      <td>PHI</td>\n",
       "      <td>3</td>\n",
       "    </tr>\n",
       "    <tr>\n",
       "      <th>10</th>\n",
       "      <td>4</td>\n",
       "      <td>Cleveland Cavaliers</td>\n",
       "      <td>10</td>\n",
       "      <td>CLE</td>\n",
       "      <td>3</td>\n",
       "    </tr>\n",
       "    <tr>\n",
       "      <th>11</th>\n",
       "      <td>5</td>\n",
       "      <td>Brooklyn Nets</td>\n",
       "      <td>12</td>\n",
       "      <td>BRK</td>\n",
       "      <td>3</td>\n",
       "    </tr>\n",
       "    <tr>\n",
       "      <th>12</th>\n",
       "      <td>4</td>\n",
       "      <td>Miami Heat</td>\n",
       "      <td>13</td>\n",
       "      <td>MIA</td>\n",
       "      <td>2</td>\n",
       "    </tr>\n",
       "    <tr>\n",
       "      <th>13</th>\n",
       "      <td>4</td>\n",
       "      <td>Chicago Bulls</td>\n",
       "      <td>14</td>\n",
       "      <td>CHI</td>\n",
       "      <td>1</td>\n",
       "    </tr>\n",
       "    <tr>\n",
       "      <th>14</th>\n",
       "      <td>6</td>\n",
       "      <td>Atlanta Hawks</td>\n",
       "      <td>15</td>\n",
       "      <td>ATL</td>\n",
       "      <td>1</td>\n",
       "    </tr>\n",
       "    <tr>\n",
       "      <th>15</th>\n",
       "      <td>2</td>\n",
       "      <td>Memphis Grizzlies</td>\n",
       "      <td>1</td>\n",
       "      <td>MEM</td>\n",
       "      <td>5</td>\n",
       "    </tr>\n",
       "    <tr>\n",
       "      <th>16</th>\n",
       "      <td>2</td>\n",
       "      <td>Los Angeles Clippers</td>\n",
       "      <td>2</td>\n",
       "      <td>LAC</td>\n",
       "      <td>4</td>\n",
       "    </tr>\n",
       "    <tr>\n",
       "      <th>17</th>\n",
       "      <td>3</td>\n",
       "      <td>Houston Rockets</td>\n",
       "      <td>3</td>\n",
       "      <td>HOU</td>\n",
       "      <td>5</td>\n",
       "    </tr>\n",
       "    <tr>\n",
       "      <th>18</th>\n",
       "      <td>3</td>\n",
       "      <td>Golden State Warriors</td>\n",
       "      <td>3</td>\n",
       "      <td>GSW</td>\n",
       "      <td>5</td>\n",
       "    </tr>\n",
       "    <tr>\n",
       "      <th>19</th>\n",
       "      <td>3</td>\n",
       "      <td>San Antonio Spurs</td>\n",
       "      <td>5</td>\n",
       "      <td>SAS</td>\n",
       "      <td>4</td>\n",
       "    </tr>\n",
       "    <tr>\n",
       "      <th>20</th>\n",
       "      <td>3</td>\n",
       "      <td>Oklahoma City Thunder</td>\n",
       "      <td>5</td>\n",
       "      <td>OKC</td>\n",
       "      <td>4</td>\n",
       "    </tr>\n",
       "    <tr>\n",
       "      <th>21</th>\n",
       "      <td>3</td>\n",
       "      <td>Utah Jazz</td>\n",
       "      <td>5</td>\n",
       "      <td>UTA</td>\n",
       "      <td>4</td>\n",
       "    </tr>\n",
       "    <tr>\n",
       "      <th>22</th>\n",
       "      <td>3</td>\n",
       "      <td>Minnesota Timberwolves</td>\n",
       "      <td>5</td>\n",
       "      <td>MIN</td>\n",
       "      <td>4</td>\n",
       "    </tr>\n",
       "    <tr>\n",
       "      <th>23</th>\n",
       "      <td>3</td>\n",
       "      <td>Portland Trail Blazers</td>\n",
       "      <td>5</td>\n",
       "      <td>POR</td>\n",
       "      <td>4</td>\n",
       "    </tr>\n",
       "    <tr>\n",
       "      <th>24</th>\n",
       "      <td>4</td>\n",
       "      <td>Phoenix Suns</td>\n",
       "      <td>10</td>\n",
       "      <td>PHO</td>\n",
       "      <td>3</td>\n",
       "    </tr>\n",
       "    <tr>\n",
       "      <th>25</th>\n",
       "      <td>4</td>\n",
       "      <td>Denver Nuggets</td>\n",
       "      <td>10</td>\n",
       "      <td>DEN</td>\n",
       "      <td>3</td>\n",
       "    </tr>\n",
       "    <tr>\n",
       "      <th>26</th>\n",
       "      <td>4</td>\n",
       "      <td>New Orleans Pelicans</td>\n",
       "      <td>10</td>\n",
       "      <td>NOP</td>\n",
       "      <td>3</td>\n",
       "    </tr>\n",
       "    <tr>\n",
       "      <th>27</th>\n",
       "      <td>4</td>\n",
       "      <td>Los Angeles Lakers</td>\n",
       "      <td>10</td>\n",
       "      <td>LAL</td>\n",
       "      <td>3</td>\n",
       "    </tr>\n",
       "    <tr>\n",
       "      <th>28</th>\n",
       "      <td>6</td>\n",
       "      <td>Sacramento Kings</td>\n",
       "      <td>14</td>\n",
       "      <td>SAC</td>\n",
       "      <td>1</td>\n",
       "    </tr>\n",
       "    <tr>\n",
       "      <th>29</th>\n",
       "      <td>7</td>\n",
       "      <td>Dallas Mavericks</td>\n",
       "      <td>15</td>\n",
       "      <td>DAL</td>\n",
       "      <td>1</td>\n",
       "    </tr>\n",
       "  </tbody>\n",
       "</table>\n",
       "</div>"
      ],
      "text/plain": [
       "    Losses                    Name  Rank Slug  Win\n",
       "0        2          Boston Celtics     1  BOS    5\n",
       "1        2           Orlando Magic     1  ORL    5\n",
       "2        2      Washington Wizards     3  WAS    4\n",
       "3        2         Toronto Raptors     3  TOR    4\n",
       "4        3         Detroit Pistons     5  DET    5\n",
       "5        3          Indiana Pacers     6  IND    4\n",
       "6        3       Charlotte Hornets     6  CHO    4\n",
       "7        3         Milwaukee Bucks     6  MIL    4\n",
       "8        3         New York Knicks     9  NYK    3\n",
       "9        4      Philadelphia 76ers    10  PHI    3\n",
       "10       4     Cleveland Cavaliers    10  CLE    3\n",
       "11       5           Brooklyn Nets    12  BRK    3\n",
       "12       4              Miami Heat    13  MIA    2\n",
       "13       4           Chicago Bulls    14  CHI    1\n",
       "14       6           Atlanta Hawks    15  ATL    1\n",
       "15       2       Memphis Grizzlies     1  MEM    5\n",
       "16       2    Los Angeles Clippers     2  LAC    4\n",
       "17       3         Houston Rockets     3  HOU    5\n",
       "18       3   Golden State Warriors     3  GSW    5\n",
       "19       3       San Antonio Spurs     5  SAS    4\n",
       "20       3   Oklahoma City Thunder     5  OKC    4\n",
       "21       3               Utah Jazz     5  UTA    4\n",
       "22       3  Minnesota Timberwolves     5  MIN    4\n",
       "23       3  Portland Trail Blazers     5  POR    4\n",
       "24       4            Phoenix Suns    10  PHO    3\n",
       "25       4          Denver Nuggets    10  DEN    3\n",
       "26       4    New Orleans Pelicans    10  NOP    3\n",
       "27       4      Los Angeles Lakers    10  LAL    3\n",
       "28       6        Sacramento Kings    14  SAC    1\n",
       "29       7        Dallas Mavericks    15  DAL    1"
      ]
     },
     "execution_count": 174,
     "metadata": {},
     "output_type": "execute_result"
    }
   ],
   "source": [
    "'''Final Code'''\n",
    "conferences = ['East', 'West']\n",
    "teams = []\n",
    "\n",
    "# conference = conferences[0]\n",
    "for conference in conferences: \n",
    "\n",
    "    table = soup.find('table', {'id': 'confs_standings_{}'.format(conference[0])})\n",
    "    rows = table.find('tbody').find_all('tr')\n",
    "    for team_row in rows:\n",
    "        team = {}\n",
    "        team['Slug'] = team_row.find('a').text\n",
    "        team['Name'] = team_row.find('a').attrs['title']\n",
    "        team['Rank'] = int(team_row.find('span').text.strip()[1:-1])\n",
    "        team['Win'] = int(team_row.find('td', {'data-stat' : \"wins\"}).text.strip())\n",
    "        team['Losses'] = int(team_row.find('td', {'data-stat' : \"losses\"}).text.strip())\n",
    "\n",
    "\n",
    "\n",
    "        teams.append(team)\n",
    "pd.DataFrame(teams)"
   ]
  },
  {
   "cell_type": "code",
   "execution_count": null,
   "metadata": {
    "collapsed": true
   },
   "outputs": [],
   "source": []
  }
 ],
 "metadata": {
  "kernelspec": {
   "display_name": "Python 3",
   "language": "python",
   "name": "python3"
  },
  "language_info": {
   "codemirror_mode": {
    "name": "ipython",
    "version": 3
   },
   "file_extension": ".py",
   "mimetype": "text/x-python",
   "name": "python",
   "nbconvert_exporter": "python",
   "pygments_lexer": "ipython3",
   "version": "3.6.1"
  }
 },
 "nbformat": 4,
 "nbformat_minor": 2
}
